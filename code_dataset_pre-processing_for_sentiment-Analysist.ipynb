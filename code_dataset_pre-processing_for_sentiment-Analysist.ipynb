{
 "cells": [
  {
   "cell_type": "code",
   "execution_count": 1,
   "id": "1c2de0d9",
   "metadata": {},
   "outputs": [],
   "source": [
    "import pandas as pd\n",
    "import numpy as np"
   ]
  },
  {
   "cell_type": "code",
   "execution_count": 2,
   "id": "553f4e4f",
   "metadata": {},
   "outputs": [],
   "source": [
    "df1 = pd.read_csv('dataset 1.csv')\n",
    "df2 = pd.read_csv('dataset_review_tokped.csv')\n",
    "df3 = pd.read_csv('PRDECT-ID Dataset.csv')\n",
    "df4 = pd.read_csv('product_reviews_dirty.csv')"
   ]
  },
  {
   "cell_type": "markdown",
   "id": "6982a30a",
   "metadata": {},
   "source": [
    "## dataset 1"
   ]
  },
  {
   "cell_type": "code",
   "execution_count": 3,
   "id": "bacdeef4",
   "metadata": {},
   "outputs": [
    {
     "name": "stdout",
     "output_type": "stream",
     "text": [
      "<class 'pandas.core.frame.DataFrame'>\n",
      "RangeIndex: 1925 entries, 0 to 1924\n",
      "Data columns (total 11 columns):\n",
      " #   Column        Non-Null Count  Dtype \n",
      "---  ------        --------------  ----- \n",
      " 0   Unnamed: 0.1  1925 non-null   int64 \n",
      " 1   Unnamed: 0    1925 non-null   int64 \n",
      " 2   Ulasan        1925 non-null   object\n",
      " 3   Rating        1925 non-null   int64 \n",
      " 4   Kategori      1925 non-null   object\n",
      " 5   Nama Produk   1925 non-null   object\n",
      " 6   Id Produk     1925 non-null   int64 \n",
      " 7   Terjual       1925 non-null   object\n",
      " 8   Id_Toko       1925 non-null   int64 \n",
      " 9   Url           1925 non-null   object\n",
      " 10  label         1925 non-null   int64 \n",
      "dtypes: int64(6), object(5)\n",
      "memory usage: 165.6+ KB\n"
     ]
    }
   ],
   "source": [
    "df1.info()"
   ]
  },
  {
   "cell_type": "code",
   "execution_count": 4,
   "id": "74a33b5e",
   "metadata": {},
   "outputs": [
    {
     "data": {
      "text/plain": [
       "Kategori\n",
       "pertukangan    1024\n",
       "handphone       425\n",
       "fashion         193\n",
       "elektronik      188\n",
       "olahraga         95\n",
       "Name: count, dtype: int64"
      ]
     },
     "execution_count": 4,
     "metadata": {},
     "output_type": "execute_result"
    }
   ],
   "source": [
    "df1['Kategori'].value_counts()"
   ]
  },
  {
   "cell_type": "code",
   "execution_count": 61,
   "id": "ffd544fe",
   "metadata": {},
   "outputs": [
    {
     "data": {
      "application/vnd.microsoft.datawrangler.viewer.v0+json": {
       "columns": [
        {
         "name": "index",
         "rawType": "int64",
         "type": "integer"
        },
        {
         "name": "Unnamed: 0.1",
         "rawType": "int64",
         "type": "integer"
        },
        {
         "name": "Unnamed: 0",
         "rawType": "int64",
         "type": "integer"
        },
        {
         "name": "Ulasan",
         "rawType": "object",
         "type": "string"
        },
        {
         "name": "Rating",
         "rawType": "int64",
         "type": "integer"
        },
        {
         "name": "Kategori",
         "rawType": "object",
         "type": "string"
        },
        {
         "name": "Nama Produk",
         "rawType": "object",
         "type": "string"
        },
        {
         "name": "Id Produk",
         "rawType": "int64",
         "type": "integer"
        },
        {
         "name": "Terjual",
         "rawType": "object",
         "type": "string"
        },
        {
         "name": "Id_Toko",
         "rawType": "int64",
         "type": "integer"
        },
        {
         "name": "Url",
         "rawType": "object",
         "type": "string"
        },
        {
         "name": "label",
         "rawType": "int64",
         "type": "integer"
        }
       ],
       "conversionMethod": "pd.DataFrame",
       "ref": "3f69b4e7-91a1-4761-b9c3-1c1738386de2",
       "rows": [
        [
         "936",
         "11",
         "13",
         "Sayang produk yg datang di paking kurang rapi sehingga kebuka n isinya terhambur.  Saran klo mengirimkan isi paku tembak seperti ini di beri lakban dulu dikemasan pakunya baru di gabung kan dgn yg lain supaya tidak tercecer. Untuk kualitas barang seperinya bagus walau saya belum coba.  Terima kasih",
         "3",
         "pertukangan",
         "refill staples gun tacker manual isi paku tembak model bread nail 14mm",
         "316217334",
         "82",
         "231740",
         "https://www.tokopedia.com/rumahbajukita/refill-staples-gun-tacker-manual-isi-paku-tembak-model-bread-nail-14mm",
         "1"
        ],
        [
         "949",
         "24",
         "26",
         "Thanksssssssssssssss",
         "3",
         "pertukangan",
         "ISI REFILL Staple Stapel Straples Streples Staples Paku tembak GUN",
         "17740606",
         "48",
         "154386",
         "https://www.tokopedia.com/e-shop2wheel/isi-refill-staple-stapel-straples-streples-staples-paku-tembak-gun",
         "1"
        ],
        [
         "985",
         "60",
         "63",
         "Barang bagus, kualitas sesuai harga",
         "3",
         "pertukangan",
         "Isi Staples Tembak 8 mm best guard",
         "133507638",
         "545",
         "1461393",
         "https://www.tokopedia.com/timurjaya46/isi-staples-tembak-8-mm-best-guard",
         "1"
        ],
        [
         "993",
         "68",
         "72",
         "Ok lah.. sesuai denggan harga.",
         "3",
         "pertukangan",
         "Isi Staples Tembak 8 mm best guard",
         "133507638",
         "545",
         "1461393",
         "https://www.tokopedia.com/timurjaya46/isi-staples-tembak-8-mm-best-guard",
         "1"
        ],
        [
         "1025",
         "100",
         "105",
         "Barang sudah sampai.. terima kasih",
         "3",
         "pertukangan",
         "Isi Staples Tembak 8 mm best guard",
         "133507638",
         "545",
         "1461393",
         "https://www.tokopedia.com/timurjaya46/isi-staples-tembak-8-mm-best-guard",
         "1"
        ],
        [
         "1046",
         "121",
         "127",
         "Fast respon. Barang sesuai dengan di gambar",
         "3",
         "pertukangan",
         "steples tembak / staples tembak kenmaster PROMO MURAH staple gun",
         "88842566",
         "45",
         "1102298",
         "https://www.tokopedia.com/cahayabelawa/steples-tembak-staples-tembak-kenmaster-promo-murah-staple-gun",
         "1"
        ],
        [
         "1063",
         "138",
         "145",
         "Barang oke terima kasih",
         "3",
         "pertukangan",
         "Staple Gun / Staples Tembak / Staples Jok / Hekter MOLLAR 3 in 1",
         "209226141",
         "171",
         "580197",
         "https://www.tokopedia.com/hmhhardware/staple-gun-staples-tembak-staples-jok-hekter-mollar-3-in-1",
         "1"
        ],
        [
         "1070",
         "145",
         "152",
         "Sesuai deskripsi......lumayan lah buat pertama kali",
         "3",
         "pertukangan",
         "Staple Gun / Staples Tembak / Staples Jok / Hekter MOLLAR 3 in 1",
         "209226141",
         "171",
         "580197",
         "https://www.tokopedia.com/hmhhardware/staple-gun-staples-tembak-staples-jok-hekter-mollar-3-in-1",
         "1"
        ],
        [
         "1075",
         "150",
         "158",
         "Terima kasih seller barang baru sampai.tapi kurang teliti.mohon d perbaiki lg ya supaya gak tertukar no resinya dgn yg lain....",
         "3",
         "pertukangan",
         "Staple Gun / Staples Tembak / Staples Jok / Hekter MOLLAR 3 in 1",
         "209226141",
         "171",
         "580197",
         "https://www.tokopedia.com/hmhhardware/staple-gun-staples-tembak-staples-jok-hekter-mollar-3-in-1",
         "1"
        ],
        [
         "1100",
         "175",
         "183",
         "packing bagus barang sesuai diskripsi",
         "3",
         "pertukangan",
         "Staple Gun / Staples Tembak / Staples Jok / Hekter MOLLAR 3 in 1",
         "209226141",
         "171",
         "580197",
         "https://www.tokopedia.com/hmhhardware/staple-gun-staples-tembak-staples-jok-hekter-mollar-3-in-1",
         "1"
        ],
        [
         "1106",
         "181",
         "190",
         "terimakasih barang sudah sampai",
         "3",
         "pertukangan",
         "Staple Gun / Staples Tembak / Staples Jok / Hekter MOLLAR 3 in 1",
         "209226141",
         "171",
         "580197",
         "https://www.tokopedia.com/hmhhardware/staple-gun-staples-tembak-staples-jok-hekter-mollar-3-in-1",
         "1"
        ],
        [
         "1113",
         "188",
         "197",
         "barangnya kurang bagus atomnya gak masuk semua",
         "3",
         "pertukangan",
         "Staple Gun / Staples Tembak / Staples Jok / Hekter MOLLAR 3 in 1",
         "209226141",
         "171",
         "580197",
         "https://www.tokopedia.com/hmhhardware/staple-gun-staples-tembak-staples-jok-hekter-mollar-3-in-1",
         "1"
        ],
        [
         "1161",
         "236",
         "245",
         "terima kasih paket sudah di terima",
         "3",
         "pertukangan",
         "STAPLES GUN TNI-U 903 / STEPLES TEMBAK",
         "138300056",
         "45",
         "998837",
         "https://www.tokopedia.com/housesparepart/staples-gun-tni-u-903-steples-tembak",
         "1"
        ],
        [
         "1173",
         "248",
         "258",
         "Pengiriman Cepat, packing aman tp Isi staplesnya pada karatan semua, beli 2 box",
         "3",
         "pertukangan",
         "Isi / Refill Staples / Stapler Tembak / Steples / Gun Tacker 10mm",
         "55221811",
         "67",
         "452241",
         "https://www.tokopedia.com/cgrtools/isi-refill-staples-stapler-tembak-steples-gun-tacker-10mm",
         "1"
        ],
        [
         "1182",
         "257",
         "267",
         "isinya ada yg karat. produk sesuai gambar",
         "3",
         "pertukangan",
         "Isi / Refill Staples / Stapler Tembak / Steples / Gun Tacker 10mm",
         "55221811",
         "67",
         "452241",
         "https://www.tokopedia.com/cgrtools/isi-refill-staples-stapler-tembak-steples-gun-tacker-10mm",
         "1"
        ],
        [
         "1187",
         "262",
         "272",
         "barang dah sampai.. tapi sy salah tafsir, tak pikir 10mm utk lebarnya, ternyata kecil. ya sudahlah bisa buat yg lain. thx",
         "3",
         "pertukangan",
         "Isi / Refill Staples / Stapler Tembak / Steples / Gun Tacker 10mm",
         "55221811",
         "67",
         "452241",
         "https://www.tokopedia.com/cgrtools/isi-refill-staples-stapler-tembak-steples-gun-tacker-10mm",
         "1"
        ],
        [
         "1209",
         "284",
         "295",
         "Barang cocok dengan harapan ...",
         "3",
         "pertukangan",
         "Isi Refill Staples Jok Kulit Motor / Staple Gun",
         "139363396",
         "90",
         "1409714",
         "https://www.tokopedia.com/megalaris/isi-refill-staples-jok-kulit-motor-staple-gun",
         "1"
        ],
        [
         "1231",
         "306",
         "318",
         "blom kpake ga ccocok ama pluru nya trnyata",
         "3",
         "pertukangan",
         "Gun Tacker / Staples Tembak/ Staples Jok KANTYU",
         "131561673",
         "102",
         "480030",
         "https://www.tokopedia.com/gudangunik/gun-tacker-staples-tembak-staples-jok-kantyu",
         "1"
        ],
        [
         "1233",
         "308",
         "320",
         "terimakasih........................................................................................",
         "3",
         "pertukangan",
         "Gun Tacker / Staples Tembak/ Staples Jok KANTYU",
         "131561673",
         "102",
         "480030",
         "https://www.tokopedia.com/gudangunik/gun-tacker-staples-tembak-staples-jok-kantyu",
         "1"
        ],
        [
         "1247",
         "322",
         "334",
         "Sesuai gambar, sesuai kualitas dengan harga",
         "3",
         "pertukangan",
         "Gun Tacker / Staples Tembak/ Staples Jok KANTYU",
         "131561673",
         "102",
         "480030",
         "https://www.tokopedia.com/gudangunik/gun-tacker-staples-tembak-staples-jok-kantyu",
         "1"
        ],
        [
         "1253",
         "328",
         "340",
         "Bad response...ga ada jawaban setiap di tanya..sangat sangat silent seller",
         "3",
         "pertukangan",
         "Gun Tacker / Staples Tembak/ Staples Jok KANTYU",
         "131561673",
         "102",
         "480030",
         "https://www.tokopedia.com/gudangunik/gun-tacker-staples-tembak-staples-jok-kantyu",
         "1"
        ],
        [
         "1255",
         "330",
         "342",
         "respon kurang cepat.lain kali respon agak cepat.thanks",
         "3",
         "pertukangan",
         "Gun Tacker / Staples Tembak/ Staples Jok KANTYU",
         "131561673",
         "102",
         "480030",
         "https://www.tokopedia.com/gudangunik/gun-tacker-staples-tembak-staples-jok-kantyu",
         "1"
        ],
        [
         "1263",
         "338",
         "350",
         "ya lumayanlah buat dekorasi semoga awet ya,",
         "3",
         "pertukangan",
         "Gun Tacker / Staples Tembak/ Staples Jok KANTYU",
         "131561673",
         "102",
         "480030",
         "https://www.tokopedia.com/gudangunik/gun-tacker-staples-tembak-staples-jok-kantyu",
         "1"
        ],
        [
         "1264",
         "339",
         "351",
         "Harap informasi isi staples yg bagaimanakah yg cocok?",
         "3",
         "pertukangan",
         "Gun Tacker / Staples Tembak/ Staples Jok KANTYU",
         "131561673",
         "102",
         "480030",
         "https://www.tokopedia.com/gudangunik/gun-tacker-staples-tembak-staples-jok-kantyu",
         "1"
        ],
        [
         "1312",
         "387",
         "399",
         "Good response recomended seller tapi barangnya kurang bagus.",
         "3",
         "pertukangan",
         "Staple Gun / Staples Tembak / Staples Jok / Hekter MOLLAR 3 in 1",
         "68341458",
         "163",
         "969587",
         "https://www.tokopedia.com/cariperkakas/staple-gun-staples-tembak-staples-jok-hekter-mollar-3-in-1",
         "1"
        ],
        [
         "1355",
         "430",
         "443",
         "brg sdh sa.pai dan dicoba sdh ok",
         "3",
         "pertukangan",
         "Staple Gun / Staples Tembak / Staples Jok / Hekter MOLLAR 3 in 1",
         "68341458",
         "163",
         "969587",
         "https://www.tokopedia.com/cariperkakas/staple-gun-staples-tembak-staples-jok-hekter-mollar-3-in-1",
         "1"
        ],
        [
         "1385",
         "460",
         "473",
         "Barang kurang bagus, kadang staples ga keluar, agak kurang bagus",
         "3",
         "pertukangan",
         "Staple Gun / Staples Tembak / Staples Jok / Hekter MOLLAR 3 in 1",
         "207742987",
         "65",
         "847454",
         "https://www.tokopedia.com/perkasatangguh/staple-gun-staples-tembak-staples-jok-hekter-mollar-3-in-1",
         "1"
        ],
        [
         "1448",
         "523",
         "537",
         "Pengiriman kemarin terhambat.....",
         "3",
         "pertukangan",
         "GUN TACKLER ALAT HEKTAR TEMBAK STAPLES TEMBAK 3 IN 1 STEPLES STAPEL",
         "283978662",
         "68",
         "2778007",
         "https://www.tokopedia.com/hendrateknik/gun-tackler-alat-hektar-tembak-staples-tembak-3-in-1-steples-stapel",
         "1"
        ],
        [
         "1458",
         "533",
         "547",
         "Cukuppppppppppppppp.........  ..",
         "3",
         "pertukangan",
         "isi staples tembak 8mm 5000 pcs / isi steples 8 mm f1008",
         "67049824",
         "137",
         "296522",
         "https://www.tokopedia.com/belawashop/isi-staples-tembak-8mm-5000-pcs-isi-steples-8-mm-f1008",
         "1"
        ],
        [
         "1486",
         "561",
         "575",
         "barang sdh sesuai dgn deskripsi hanya saja pada saat diterima isinya sdh tdk utuh lagi (patah semua). tdk tau dari awal sdh seperti itu atau larena packingnya kurang aman. semoga kedepan dapat ditingkatkan lagi",
         "3",
         "pertukangan",
         "Paku Tembak - Isi Staples Gun Pneumatic F30",
         "189751447",
         "61",
         "264611",
         "https://www.tokopedia.com/untungteknik/paku-tembak-isi-staples-gun-pneumatic-f30",
         "1"
        ],
        [
         "1584",
         "659",
         "673",
         "Ukuran mak tertulis di product 14mm faktanya 8mm.",
         "3",
         "pertukangan",
         "staples tembak HOMASTER / steples tembak / staple gun BONUS ISI 600pcs",
         "89084141",
         "363",
         "1102298",
         "https://www.tokopedia.com/cahayabelawa/staples-tembak-homaster-steples-tembak-staple-gun-bonus-isi-600pcs",
         "1"
        ],
        [
         "1592",
         "667",
         "681",
         "pesan Homaster, Kenmaster yang dikirim, isi staples yg dikirim ternyata tidak cocok utk staplesnya, parrahnya lagi isinya gak ada yg jual di kota saya. nyesel beli disinu!",
         "3",
         "pertukangan",
         "staples tembak HOMASTER / steples tembak / staple gun BONUS ISI 600pcs",
         "89084141",
         "363",
         "1102298",
         "https://www.tokopedia.com/cahayabelawa/staples-tembak-homaster-steples-tembak-staple-gun-bonus-isi-600pcs",
         "1"
        ],
        [
         "1596",
         "671",
         "685",
         "maaf  baru bisa ngasih ulasan, barang sdh diterima dengan baik cuma kalau dipake ke benda keras kurang nancap walaupun sudah diseting, tapi oklah !",
         "3",
         "pertukangan",
         "staples tembak HOMASTER / steples tembak / staple gun BONUS ISI 600pcs",
         "89084141",
         "363",
         "1102298",
         "https://www.tokopedia.com/cahayabelawa/staples-tembak-homaster-steples-tembak-staple-gun-bonus-isi-600pcs",
         "1"
        ],
        [
         "1633",
         "708",
         "722",
         "tembakan nya mantap. lah....\nlain kali di cek dulu gan jual isi ulang staplesnya. biar sesuai dengan tembakannya.\nyg agan kirim ke saya isi ulangnya gx sesuai.\nsekali tembak keluarnya 2 staples.",
         "3",
         "pertukangan",
         "staples tembak HOMASTER / steples tembak / staple gun BONUS ISI 600pcs",
         "89084141",
         "363",
         "1102298",
         "https://www.tokopedia.com/cahayabelawa/staples-tembak-homaster-steples-tembak-staple-gun-bonus-isi-600pcs",
         "1"
        ],
        [
         "1643",
         "718",
         "732",
         "Tampak fisik ok, tp belum sempat dicoba.",
         "3",
         "pertukangan",
         "staples tembak HOMASTER / steples tembak / staple gun BONUS ISI 600pcs",
         "89084141",
         "363",
         "1102298",
         "https://www.tokopedia.com/cahayabelawa/staples-tembak-homaster-steples-tembak-staple-gun-bonus-isi-600pcs",
         "1"
        ],
        [
         "1738",
         "813",
         "828",
         "Barang cacat bos sampai sini.",
         "3",
         "pertukangan",
         "Staple Staples Steples Gun Tembak Kenmaster Gun Tacker 4 6 8mm",
         "213653744",
         "122",
         "1461393",
         "https://www.tokopedia.com/timurjaya46/staple-staples-steples-gun-tembak-kenmaster-gun-tacker-4-6-8mm",
         "1"
        ],
        [
         "1752",
         "827",
         "842",
         "powernya agak kurang dibanding yg sdh saya punya. tp gpp, emang harganya beda. yg ini bisa jadi cadangan. thanks",
         "3",
         "pertukangan",
         "Staple Staples Steples Gun Tembak Kenmaster Gun Tacker 4 6 8mm",
         "213653744",
         "122",
         "1461393",
         "https://www.tokopedia.com/timurjaya46/staple-staples-steples-gun-tembak-kenmaster-gun-tacker-4-6-8mm",
         "1"
        ],
        [
         "1766",
         "841",
         "858",
         "Ok..\nBerfungsi dngn baik.",
         "3",
         "pertukangan",
         "STAPLE GUN MOLLAR 3 WAY TACKER - STAPLES JOK TEMBAK HEKTER",
         "288306960",
         "148",
         "1477109",
         "https://www.tokopedia.com/juraganperkakas/staple-gun-mollar-3-way-tacker-staples-jok-tembak-hekter",
         "1"
        ],
        [
         "1798",
         "873",
         "893",
         "barang cukup memuaaskan lain kali beli lagi",
         "3",
         "pertukangan",
         "STAPLES TEMBAK MANUAL GUN TACKER RAPIDE R23 R-23",
         "33299012",
         "113",
         "262877",
         "https://www.tokopedia.com/semangatteknik/staples-tembak-manual-gun-tacker-rapide-r23-r-23",
         "1"
        ],
        [
         "1880",
         "955",
         "976",
         "Barang sdh saya trima tapi pusing carinya",
         "3",
         "pertukangan",
         "Staples Gun Tacker Mollar 3 in 1 / Staple Jok Tembak Hekter 3 Way",
         "221298191",
         "408",
         "1114588",
         "https://www.tokopedia.com/indahjayatools/staples-gun-tacker-mollar-3-in-1-staple-jok-tembak-hekter-3-way",
         "1"
        ],
        [
         "1924",
         "999",
         "1021",
         "Barang cukup bagus, Respon bagus. Tapi gak ada manualnya ya gan? Sdh sy cb gunakan. Utk Paku tipe Brad Nail cara pasangnya gmn? Sy cb selipin dipinggir aja bisa berfungsi, tp gak bisa dikeluarin lg sisanya, akhirnya sy tembakin sampe abis aja. Hatur nuhun.",
         "3",
         "pertukangan",
         "Staples Gun Tacker Mollar 3 in 1 / Staple Jok Tembak Hekter 3 Way",
         "221298191",
         "408",
         "1114588",
         "https://www.tokopedia.com/indahjayatools/staples-gun-tacker-mollar-3-in-1-staple-jok-tembak-hekter-3-way",
         "1"
        ]
       ],
       "shape": {
        "columns": 11,
        "rows": 41
       }
      },
      "text/html": [
       "<div>\n",
       "<style scoped>\n",
       "    .dataframe tbody tr th:only-of-type {\n",
       "        vertical-align: middle;\n",
       "    }\n",
       "\n",
       "    .dataframe tbody tr th {\n",
       "        vertical-align: top;\n",
       "    }\n",
       "\n",
       "    .dataframe thead th {\n",
       "        text-align: right;\n",
       "    }\n",
       "</style>\n",
       "<table border=\"1\" class=\"dataframe\">\n",
       "  <thead>\n",
       "    <tr style=\"text-align: right;\">\n",
       "      <th></th>\n",
       "      <th>Unnamed: 0.1</th>\n",
       "      <th>Unnamed: 0</th>\n",
       "      <th>Ulasan</th>\n",
       "      <th>Rating</th>\n",
       "      <th>Kategori</th>\n",
       "      <th>Nama Produk</th>\n",
       "      <th>Id Produk</th>\n",
       "      <th>Terjual</th>\n",
       "      <th>Id_Toko</th>\n",
       "      <th>Url</th>\n",
       "      <th>label</th>\n",
       "    </tr>\n",
       "  </thead>\n",
       "  <tbody>\n",
       "    <tr>\n",
       "      <th>936</th>\n",
       "      <td>11</td>\n",
       "      <td>13</td>\n",
       "      <td>Sayang produk yg datang di paking kurang rapi ...</td>\n",
       "      <td>3</td>\n",
       "      <td>pertukangan</td>\n",
       "      <td>refill staples gun tacker manual isi paku temb...</td>\n",
       "      <td>316217334</td>\n",
       "      <td>82</td>\n",
       "      <td>231740</td>\n",
       "      <td>https://www.tokopedia.com/rumahbajukita/refill...</td>\n",
       "      <td>1</td>\n",
       "    </tr>\n",
       "    <tr>\n",
       "      <th>949</th>\n",
       "      <td>24</td>\n",
       "      <td>26</td>\n",
       "      <td>Thanksssssssssssssss</td>\n",
       "      <td>3</td>\n",
       "      <td>pertukangan</td>\n",
       "      <td>ISI REFILL Staple Stapel Straples Streples Sta...</td>\n",
       "      <td>17740606</td>\n",
       "      <td>48</td>\n",
       "      <td>154386</td>\n",
       "      <td>https://www.tokopedia.com/e-shop2wheel/isi-ref...</td>\n",
       "      <td>1</td>\n",
       "    </tr>\n",
       "    <tr>\n",
       "      <th>985</th>\n",
       "      <td>60</td>\n",
       "      <td>63</td>\n",
       "      <td>Barang bagus, kualitas sesuai harga</td>\n",
       "      <td>3</td>\n",
       "      <td>pertukangan</td>\n",
       "      <td>Isi Staples Tembak 8 mm best guard</td>\n",
       "      <td>133507638</td>\n",
       "      <td>545</td>\n",
       "      <td>1461393</td>\n",
       "      <td>https://www.tokopedia.com/timurjaya46/isi-stap...</td>\n",
       "      <td>1</td>\n",
       "    </tr>\n",
       "    <tr>\n",
       "      <th>993</th>\n",
       "      <td>68</td>\n",
       "      <td>72</td>\n",
       "      <td>Ok lah.. sesuai denggan harga.</td>\n",
       "      <td>3</td>\n",
       "      <td>pertukangan</td>\n",
       "      <td>Isi Staples Tembak 8 mm best guard</td>\n",
       "      <td>133507638</td>\n",
       "      <td>545</td>\n",
       "      <td>1461393</td>\n",
       "      <td>https://www.tokopedia.com/timurjaya46/isi-stap...</td>\n",
       "      <td>1</td>\n",
       "    </tr>\n",
       "    <tr>\n",
       "      <th>1025</th>\n",
       "      <td>100</td>\n",
       "      <td>105</td>\n",
       "      <td>Barang sudah sampai.. terima kasih</td>\n",
       "      <td>3</td>\n",
       "      <td>pertukangan</td>\n",
       "      <td>Isi Staples Tembak 8 mm best guard</td>\n",
       "      <td>133507638</td>\n",
       "      <td>545</td>\n",
       "      <td>1461393</td>\n",
       "      <td>https://www.tokopedia.com/timurjaya46/isi-stap...</td>\n",
       "      <td>1</td>\n",
       "    </tr>\n",
       "    <tr>\n",
       "      <th>1046</th>\n",
       "      <td>121</td>\n",
       "      <td>127</td>\n",
       "      <td>Fast respon. Barang sesuai dengan di gambar</td>\n",
       "      <td>3</td>\n",
       "      <td>pertukangan</td>\n",
       "      <td>steples tembak / staples tembak kenmaster PROM...</td>\n",
       "      <td>88842566</td>\n",
       "      <td>45</td>\n",
       "      <td>1102298</td>\n",
       "      <td>https://www.tokopedia.com/cahayabelawa/steples...</td>\n",
       "      <td>1</td>\n",
       "    </tr>\n",
       "    <tr>\n",
       "      <th>1063</th>\n",
       "      <td>138</td>\n",
       "      <td>145</td>\n",
       "      <td>Barang oke terima kasih</td>\n",
       "      <td>3</td>\n",
       "      <td>pertukangan</td>\n",
       "      <td>Staple Gun / Staples Tembak / Staples Jok / He...</td>\n",
       "      <td>209226141</td>\n",
       "      <td>171</td>\n",
       "      <td>580197</td>\n",
       "      <td>https://www.tokopedia.com/hmhhardware/staple-g...</td>\n",
       "      <td>1</td>\n",
       "    </tr>\n",
       "    <tr>\n",
       "      <th>1070</th>\n",
       "      <td>145</td>\n",
       "      <td>152</td>\n",
       "      <td>Sesuai deskripsi......lumayan lah buat pertama...</td>\n",
       "      <td>3</td>\n",
       "      <td>pertukangan</td>\n",
       "      <td>Staple Gun / Staples Tembak / Staples Jok / He...</td>\n",
       "      <td>209226141</td>\n",
       "      <td>171</td>\n",
       "      <td>580197</td>\n",
       "      <td>https://www.tokopedia.com/hmhhardware/staple-g...</td>\n",
       "      <td>1</td>\n",
       "    </tr>\n",
       "    <tr>\n",
       "      <th>1075</th>\n",
       "      <td>150</td>\n",
       "      <td>158</td>\n",
       "      <td>Terima kasih seller barang baru sampai.tapi ku...</td>\n",
       "      <td>3</td>\n",
       "      <td>pertukangan</td>\n",
       "      <td>Staple Gun / Staples Tembak / Staples Jok / He...</td>\n",
       "      <td>209226141</td>\n",
       "      <td>171</td>\n",
       "      <td>580197</td>\n",
       "      <td>https://www.tokopedia.com/hmhhardware/staple-g...</td>\n",
       "      <td>1</td>\n",
       "    </tr>\n",
       "    <tr>\n",
       "      <th>1100</th>\n",
       "      <td>175</td>\n",
       "      <td>183</td>\n",
       "      <td>packing bagus barang sesuai diskripsi</td>\n",
       "      <td>3</td>\n",
       "      <td>pertukangan</td>\n",
       "      <td>Staple Gun / Staples Tembak / Staples Jok / He...</td>\n",
       "      <td>209226141</td>\n",
       "      <td>171</td>\n",
       "      <td>580197</td>\n",
       "      <td>https://www.tokopedia.com/hmhhardware/staple-g...</td>\n",
       "      <td>1</td>\n",
       "    </tr>\n",
       "    <tr>\n",
       "      <th>1106</th>\n",
       "      <td>181</td>\n",
       "      <td>190</td>\n",
       "      <td>terimakasih barang sudah sampai</td>\n",
       "      <td>3</td>\n",
       "      <td>pertukangan</td>\n",
       "      <td>Staple Gun / Staples Tembak / Staples Jok / He...</td>\n",
       "      <td>209226141</td>\n",
       "      <td>171</td>\n",
       "      <td>580197</td>\n",
       "      <td>https://www.tokopedia.com/hmhhardware/staple-g...</td>\n",
       "      <td>1</td>\n",
       "    </tr>\n",
       "    <tr>\n",
       "      <th>1113</th>\n",
       "      <td>188</td>\n",
       "      <td>197</td>\n",
       "      <td>barangnya kurang bagus atomnya gak masuk semua</td>\n",
       "      <td>3</td>\n",
       "      <td>pertukangan</td>\n",
       "      <td>Staple Gun / Staples Tembak / Staples Jok / He...</td>\n",
       "      <td>209226141</td>\n",
       "      <td>171</td>\n",
       "      <td>580197</td>\n",
       "      <td>https://www.tokopedia.com/hmhhardware/staple-g...</td>\n",
       "      <td>1</td>\n",
       "    </tr>\n",
       "    <tr>\n",
       "      <th>1161</th>\n",
       "      <td>236</td>\n",
       "      <td>245</td>\n",
       "      <td>terima kasih paket sudah di terima</td>\n",
       "      <td>3</td>\n",
       "      <td>pertukangan</td>\n",
       "      <td>STAPLES GUN TNI-U 903 / STEPLES TEMBAK</td>\n",
       "      <td>138300056</td>\n",
       "      <td>45</td>\n",
       "      <td>998837</td>\n",
       "      <td>https://www.tokopedia.com/housesparepart/stapl...</td>\n",
       "      <td>1</td>\n",
       "    </tr>\n",
       "    <tr>\n",
       "      <th>1173</th>\n",
       "      <td>248</td>\n",
       "      <td>258</td>\n",
       "      <td>Pengiriman Cepat, packing aman tp Isi staplesn...</td>\n",
       "      <td>3</td>\n",
       "      <td>pertukangan</td>\n",
       "      <td>Isi / Refill Staples / Stapler Tembak / Steple...</td>\n",
       "      <td>55221811</td>\n",
       "      <td>67</td>\n",
       "      <td>452241</td>\n",
       "      <td>https://www.tokopedia.com/cgrtools/isi-refill-...</td>\n",
       "      <td>1</td>\n",
       "    </tr>\n",
       "    <tr>\n",
       "      <th>1182</th>\n",
       "      <td>257</td>\n",
       "      <td>267</td>\n",
       "      <td>isinya ada yg karat. produk sesuai gambar</td>\n",
       "      <td>3</td>\n",
       "      <td>pertukangan</td>\n",
       "      <td>Isi / Refill Staples / Stapler Tembak / Steple...</td>\n",
       "      <td>55221811</td>\n",
       "      <td>67</td>\n",
       "      <td>452241</td>\n",
       "      <td>https://www.tokopedia.com/cgrtools/isi-refill-...</td>\n",
       "      <td>1</td>\n",
       "    </tr>\n",
       "    <tr>\n",
       "      <th>1187</th>\n",
       "      <td>262</td>\n",
       "      <td>272</td>\n",
       "      <td>barang dah sampai.. tapi sy salah tafsir, tak ...</td>\n",
       "      <td>3</td>\n",
       "      <td>pertukangan</td>\n",
       "      <td>Isi / Refill Staples / Stapler Tembak / Steple...</td>\n",
       "      <td>55221811</td>\n",
       "      <td>67</td>\n",
       "      <td>452241</td>\n",
       "      <td>https://www.tokopedia.com/cgrtools/isi-refill-...</td>\n",
       "      <td>1</td>\n",
       "    </tr>\n",
       "    <tr>\n",
       "      <th>1209</th>\n",
       "      <td>284</td>\n",
       "      <td>295</td>\n",
       "      <td>Barang cocok dengan harapan ...</td>\n",
       "      <td>3</td>\n",
       "      <td>pertukangan</td>\n",
       "      <td>Isi Refill Staples Jok Kulit Motor / Staple Gun</td>\n",
       "      <td>139363396</td>\n",
       "      <td>90</td>\n",
       "      <td>1409714</td>\n",
       "      <td>https://www.tokopedia.com/megalaris/isi-refill...</td>\n",
       "      <td>1</td>\n",
       "    </tr>\n",
       "    <tr>\n",
       "      <th>1231</th>\n",
       "      <td>306</td>\n",
       "      <td>318</td>\n",
       "      <td>blom kpake ga ccocok ama pluru nya trnyata</td>\n",
       "      <td>3</td>\n",
       "      <td>pertukangan</td>\n",
       "      <td>Gun Tacker / Staples Tembak/ Staples Jok KANTYU</td>\n",
       "      <td>131561673</td>\n",
       "      <td>102</td>\n",
       "      <td>480030</td>\n",
       "      <td>https://www.tokopedia.com/gudangunik/gun-tacke...</td>\n",
       "      <td>1</td>\n",
       "    </tr>\n",
       "    <tr>\n",
       "      <th>1233</th>\n",
       "      <td>308</td>\n",
       "      <td>320</td>\n",
       "      <td>terimakasih......................................</td>\n",
       "      <td>3</td>\n",
       "      <td>pertukangan</td>\n",
       "      <td>Gun Tacker / Staples Tembak/ Staples Jok KANTYU</td>\n",
       "      <td>131561673</td>\n",
       "      <td>102</td>\n",
       "      <td>480030</td>\n",
       "      <td>https://www.tokopedia.com/gudangunik/gun-tacke...</td>\n",
       "      <td>1</td>\n",
       "    </tr>\n",
       "    <tr>\n",
       "      <th>1247</th>\n",
       "      <td>322</td>\n",
       "      <td>334</td>\n",
       "      <td>Sesuai gambar, sesuai kualitas dengan harga</td>\n",
       "      <td>3</td>\n",
       "      <td>pertukangan</td>\n",
       "      <td>Gun Tacker / Staples Tembak/ Staples Jok KANTYU</td>\n",
       "      <td>131561673</td>\n",
       "      <td>102</td>\n",
       "      <td>480030</td>\n",
       "      <td>https://www.tokopedia.com/gudangunik/gun-tacke...</td>\n",
       "      <td>1</td>\n",
       "    </tr>\n",
       "    <tr>\n",
       "      <th>1253</th>\n",
       "      <td>328</td>\n",
       "      <td>340</td>\n",
       "      <td>Bad response...ga ada jawaban setiap di tanya....</td>\n",
       "      <td>3</td>\n",
       "      <td>pertukangan</td>\n",
       "      <td>Gun Tacker / Staples Tembak/ Staples Jok KANTYU</td>\n",
       "      <td>131561673</td>\n",
       "      <td>102</td>\n",
       "      <td>480030</td>\n",
       "      <td>https://www.tokopedia.com/gudangunik/gun-tacke...</td>\n",
       "      <td>1</td>\n",
       "    </tr>\n",
       "    <tr>\n",
       "      <th>1255</th>\n",
       "      <td>330</td>\n",
       "      <td>342</td>\n",
       "      <td>respon kurang cepat.lain kali respon agak cepa...</td>\n",
       "      <td>3</td>\n",
       "      <td>pertukangan</td>\n",
       "      <td>Gun Tacker / Staples Tembak/ Staples Jok KANTYU</td>\n",
       "      <td>131561673</td>\n",
       "      <td>102</td>\n",
       "      <td>480030</td>\n",
       "      <td>https://www.tokopedia.com/gudangunik/gun-tacke...</td>\n",
       "      <td>1</td>\n",
       "    </tr>\n",
       "    <tr>\n",
       "      <th>1263</th>\n",
       "      <td>338</td>\n",
       "      <td>350</td>\n",
       "      <td>ya lumayanlah buat dekorasi semoga awet ya,</td>\n",
       "      <td>3</td>\n",
       "      <td>pertukangan</td>\n",
       "      <td>Gun Tacker / Staples Tembak/ Staples Jok KANTYU</td>\n",
       "      <td>131561673</td>\n",
       "      <td>102</td>\n",
       "      <td>480030</td>\n",
       "      <td>https://www.tokopedia.com/gudangunik/gun-tacke...</td>\n",
       "      <td>1</td>\n",
       "    </tr>\n",
       "    <tr>\n",
       "      <th>1264</th>\n",
       "      <td>339</td>\n",
       "      <td>351</td>\n",
       "      <td>Harap informasi isi staples yg bagaimanakah yg...</td>\n",
       "      <td>3</td>\n",
       "      <td>pertukangan</td>\n",
       "      <td>Gun Tacker / Staples Tembak/ Staples Jok KANTYU</td>\n",
       "      <td>131561673</td>\n",
       "      <td>102</td>\n",
       "      <td>480030</td>\n",
       "      <td>https://www.tokopedia.com/gudangunik/gun-tacke...</td>\n",
       "      <td>1</td>\n",
       "    </tr>\n",
       "    <tr>\n",
       "      <th>1312</th>\n",
       "      <td>387</td>\n",
       "      <td>399</td>\n",
       "      <td>Good response recomended seller tapi barangnya...</td>\n",
       "      <td>3</td>\n",
       "      <td>pertukangan</td>\n",
       "      <td>Staple Gun / Staples Tembak / Staples Jok / He...</td>\n",
       "      <td>68341458</td>\n",
       "      <td>163</td>\n",
       "      <td>969587</td>\n",
       "      <td>https://www.tokopedia.com/cariperkakas/staple-...</td>\n",
       "      <td>1</td>\n",
       "    </tr>\n",
       "    <tr>\n",
       "      <th>1355</th>\n",
       "      <td>430</td>\n",
       "      <td>443</td>\n",
       "      <td>brg sdh sa.pai dan dicoba sdh ok</td>\n",
       "      <td>3</td>\n",
       "      <td>pertukangan</td>\n",
       "      <td>Staple Gun / Staples Tembak / Staples Jok / He...</td>\n",
       "      <td>68341458</td>\n",
       "      <td>163</td>\n",
       "      <td>969587</td>\n",
       "      <td>https://www.tokopedia.com/cariperkakas/staple-...</td>\n",
       "      <td>1</td>\n",
       "    </tr>\n",
       "    <tr>\n",
       "      <th>1385</th>\n",
       "      <td>460</td>\n",
       "      <td>473</td>\n",
       "      <td>Barang kurang bagus, kadang staples ga keluar,...</td>\n",
       "      <td>3</td>\n",
       "      <td>pertukangan</td>\n",
       "      <td>Staple Gun / Staples Tembak / Staples Jok / He...</td>\n",
       "      <td>207742987</td>\n",
       "      <td>65</td>\n",
       "      <td>847454</td>\n",
       "      <td>https://www.tokopedia.com/perkasatangguh/stapl...</td>\n",
       "      <td>1</td>\n",
       "    </tr>\n",
       "    <tr>\n",
       "      <th>1448</th>\n",
       "      <td>523</td>\n",
       "      <td>537</td>\n",
       "      <td>Pengiriman kemarin terhambat.....</td>\n",
       "      <td>3</td>\n",
       "      <td>pertukangan</td>\n",
       "      <td>GUN TACKLER ALAT HEKTAR TEMBAK STAPLES TEMBAK ...</td>\n",
       "      <td>283978662</td>\n",
       "      <td>68</td>\n",
       "      <td>2778007</td>\n",
       "      <td>https://www.tokopedia.com/hendrateknik/gun-tac...</td>\n",
       "      <td>1</td>\n",
       "    </tr>\n",
       "    <tr>\n",
       "      <th>1458</th>\n",
       "      <td>533</td>\n",
       "      <td>547</td>\n",
       "      <td>Cukuppppppppppppppp.........  ..</td>\n",
       "      <td>3</td>\n",
       "      <td>pertukangan</td>\n",
       "      <td>isi staples tembak 8mm 5000 pcs / isi steples ...</td>\n",
       "      <td>67049824</td>\n",
       "      <td>137</td>\n",
       "      <td>296522</td>\n",
       "      <td>https://www.tokopedia.com/belawashop/isi-stapl...</td>\n",
       "      <td>1</td>\n",
       "    </tr>\n",
       "    <tr>\n",
       "      <th>1486</th>\n",
       "      <td>561</td>\n",
       "      <td>575</td>\n",
       "      <td>barang sdh sesuai dgn deskripsi hanya saja pad...</td>\n",
       "      <td>3</td>\n",
       "      <td>pertukangan</td>\n",
       "      <td>Paku Tembak - Isi Staples Gun Pneumatic F30</td>\n",
       "      <td>189751447</td>\n",
       "      <td>61</td>\n",
       "      <td>264611</td>\n",
       "      <td>https://www.tokopedia.com/untungteknik/paku-te...</td>\n",
       "      <td>1</td>\n",
       "    </tr>\n",
       "    <tr>\n",
       "      <th>1584</th>\n",
       "      <td>659</td>\n",
       "      <td>673</td>\n",
       "      <td>Ukuran mak tertulis di product 14mm faktanya 8mm.</td>\n",
       "      <td>3</td>\n",
       "      <td>pertukangan</td>\n",
       "      <td>staples tembak HOMASTER / steples tembak / sta...</td>\n",
       "      <td>89084141</td>\n",
       "      <td>363</td>\n",
       "      <td>1102298</td>\n",
       "      <td>https://www.tokopedia.com/cahayabelawa/staples...</td>\n",
       "      <td>1</td>\n",
       "    </tr>\n",
       "    <tr>\n",
       "      <th>1592</th>\n",
       "      <td>667</td>\n",
       "      <td>681</td>\n",
       "      <td>pesan Homaster, Kenmaster yang dikirim, isi st...</td>\n",
       "      <td>3</td>\n",
       "      <td>pertukangan</td>\n",
       "      <td>staples tembak HOMASTER / steples tembak / sta...</td>\n",
       "      <td>89084141</td>\n",
       "      <td>363</td>\n",
       "      <td>1102298</td>\n",
       "      <td>https://www.tokopedia.com/cahayabelawa/staples...</td>\n",
       "      <td>1</td>\n",
       "    </tr>\n",
       "    <tr>\n",
       "      <th>1596</th>\n",
       "      <td>671</td>\n",
       "      <td>685</td>\n",
       "      <td>maaf  baru bisa ngasih ulasan, barang sdh dite...</td>\n",
       "      <td>3</td>\n",
       "      <td>pertukangan</td>\n",
       "      <td>staples tembak HOMASTER / steples tembak / sta...</td>\n",
       "      <td>89084141</td>\n",
       "      <td>363</td>\n",
       "      <td>1102298</td>\n",
       "      <td>https://www.tokopedia.com/cahayabelawa/staples...</td>\n",
       "      <td>1</td>\n",
       "    </tr>\n",
       "    <tr>\n",
       "      <th>1633</th>\n",
       "      <td>708</td>\n",
       "      <td>722</td>\n",
       "      <td>tembakan nya mantap. lah....\\nlain kali di cek...</td>\n",
       "      <td>3</td>\n",
       "      <td>pertukangan</td>\n",
       "      <td>staples tembak HOMASTER / steples tembak / sta...</td>\n",
       "      <td>89084141</td>\n",
       "      <td>363</td>\n",
       "      <td>1102298</td>\n",
       "      <td>https://www.tokopedia.com/cahayabelawa/staples...</td>\n",
       "      <td>1</td>\n",
       "    </tr>\n",
       "    <tr>\n",
       "      <th>1643</th>\n",
       "      <td>718</td>\n",
       "      <td>732</td>\n",
       "      <td>Tampak fisik ok, tp belum sempat dicoba.</td>\n",
       "      <td>3</td>\n",
       "      <td>pertukangan</td>\n",
       "      <td>staples tembak HOMASTER / steples tembak / sta...</td>\n",
       "      <td>89084141</td>\n",
       "      <td>363</td>\n",
       "      <td>1102298</td>\n",
       "      <td>https://www.tokopedia.com/cahayabelawa/staples...</td>\n",
       "      <td>1</td>\n",
       "    </tr>\n",
       "    <tr>\n",
       "      <th>1738</th>\n",
       "      <td>813</td>\n",
       "      <td>828</td>\n",
       "      <td>Barang cacat bos sampai sini.</td>\n",
       "      <td>3</td>\n",
       "      <td>pertukangan</td>\n",
       "      <td>Staple Staples Steples Gun Tembak Kenmaster Gu...</td>\n",
       "      <td>213653744</td>\n",
       "      <td>122</td>\n",
       "      <td>1461393</td>\n",
       "      <td>https://www.tokopedia.com/timurjaya46/staple-s...</td>\n",
       "      <td>1</td>\n",
       "    </tr>\n",
       "    <tr>\n",
       "      <th>1752</th>\n",
       "      <td>827</td>\n",
       "      <td>842</td>\n",
       "      <td>powernya agak kurang dibanding yg sdh saya pun...</td>\n",
       "      <td>3</td>\n",
       "      <td>pertukangan</td>\n",
       "      <td>Staple Staples Steples Gun Tembak Kenmaster Gu...</td>\n",
       "      <td>213653744</td>\n",
       "      <td>122</td>\n",
       "      <td>1461393</td>\n",
       "      <td>https://www.tokopedia.com/timurjaya46/staple-s...</td>\n",
       "      <td>1</td>\n",
       "    </tr>\n",
       "    <tr>\n",
       "      <th>1766</th>\n",
       "      <td>841</td>\n",
       "      <td>858</td>\n",
       "      <td>Ok..\\nBerfungsi dngn baik.</td>\n",
       "      <td>3</td>\n",
       "      <td>pertukangan</td>\n",
       "      <td>STAPLE GUN MOLLAR 3 WAY TACKER - STAPLES JOK T...</td>\n",
       "      <td>288306960</td>\n",
       "      <td>148</td>\n",
       "      <td>1477109</td>\n",
       "      <td>https://www.tokopedia.com/juraganperkakas/stap...</td>\n",
       "      <td>1</td>\n",
       "    </tr>\n",
       "    <tr>\n",
       "      <th>1798</th>\n",
       "      <td>873</td>\n",
       "      <td>893</td>\n",
       "      <td>barang cukup memuaaskan lain kali beli lagi</td>\n",
       "      <td>3</td>\n",
       "      <td>pertukangan</td>\n",
       "      <td>STAPLES TEMBAK MANUAL GUN TACKER RAPIDE R23 R-23</td>\n",
       "      <td>33299012</td>\n",
       "      <td>113</td>\n",
       "      <td>262877</td>\n",
       "      <td>https://www.tokopedia.com/semangatteknik/stapl...</td>\n",
       "      <td>1</td>\n",
       "    </tr>\n",
       "    <tr>\n",
       "      <th>1880</th>\n",
       "      <td>955</td>\n",
       "      <td>976</td>\n",
       "      <td>Barang sdh saya trima tapi pusing carinya</td>\n",
       "      <td>3</td>\n",
       "      <td>pertukangan</td>\n",
       "      <td>Staples Gun Tacker Mollar 3 in 1 / Staple Jok ...</td>\n",
       "      <td>221298191</td>\n",
       "      <td>408</td>\n",
       "      <td>1114588</td>\n",
       "      <td>https://www.tokopedia.com/indahjayatools/stapl...</td>\n",
       "      <td>1</td>\n",
       "    </tr>\n",
       "    <tr>\n",
       "      <th>1924</th>\n",
       "      <td>999</td>\n",
       "      <td>1021</td>\n",
       "      <td>Barang cukup bagus, Respon bagus. Tapi gak ada...</td>\n",
       "      <td>3</td>\n",
       "      <td>pertukangan</td>\n",
       "      <td>Staples Gun Tacker Mollar 3 in 1 / Staple Jok ...</td>\n",
       "      <td>221298191</td>\n",
       "      <td>408</td>\n",
       "      <td>1114588</td>\n",
       "      <td>https://www.tokopedia.com/indahjayatools/stapl...</td>\n",
       "      <td>1</td>\n",
       "    </tr>\n",
       "  </tbody>\n",
       "</table>\n",
       "</div>"
      ],
      "text/plain": [
       "      Unnamed: 0.1  Unnamed: 0  \\\n",
       "936             11          13   \n",
       "949             24          26   \n",
       "985             60          63   \n",
       "993             68          72   \n",
       "1025           100         105   \n",
       "1046           121         127   \n",
       "1063           138         145   \n",
       "1070           145         152   \n",
       "1075           150         158   \n",
       "1100           175         183   \n",
       "1106           181         190   \n",
       "1113           188         197   \n",
       "1161           236         245   \n",
       "1173           248         258   \n",
       "1182           257         267   \n",
       "1187           262         272   \n",
       "1209           284         295   \n",
       "1231           306         318   \n",
       "1233           308         320   \n",
       "1247           322         334   \n",
       "1253           328         340   \n",
       "1255           330         342   \n",
       "1263           338         350   \n",
       "1264           339         351   \n",
       "1312           387         399   \n",
       "1355           430         443   \n",
       "1385           460         473   \n",
       "1448           523         537   \n",
       "1458           533         547   \n",
       "1486           561         575   \n",
       "1584           659         673   \n",
       "1592           667         681   \n",
       "1596           671         685   \n",
       "1633           708         722   \n",
       "1643           718         732   \n",
       "1738           813         828   \n",
       "1752           827         842   \n",
       "1766           841         858   \n",
       "1798           873         893   \n",
       "1880           955         976   \n",
       "1924           999        1021   \n",
       "\n",
       "                                                 Ulasan  Rating     Kategori  \\\n",
       "936   Sayang produk yg datang di paking kurang rapi ...       3  pertukangan   \n",
       "949                                Thanksssssssssssssss       3  pertukangan   \n",
       "985                 Barang bagus, kualitas sesuai harga       3  pertukangan   \n",
       "993                      Ok lah.. sesuai denggan harga.       3  pertukangan   \n",
       "1025                 Barang sudah sampai.. terima kasih       3  pertukangan   \n",
       "1046        Fast respon. Barang sesuai dengan di gambar       3  pertukangan   \n",
       "1063                            Barang oke terima kasih       3  pertukangan   \n",
       "1070  Sesuai deskripsi......lumayan lah buat pertama...       3  pertukangan   \n",
       "1075  Terima kasih seller barang baru sampai.tapi ku...       3  pertukangan   \n",
       "1100              packing bagus barang sesuai diskripsi       3  pertukangan   \n",
       "1106                    terimakasih barang sudah sampai       3  pertukangan   \n",
       "1113     barangnya kurang bagus atomnya gak masuk semua       3  pertukangan   \n",
       "1161                 terima kasih paket sudah di terima       3  pertukangan   \n",
       "1173  Pengiriman Cepat, packing aman tp Isi staplesn...       3  pertukangan   \n",
       "1182          isinya ada yg karat. produk sesuai gambar       3  pertukangan   \n",
       "1187  barang dah sampai.. tapi sy salah tafsir, tak ...       3  pertukangan   \n",
       "1209                    Barang cocok dengan harapan ...       3  pertukangan   \n",
       "1231         blom kpake ga ccocok ama pluru nya trnyata       3  pertukangan   \n",
       "1233  terimakasih......................................       3  pertukangan   \n",
       "1247        Sesuai gambar, sesuai kualitas dengan harga       3  pertukangan   \n",
       "1253  Bad response...ga ada jawaban setiap di tanya....       3  pertukangan   \n",
       "1255  respon kurang cepat.lain kali respon agak cepa...       3  pertukangan   \n",
       "1263        ya lumayanlah buat dekorasi semoga awet ya,       3  pertukangan   \n",
       "1264  Harap informasi isi staples yg bagaimanakah yg...       3  pertukangan   \n",
       "1312  Good response recomended seller tapi barangnya...       3  pertukangan   \n",
       "1355                   brg sdh sa.pai dan dicoba sdh ok       3  pertukangan   \n",
       "1385  Barang kurang bagus, kadang staples ga keluar,...       3  pertukangan   \n",
       "1448                  Pengiriman kemarin terhambat.....       3  pertukangan   \n",
       "1458                   Cukuppppppppppppppp.........  ..       3  pertukangan   \n",
       "1486  barang sdh sesuai dgn deskripsi hanya saja pad...       3  pertukangan   \n",
       "1584  Ukuran mak tertulis di product 14mm faktanya 8mm.       3  pertukangan   \n",
       "1592  pesan Homaster, Kenmaster yang dikirim, isi st...       3  pertukangan   \n",
       "1596  maaf  baru bisa ngasih ulasan, barang sdh dite...       3  pertukangan   \n",
       "1633  tembakan nya mantap. lah....\\nlain kali di cek...       3  pertukangan   \n",
       "1643           Tampak fisik ok, tp belum sempat dicoba.       3  pertukangan   \n",
       "1738                      Barang cacat bos sampai sini.       3  pertukangan   \n",
       "1752  powernya agak kurang dibanding yg sdh saya pun...       3  pertukangan   \n",
       "1766                         Ok..\\nBerfungsi dngn baik.       3  pertukangan   \n",
       "1798        barang cukup memuaaskan lain kali beli lagi       3  pertukangan   \n",
       "1880          Barang sdh saya trima tapi pusing carinya       3  pertukangan   \n",
       "1924  Barang cukup bagus, Respon bagus. Tapi gak ada...       3  pertukangan   \n",
       "\n",
       "                                            Nama Produk  Id Produk Terjual  \\\n",
       "936   refill staples gun tacker manual isi paku temb...  316217334      82   \n",
       "949   ISI REFILL Staple Stapel Straples Streples Sta...   17740606      48   \n",
       "985                  Isi Staples Tembak 8 mm best guard  133507638     545   \n",
       "993                  Isi Staples Tembak 8 mm best guard  133507638     545   \n",
       "1025                 Isi Staples Tembak 8 mm best guard  133507638     545   \n",
       "1046  steples tembak / staples tembak kenmaster PROM...   88842566      45   \n",
       "1063  Staple Gun / Staples Tembak / Staples Jok / He...  209226141     171   \n",
       "1070  Staple Gun / Staples Tembak / Staples Jok / He...  209226141     171   \n",
       "1075  Staple Gun / Staples Tembak / Staples Jok / He...  209226141     171   \n",
       "1100  Staple Gun / Staples Tembak / Staples Jok / He...  209226141     171   \n",
       "1106  Staple Gun / Staples Tembak / Staples Jok / He...  209226141     171   \n",
       "1113  Staple Gun / Staples Tembak / Staples Jok / He...  209226141     171   \n",
       "1161             STAPLES GUN TNI-U 903 / STEPLES TEMBAK  138300056      45   \n",
       "1173  Isi / Refill Staples / Stapler Tembak / Steple...   55221811      67   \n",
       "1182  Isi / Refill Staples / Stapler Tembak / Steple...   55221811      67   \n",
       "1187  Isi / Refill Staples / Stapler Tembak / Steple...   55221811      67   \n",
       "1209    Isi Refill Staples Jok Kulit Motor / Staple Gun  139363396      90   \n",
       "1231    Gun Tacker / Staples Tembak/ Staples Jok KANTYU  131561673     102   \n",
       "1233    Gun Tacker / Staples Tembak/ Staples Jok KANTYU  131561673     102   \n",
       "1247    Gun Tacker / Staples Tembak/ Staples Jok KANTYU  131561673     102   \n",
       "1253    Gun Tacker / Staples Tembak/ Staples Jok KANTYU  131561673     102   \n",
       "1255    Gun Tacker / Staples Tembak/ Staples Jok KANTYU  131561673     102   \n",
       "1263    Gun Tacker / Staples Tembak/ Staples Jok KANTYU  131561673     102   \n",
       "1264    Gun Tacker / Staples Tembak/ Staples Jok KANTYU  131561673     102   \n",
       "1312  Staple Gun / Staples Tembak / Staples Jok / He...   68341458     163   \n",
       "1355  Staple Gun / Staples Tembak / Staples Jok / He...   68341458     163   \n",
       "1385  Staple Gun / Staples Tembak / Staples Jok / He...  207742987      65   \n",
       "1448  GUN TACKLER ALAT HEKTAR TEMBAK STAPLES TEMBAK ...  283978662      68   \n",
       "1458  isi staples tembak 8mm 5000 pcs / isi steples ...   67049824     137   \n",
       "1486        Paku Tembak - Isi Staples Gun Pneumatic F30  189751447      61   \n",
       "1584  staples tembak HOMASTER / steples tembak / sta...   89084141     363   \n",
       "1592  staples tembak HOMASTER / steples tembak / sta...   89084141     363   \n",
       "1596  staples tembak HOMASTER / steples tembak / sta...   89084141     363   \n",
       "1633  staples tembak HOMASTER / steples tembak / sta...   89084141     363   \n",
       "1643  staples tembak HOMASTER / steples tembak / sta...   89084141     363   \n",
       "1738  Staple Staples Steples Gun Tembak Kenmaster Gu...  213653744     122   \n",
       "1752  Staple Staples Steples Gun Tembak Kenmaster Gu...  213653744     122   \n",
       "1766  STAPLE GUN MOLLAR 3 WAY TACKER - STAPLES JOK T...  288306960     148   \n",
       "1798   STAPLES TEMBAK MANUAL GUN TACKER RAPIDE R23 R-23   33299012     113   \n",
       "1880  Staples Gun Tacker Mollar 3 in 1 / Staple Jok ...  221298191     408   \n",
       "1924  Staples Gun Tacker Mollar 3 in 1 / Staple Jok ...  221298191     408   \n",
       "\n",
       "      Id_Toko                                                Url  label  \n",
       "936    231740  https://www.tokopedia.com/rumahbajukita/refill...      1  \n",
       "949    154386  https://www.tokopedia.com/e-shop2wheel/isi-ref...      1  \n",
       "985   1461393  https://www.tokopedia.com/timurjaya46/isi-stap...      1  \n",
       "993   1461393  https://www.tokopedia.com/timurjaya46/isi-stap...      1  \n",
       "1025  1461393  https://www.tokopedia.com/timurjaya46/isi-stap...      1  \n",
       "1046  1102298  https://www.tokopedia.com/cahayabelawa/steples...      1  \n",
       "1063   580197  https://www.tokopedia.com/hmhhardware/staple-g...      1  \n",
       "1070   580197  https://www.tokopedia.com/hmhhardware/staple-g...      1  \n",
       "1075   580197  https://www.tokopedia.com/hmhhardware/staple-g...      1  \n",
       "1100   580197  https://www.tokopedia.com/hmhhardware/staple-g...      1  \n",
       "1106   580197  https://www.tokopedia.com/hmhhardware/staple-g...      1  \n",
       "1113   580197  https://www.tokopedia.com/hmhhardware/staple-g...      1  \n",
       "1161   998837  https://www.tokopedia.com/housesparepart/stapl...      1  \n",
       "1173   452241  https://www.tokopedia.com/cgrtools/isi-refill-...      1  \n",
       "1182   452241  https://www.tokopedia.com/cgrtools/isi-refill-...      1  \n",
       "1187   452241  https://www.tokopedia.com/cgrtools/isi-refill-...      1  \n",
       "1209  1409714  https://www.tokopedia.com/megalaris/isi-refill...      1  \n",
       "1231   480030  https://www.tokopedia.com/gudangunik/gun-tacke...      1  \n",
       "1233   480030  https://www.tokopedia.com/gudangunik/gun-tacke...      1  \n",
       "1247   480030  https://www.tokopedia.com/gudangunik/gun-tacke...      1  \n",
       "1253   480030  https://www.tokopedia.com/gudangunik/gun-tacke...      1  \n",
       "1255   480030  https://www.tokopedia.com/gudangunik/gun-tacke...      1  \n",
       "1263   480030  https://www.tokopedia.com/gudangunik/gun-tacke...      1  \n",
       "1264   480030  https://www.tokopedia.com/gudangunik/gun-tacke...      1  \n",
       "1312   969587  https://www.tokopedia.com/cariperkakas/staple-...      1  \n",
       "1355   969587  https://www.tokopedia.com/cariperkakas/staple-...      1  \n",
       "1385   847454  https://www.tokopedia.com/perkasatangguh/stapl...      1  \n",
       "1448  2778007  https://www.tokopedia.com/hendrateknik/gun-tac...      1  \n",
       "1458   296522  https://www.tokopedia.com/belawashop/isi-stapl...      1  \n",
       "1486   264611  https://www.tokopedia.com/untungteknik/paku-te...      1  \n",
       "1584  1102298  https://www.tokopedia.com/cahayabelawa/staples...      1  \n",
       "1592  1102298  https://www.tokopedia.com/cahayabelawa/staples...      1  \n",
       "1596  1102298  https://www.tokopedia.com/cahayabelawa/staples...      1  \n",
       "1633  1102298  https://www.tokopedia.com/cahayabelawa/staples...      1  \n",
       "1643  1102298  https://www.tokopedia.com/cahayabelawa/staples...      1  \n",
       "1738  1461393  https://www.tokopedia.com/timurjaya46/staple-s...      1  \n",
       "1752  1461393  https://www.tokopedia.com/timurjaya46/staple-s...      1  \n",
       "1766  1477109  https://www.tokopedia.com/juraganperkakas/stap...      1  \n",
       "1798   262877  https://www.tokopedia.com/semangatteknik/stapl...      1  \n",
       "1880  1114588  https://www.tokopedia.com/indahjayatools/stapl...      1  \n",
       "1924  1114588  https://www.tokopedia.com/indahjayatools/stapl...      1  "
      ]
     },
     "execution_count": 61,
     "metadata": {},
     "output_type": "execute_result"
    }
   ],
   "source": [
    "df1[df1['Rating']==3]"
   ]
  },
  {
   "cell_type": "code",
   "execution_count": 62,
   "id": "3a1f0176",
   "metadata": {},
   "outputs": [
    {
     "data": {
      "application/vnd.microsoft.datawrangler.viewer.v0+json": {
       "columns": [
        {
         "name": "index",
         "rawType": "int64",
         "type": "integer"
        },
        {
         "name": "Unnamed: 0.1",
         "rawType": "int64",
         "type": "integer"
        },
        {
         "name": "Unnamed: 0",
         "rawType": "int64",
         "type": "integer"
        },
        {
         "name": "Ulasan",
         "rawType": "object",
         "type": "string"
        },
        {
         "name": "Rating",
         "rawType": "int64",
         "type": "integer"
        },
        {
         "name": "Kategori",
         "rawType": "object",
         "type": "string"
        },
        {
         "name": "Nama Produk",
         "rawType": "object",
         "type": "string"
        },
        {
         "name": "Id Produk",
         "rawType": "int64",
         "type": "integer"
        },
        {
         "name": "Terjual",
         "rawType": "object",
         "type": "string"
        },
        {
         "name": "Id_Toko",
         "rawType": "int64",
         "type": "integer"
        },
        {
         "name": "Url",
         "rawType": "object",
         "type": "string"
        },
        {
         "name": "label",
         "rawType": "int64",
         "type": "integer"
        }
       ],
       "conversionMethod": "pd.DataFrame",
       "ref": "0ba693ad-f61e-45f3-8709-1c8fe6922bb7",
       "rows": [
        [
         "0",
         "0",
         "59",
         "Pesanan gx sesuai dgn yg d gambar",
         "2",
         "pertukangan",
         "Isi Staples Tembak 8 mm best guard",
         "133507638",
         "545",
         "1461393",
         "https://www.tokopedia.com/timurjaya46/isi-staples-tembak-8-mm-best-guard",
         "0"
        ],
        [
         "1",
         "1",
         "70",
         "Pengiriman dan respon super cepat. Tpi barang tidak sesuai gambar dan tidak kuat untuk menembus jok motor.",
         "2",
         "pertukangan",
         "Isi Staples Tembak 8 mm best guard",
         "133507638",
         "545",
         "1461393",
         "https://www.tokopedia.com/timurjaya46/isi-staples-tembak-8-mm-best-guard",
         "0"
        ],
        [
         "2",
         "2",
         "95",
         "barang yg dikirim tidak sesuai pesanan",
         "1",
         "pertukangan",
         "Isi Staples Tembak 8 mm best guard",
         "133507638",
         "545",
         "1461393",
         "https://www.tokopedia.com/timurjaya46/isi-staples-tembak-8-mm-best-guard",
         "0"
        ],
        [
         "3",
         "3",
         "117",
         "Php, bilang isi ada diseskripsi pas dipesen berbeda, mubajir rp50.000 ternyata isinya ga cocok",
         "1",
         "pertukangan",
         "steples tembak / staples tembak kenmaster PROMO MURAH staple gun",
         "88842566",
         "45",
         "1102298",
         "https://www.tokopedia.com/cahayabelawa/steples-tembak-staples-tembak-kenmaster-promo-murah-staple-gun",
         "0"
        ],
        [
         "4",
         "4",
         "153",
         "barang jelek copot&#34; terus tmpat taro isinya",
         "2",
         "pertukangan",
         "Staple Gun / Staples Tembak / Staples Jok / Hekter MOLLAR 3 in 1",
         "209226141",
         "171",
         "580197",
         "https://www.tokopedia.com/hmhhardware/staple-gun-staples-tembak-staples-jok-hekter-mollar-3-in-1",
         "0"
        ],
        [
         "5",
         "5",
         "188",
         "Beli staples gak jual isinya... hanya sekali pake.... ckckck",
         "1",
         "pertukangan",
         "Staple Gun / Staples Tembak / Staples Jok / Hekter MOLLAR 3 in 1",
         "209226141",
         "171",
         "580197",
         "https://www.tokopedia.com/hmhhardware/staple-gun-staples-tembak-staples-jok-hekter-mollar-3-in-1",
         "0"
        ],
        [
         "6",
         "6",
         "255",
         "Sebaiknya kalau mau ngirim barang...diperiksa dulu gan, kondisi  barangnya layak apa gak gitu loh.\n(Isinya karatan semua)",
         "1",
         "pertukangan",
         "Isi / Refill Staples / Stapler Tembak / Steples / Gun Tacker 10mm",
         "55221811",
         "67",
         "452241",
         "https://www.tokopedia.com/cgrtools/isi-refill-staples-stapler-tembak-steples-gun-tacker-10mm",
         "0"
        ],
        [
         "7",
         "7",
         "280",
         "Produk tidak sesuai, order prohex yg dikirim ini",
         "2",
         "pertukangan",
         "Isi Staples Gun / Isi Gun Tacker Model Taiwan 6 mm x 11 mm PROHEX",
         "185025248",
         "118",
         "828267",
         "https://www.tokopedia.com/danstools/isi-staples-gun-isi-gun-tacker-model-taiwan-6-mm-x-11-mm-prohex",
         "0"
        ],
        [
         "8",
         "8",
         "316",
         "brg sdh diterima.................",
         "2",
         "pertukangan",
         "Isi Refill Staples Jok Kulit Motor / Staple Gun",
         "139363396",
         "90",
         "1409714",
         "https://www.tokopedia.com/megalaris/isi-refill-staples-jok-kulit-motor-staple-gun",
         "0"
        ],
        [
         "9",
         "9",
         "406",
         "tidak bisa buat masang jok gak ke pake",
         "2",
         "pertukangan",
         "Staple Gun / Staples Tembak / Staples Jok / Hekter MOLLAR 3 in 1",
         "68341458",
         "163",
         "969587",
         "https://www.tokopedia.com/cariperkakas/staple-gun-staples-tembak-staples-jok-hekter-mollar-3-in-1",
         "0"
        ],
        [
         "10",
         "10",
         "826",
         "barang datang cacat ,gak bisa di gunakan \nharusnya sblum di kirim di coba dulu",
         "1",
         "pertukangan",
         "Staple Staples Steples Gun Tembak Kenmaster Gun Tacker 4 6 8mm",
         "213653744",
         "122",
         "1461393",
         "https://www.tokopedia.com/timurjaya46/staple-staples-steples-gun-tembak-kenmaster-gun-tacker-4-6-8mm",
         "0"
        ],
        [
         "11",
         "11",
         "865",
         "Kecewa baru dipakey isiya kluar sampai 2 3 buah\nDipapan nggak nempel",
         "1",
         "pertukangan",
         "STAPLE GUN MOLLAR 3 WAY TACKER - STAPLES JOK TEMBAK HEKTER",
         "288306960",
         "148",
         "1477109",
         "https://www.tokopedia.com/juraganperkakas/staple-gun-mollar-3-way-tacker-staples-jok-tembak-hekter",
         "0"
        ],
        [
         "12",
         "12",
         "945",
         "Barang kurang bagus. Pengiriman pakai pos lama sekali.",
         "2",
         "pertukangan",
         "Staples Gun Tacker Mollar 3 in 1 / Staple Jok Tembak Hekter 3 Way",
         "221298191",
         "408",
         "1114588",
         "https://www.tokopedia.com/indahjayatools/staples-gun-tacker-mollar-3-in-1-staple-jok-tembak-hekter-3-way",
         "0"
        ],
        [
         "13",
         "13",
         "1015",
         "Hasil staples tidak rapat pada bidang, mungkin dapat produk cacat..hadeeuh",
         "1",
         "pertukangan",
         "Staples Gun Tacker Mollar 3 in 1 / Staple Jok Tembak Hekter 3 Way",
         "221298191",
         "408",
         "1114588",
         "https://www.tokopedia.com/indahjayatools/staples-gun-tacker-mollar-3-in-1-staple-jok-tembak-hekter-3-way",
         "0"
        ],
        [
         "14",
         "14",
         "1050",
         "barang standart n biasa aja kurang good...",
         "2",
         "pertukangan",
         "Staples Gun Tacker Mollar 3 in 1 / Staple Jok Tembak Hekter 3 Way",
         "221298191",
         "408",
         "1114588",
         "https://www.tokopedia.com/indahjayatools/staples-gun-tacker-mollar-3-in-1-staple-jok-tembak-hekter-3-way",
         "0"
        ],
        [
         "15",
         "15",
         "1074",
         "Barangnya rusak..kecewa berat",
         "1",
         "pertukangan",
         "STAPLE GUN SERBAGUNA MOLLAR STAPLES TEMBAK BONUS ISI HEKTER 3 IN 1",
         "225536821",
         "85",
         "537844",
         "https://www.tokopedia.com/samudrabauteknik/staple-gun-serbaguna-mollar-staples-tembak-bonus-isi-hekter-3-in-1",
         "0"
        ],
        [
         "16",
         "16",
         "1244",
         "Beli 5 tdk bs dipakai semua",
         "1",
         "pertukangan",
         "Staple/Stapel/Straples/Staples Nail &amp; paku tembak GUN / NAIL GUN",
         "78773158",
         "207",
         "1371033",
         "https://www.tokopedia.com/totalteknik/staplestapelstraplesstaples-nail-paku-tembak-gun-nail-gun",
         "0"
        ],
        [
         "17",
         "17",
         "1246",
         "Straples nya gk bs dipake,  udh dicoba berkali2 bwt pasang jaring nyamuk straples ditembak dibahan triplek aja gk nembus udh itu harus diketok2 Palu lgi 😢",
         "1",
         "pertukangan",
         "Staple/Stapel/Straples/Staples Nail &amp; paku tembak GUN / NAIL GUN",
         "78773158",
         "207",
         "1371033",
         "https://www.tokopedia.com/totalteknik/staplestapelstraplesstaples-nail-paku-tembak-gun-nail-gun",
         "0"
        ],
        [
         "18",
         "18",
         "1262",
         "mungkin karena harga juga.. jadi susah dipake..hehe staplesnya gak nancep sampe oenuh..",
         "2",
         "pertukangan",
         "Staple/Stapel/Straples/Staples Nail &amp; paku tembak GUN / NAIL GUN",
         "78773158",
         "207",
         "1371033",
         "https://www.tokopedia.com/totalteknik/staplestapelstraplesstaples-nail-paku-tembak-gun-nail-gun",
         "0"
        ],
        [
         "19",
         "19",
         "1433",
         "gagal.........................",
         "1",
         "pertukangan",
         "Hekter Tembak / Staples / Guntacker",
         "11888855",
         "175",
         "88752",
         "https://www.tokopedia.com/suryanusantara/hekter-tembak-staples-guntacker",
         "0"
        ],
        [
         "20",
         "20",
         "1468",
         "ggdjkkjfkghfyhdjhugfvkchzndfjhadfafhjkkiutff",
         "1",
         "pertukangan",
         "Hekter Tembak / Staples / Guntacker",
         "11888855",
         "175",
         "88752",
         "https://www.tokopedia.com/suryanusantara/hekter-tembak-staples-guntacker",
         "0"
        ],
        [
         "21",
         "21",
         "1549",
         "SELLER TIDAK KOMUNIKATIF, NIATNYA PAKE INSTANT COURIER BIAR SEGERA SAMPAI, TP BARANG DIKIRIM 2 HARI KEMUDIAN TANPA KABAR SAMA SEKALI, DITANYA GA BERANI BALAS, UDAH NGAJUIN PEMBATALAN TETEP AJA DIKIRIM TANPA DOSA.. SEMOGA GA ADA LAGI YG BUYER DAPET PERLAKUAN KYK GINI",
         "1",
         "pertukangan",
         "3 in 1 Staple Stapel Straples Staples Streples Nail paku tembak GUN",
         "17741002",
         "126",
         "154386",
         "https://www.tokopedia.com/e-shop2wheel/3-in-1-staple-stapel-straples-staples-streples-nail-paku-tembak-gun",
         "0"
        ],
        [
         "22",
         "22",
         "1618",
         "barang nya kayak bekas ya gan..\ntapi pengiriman ceoat",
         "2",
         "pertukangan",
         "Staples / Stapler Tembak / Gun Tacker 4mm, 6mm, 8mm",
         "50221613",
         "53",
         "452241",
         "https://www.tokopedia.com/cgrtools/staples-stapler-tembak-gun-tacker-4mm-6mm-8mm",
         "0"
        ],
        [
         "23",
         "23",
         "1769",
         "barang ada yg gak sesuai sama buset lama banget dikirimnya.....kapok",
         "1",
         "pertukangan",
         "Staple Gun 3 Way Homaster Heavy Duty / Staples Tembak",
         "19337557",
         "417",
         "580197",
         "https://www.tokopedia.com/hmhhardware/staple-gun-3-way-homaster-heavy-duty-staples-tembak",
         "0"
        ],
        [
         "24",
         "24",
         "1842",
         "Model brang sdh sesuai deskripsi... Tapi kenapa ukuran 44nya ndak sesuai ya.. ukuran panjang sesuai tapi ukuran tinggi spatunya kyk ukuran kaki no 40. \n\nAku kasih foto sepatunya yg tak coba aku pakai.",
         "2",
         "fashion",
         "Sepatu Sneakers Adidas Swift Run Harian Running Pria Cowo Grade Ori",
         "363833137",
         "69",
         "52614",
         "https://www.tokopedia.com/ojarr/sepatu-sneakers-adidas-swift-run-harian-running-pria-cowo-grade-ori",
         "0"
        ],
        [
         "25",
         "25",
         "1843",
         "Tidak recommended, kaki tidak bisa masuk, sepatu seperti sablonan, kualitas not ok",
         "1",
         "fashion",
         "Sepatu Sneakers Adidas Swift Run Harian Running Pria Cowo Grade Ori",
         "363833137",
         "69",
         "52614",
         "https://www.tokopedia.com/ojarr/sepatu-sneakers-adidas-swift-run-harian-running-pria-cowo-grade-ori",
         "0"
        ],
        [
         "26",
         "26",
         "1974",
         "Apakah sepatunya boleh di retur? Kualitas bahan kanan dan kiri berbeda, tebelnya beda, tinggi nya juga beda",
         "1",
         "fashion",
         "🔥WAADOO🔥 Sepatu Full House All Black Sneakers Unisex Berkualitas",
         "474474429",
         "49",
         "4110530",
         "https://www.tokopedia.com/waadoo/waadoo-sepatu-full-house-all-black-sneakers-unisex-berkualitas",
         "0"
        ],
        [
         "27",
         "27",
         "2040",
         "Brng sy pesan. Uang sy transfr tp brmg tdk sy trima. Jgn. Pesan pke wahana cargo. Tdk ad solusi dr toped ut mngembalikan uang saya",
         "1",
         "fashion",
         "Rak Sepatu Cantik Susun 9,Rak Sepatu Plastik,Tempat Penyimpanan Sepatu",
         "429766804",
         "809",
         "3420489",
         "https://www.tokopedia.com/lakukeras168/rak-sepatu-cantik-susun-9-rak-sepatu-plastik-tempat-penyimpanan-sepatu",
         "0"
        ],
        [
         "28",
         "28",
         "2053",
         "Tidak sesuai permintaan warnanya. Pas di tanya, ngaku2nya udh chat kita ga jawab. Pdhl ga ada chat 👏👏",
         "1",
         "fashion",
         "Rak Sepatu Cantik Susun 9,Rak Sepatu Plastik,Tempat Penyimpanan Sepatu",
         "429766804",
         "809",
         "3420489",
         "https://www.tokopedia.com/lakukeras168/rak-sepatu-cantik-susun-9-rak-sepatu-plastik-tempat-penyimpanan-sepatu",
         "0"
        ],
        [
         "29",
         "29",
         "2208",
         "Suckkkk..............................................",
         "1",
         "fashion",
         "X04 Rak sepatu 4 SUSUN payung holder lemari sepatu murah",
         "411651606",
         "2,9rb",
         "258554",
         "https://www.tokopedia.com/nipponpowerbank/x04-rak-sepatu-4-susun-payung-holder-lemari-sepatu-murah",
         "0"
        ],
        [
         "30",
         "30",
         "2247",
         "Produk bagus, tapi QC kurang. Pipa nya beda ukuran 1batang, jadi hanya 2 rak yg terpasang",
         "2",
         "fashion",
         "X04 Rak sepatu 4 SUSUN payung holder lemari sepatu murah",
         "411651606",
         "2,9rb",
         "258554",
         "https://www.tokopedia.com/nipponpowerbank/x04-rak-sepatu-4-susun-payung-holder-lemari-sepatu-murah",
         "0"
        ],
        [
         "31",
         "31",
         "2312",
         "Saya sangat kecewa karna ACC nya tidak lengkap",
         "1",
         "fashion",
         "X04 Rak sepatu 4 SUSUN payung holder lemari sepatu murah",
         "411651606",
         "2,9rb",
         "258554",
         "https://www.tokopedia.com/nipponpowerbank/x04-rak-sepatu-4-susun-payung-holder-lemari-sepatu-murah",
         "0"
        ],
        [
         "32",
         "32",
         "2345",
         "Kurang sesuai dengan expektasi, karena terdapat kecacatan pada konektor, dan memiliki panjang tiang yang tidak imbang",
         "2",
         "fashion",
         "X04 Rak sepatu 4 SUSUN payung holder lemari sepatu murah",
         "411651606",
         "2,9rb",
         "258554",
         "https://www.tokopedia.com/nipponpowerbank/x04-rak-sepatu-4-susun-payung-holder-lemari-sepatu-murah",
         "0"
        ],
        [
         "33",
         "33",
         "2362",
         "Ada 1 bagian yg tidak ada",
         "1",
         "fashion",
         "X04 Rak sepatu 4 SUSUN payung holder lemari sepatu murah",
         "411651606",
         "2,9rb",
         "258554",
         "https://www.tokopedia.com/nipponpowerbank/x04-rak-sepatu-4-susun-payung-holder-lemari-sepatu-murah",
         "0"
        ],
        [
         "34",
         "34",
         "2499",
         "minta dibatalin udah ajuin pembatalan malah dikirim. udah dikonfirmasi ukuran dan model salah. !",
         "2",
         "fashion",
         "Sepatu Casual Kets Sport Nike MD Runner / Waffle Trainer Hitam Putih",
         "469877650",
         "1,2rb",
         "1521606",
         "https://www.tokopedia.com/grosirsepatu99/sepatu-casual-kets-sport-nike-md-runner-waffle-trainer-hitam-putih",
         "0"
        ],
        [
         "35",
         "35",
         "2522",
         "Kotak rusak, lem sepatunya gk bngt",
         "1",
         "fashion",
         "Sepatu Casual Kets Sport Nike MD Runner / Waffle Trainer Hitam Putih",
         "469877650",
         "1,2rb",
         "1521606",
         "https://www.tokopedia.com/grosirsepatu99/sepatu-casual-kets-sport-nike-md-runner-waffle-trainer-hitam-putih",
         "0"
        ],
        [
         "36",
         "36",
         "2542",
         "Tidak sesuai dengan yang di kasi liat",
         "2",
         "fashion",
         "Sepatu Casual Kets Sport Nike MD Runner / Waffle Trainer Hitam Putih",
         "469877650",
         "1,2rb",
         "1521606",
         "https://www.tokopedia.com/grosirsepatu99/sepatu-casual-kets-sport-nike-md-runner-waffle-trainer-hitam-putih",
         "0"
        ],
        [
         "37",
         "37",
         "2545",
         "Respon lambat pengiriman lama barang yang di kirim tidak sesuai , saya kecewa",
         "2",
         "fashion",
         "Sepatu Casual Kets Sport Nike MD Runner / Waffle Trainer Hitam Putih",
         "469877650",
         "1,2rb",
         "1521606",
         "https://www.tokopedia.com/grosirsepatu99/sepatu-casual-kets-sport-nike-md-runner-waffle-trainer-hitam-putih",
         "0"
        ],
        [
         "38",
         "38",
         "2561",
         "Masih bisa diklem gak nih kualitas barang sangat buruk, lemnya gak nempel pada ngelupas\nJujur saya sangat kecewa",
         "1",
         "fashion",
         "Sepatu Casual Kets Sport Nike MD Runner / Waffle Trainer Hitam Putih",
         "469877650",
         "1,2rb",
         "1521606",
         "https://www.tokopedia.com/grosirsepatu99/sepatu-casual-kets-sport-nike-md-runner-waffle-trainer-hitam-putih",
         "0"
        ],
        [
         "39",
         "39",
         "2644",
         "Pengirimnya lama, prosesnya juga lamaaaa",
         "1",
         "fashion",
         "Sepatu Casual Kets Sport Nike MD Runner / Waffle Trainer Hitam Putih",
         "469877650",
         "1,2rb",
         "1521606",
         "https://www.tokopedia.com/grosirsepatu99/sepatu-casual-kets-sport-nike-md-runner-waffle-trainer-hitam-putih",
         "0"
        ],
        [
         "40",
         "40",
         "2663",
         "Lebih teliti lg ya gan kalau ngasih informasi",
         "1",
         "fashion",
         "Sepatu Casual Kets Sport Nike MD Runner / Waffle Trainer Hitam Putih",
         "469877650",
         "1,2rb",
         "1521606",
         "https://www.tokopedia.com/grosirsepatu99/sepatu-casual-kets-sport-nike-md-runner-waffle-trainer-hitam-putih",
         "0"
        ],
        [
         "41",
         "41",
         "2681",
         "Order tanggal 19 pake JNE yes,  \nBaru sampe tanggal 25 entah salahnya dimana",
         "1",
         "fashion",
         "Sepatu Casual Kets Sport Nike MD Runner / Waffle Trainer Hitam Putih",
         "469877650",
         "1,2rb",
         "1521606",
         "https://www.tokopedia.com/grosirsepatu99/sepatu-casual-kets-sport-nike-md-runner-waffle-trainer-hitam-putih",
         "0"
        ],
        [
         "42",
         "42",
         "2701",
         "Barang nya jelek bgt , saya mau kasih ke Org pun malu , mungkin ini foto lebih bagus dari produk asli nya\nSaya tdk akan beli lagi",
         "1",
         "fashion",
         "Sepatu Casual Kets Sport Nike MD Runner / Waffle Trainer Hitam Putih",
         "469877650",
         "1,2rb",
         "1521606",
         "https://www.tokopedia.com/grosirsepatu99/sepatu-casual-kets-sport-nike-md-runner-waffle-trainer-hitam-putih",
         "0"
        ],
        [
         "43",
         "43",
         "2741",
         "Gx sesuai dgn gambar. Gambar comot di google",
         "2",
         "fashion",
         "Sepatu Casual Kets Sport Nike MD Runner / Waffle Trainer Hitam Putih",
         "469877650",
         "1,2rb",
         "1521606",
         "https://www.tokopedia.com/grosirsepatu99/sepatu-casual-kets-sport-nike-md-runner-waffle-trainer-hitam-putih",
         "0"
        ],
        [
         "44",
         "44",
         "2753",
         "awalnya lupa tulisan ukuran, dan penjual juga ga nanya,, akhirnya  ukuran yg dikirim  ukuran  40,, minta retur ke 42 ,, penjual cuman bilang iya doang,, ga ada action,, udah sebulan ga diproses,, yang parahnya tokpedia malah melanjutkan dana ke penjual. padahal sudah mengikuti proses komplian sesuai petunjuk tokped. Benar&#39;&#39; tidak menghargai customer.",
         "1",
         "fashion",
         "Sepatu Casual Kets Sport Nike MD Runner / Waffle Trainer Hitam Putih",
         "469877650",
         "1,2rb",
         "1521606",
         "https://www.tokopedia.com/grosirsepatu99/sepatu-casual-kets-sport-nike-md-runner-waffle-trainer-hitam-putih",
         "0"
        ],
        [
         "45",
         "45",
         "2760",
         "Pesen  warna A yg d kirim warna B...nga ssuai klw dlam pesenan\n Abis gtu ukuranya kcill😢",
         "1",
         "fashion",
         "Sepatu Casual Kets Sport Nike MD Runner / Waffle Trainer Hitam Putih",
         "469877650",
         "1,2rb",
         "1521606",
         "https://www.tokopedia.com/grosirsepatu99/sepatu-casual-kets-sport-nike-md-runner-waffle-trainer-hitam-putih",
         "0"
        ],
        [
         "46",
         "46",
         "2771",
         "Respon sih cepat satu hari langsung,tapi pengiriman nya agak lama hampir 4 hari tapi baranh sesuai dengan harga.Seller kadang ga jawab pertanyaan.Tolong tingkatkan lagi.TAPI barang bagus lah sesuai harga meskipun ada yang terkelupas sedikit.☺",
         "2",
         "fashion",
         "Sepatu Casual Kets Sport Nike MD Runner / Waffle Trainer Hitam Putih",
         "469877650",
         "1,2rb",
         "1521606",
         "https://www.tokopedia.com/grosirsepatu99/sepatu-casual-kets-sport-nike-md-runner-waffle-trainer-hitam-putih",
         "0"
        ],
        [
         "47",
         "47",
         "2793",
         "Sangat mengecwakan, pesan 2 sepatu yg dikirim hanya 1 sepatu, di wa dan dintelfon tidak permah mau bls dangkat,\nudah gitu kualitas sepatu jelek, dijamin bakal kecewa beli disini",
         "1",
         "fashion",
         "Sepatu Casual Kets Sport Nike MD Runner / Waffle Trainer Hitam Putih",
         "469877650",
         "1,2rb",
         "1521606",
         "https://www.tokopedia.com/grosirsepatu99/sepatu-casual-kets-sport-nike-md-runner-waffle-trainer-hitam-putih",
         "0"
        ],
        [
         "48",
         "48",
         "2832",
         "barang sudah diterima kualitas kurang memuaskan",
         "1",
         "fashion",
         "Sepatu Casual Kets Sport Nike MD Runner / Waffle Trainer Hitam Putih",
         "469877650",
         "1,2rb",
         "1521606",
         "https://www.tokopedia.com/grosirsepatu99/sepatu-casual-kets-sport-nike-md-runner-waffle-trainer-hitam-putih",
         "0"
        ],
        [
         "49",
         "49",
         "2893",
         "tidak puas.........................",
         "1",
         "fashion",
         "Sepatu Casual Kets Sport Nike MD Runner / Waffle Trainer Hitam Putih",
         "469877650",
         "1,2rb",
         "1521606",
         "https://www.tokopedia.com/grosirsepatu99/sepatu-casual-kets-sport-nike-md-runner-waffle-trainer-hitam-putih",
         "0"
        ]
       ],
       "shape": {
        "columns": 11,
        "rows": 925
       }
      },
      "text/html": [
       "<div>\n",
       "<style scoped>\n",
       "    .dataframe tbody tr th:only-of-type {\n",
       "        vertical-align: middle;\n",
       "    }\n",
       "\n",
       "    .dataframe tbody tr th {\n",
       "        vertical-align: top;\n",
       "    }\n",
       "\n",
       "    .dataframe thead th {\n",
       "        text-align: right;\n",
       "    }\n",
       "</style>\n",
       "<table border=\"1\" class=\"dataframe\">\n",
       "  <thead>\n",
       "    <tr style=\"text-align: right;\">\n",
       "      <th></th>\n",
       "      <th>Unnamed: 0.1</th>\n",
       "      <th>Unnamed: 0</th>\n",
       "      <th>Ulasan</th>\n",
       "      <th>Rating</th>\n",
       "      <th>Kategori</th>\n",
       "      <th>Nama Produk</th>\n",
       "      <th>Id Produk</th>\n",
       "      <th>Terjual</th>\n",
       "      <th>Id_Toko</th>\n",
       "      <th>Url</th>\n",
       "      <th>label</th>\n",
       "    </tr>\n",
       "  </thead>\n",
       "  <tbody>\n",
       "    <tr>\n",
       "      <th>0</th>\n",
       "      <td>0</td>\n",
       "      <td>59</td>\n",
       "      <td>Pesanan gx sesuai dgn yg d gambar</td>\n",
       "      <td>2</td>\n",
       "      <td>pertukangan</td>\n",
       "      <td>Isi Staples Tembak 8 mm best guard</td>\n",
       "      <td>133507638</td>\n",
       "      <td>545</td>\n",
       "      <td>1461393</td>\n",
       "      <td>https://www.tokopedia.com/timurjaya46/isi-stap...</td>\n",
       "      <td>0</td>\n",
       "    </tr>\n",
       "    <tr>\n",
       "      <th>1</th>\n",
       "      <td>1</td>\n",
       "      <td>70</td>\n",
       "      <td>Pengiriman dan respon super cepat. Tpi barang ...</td>\n",
       "      <td>2</td>\n",
       "      <td>pertukangan</td>\n",
       "      <td>Isi Staples Tembak 8 mm best guard</td>\n",
       "      <td>133507638</td>\n",
       "      <td>545</td>\n",
       "      <td>1461393</td>\n",
       "      <td>https://www.tokopedia.com/timurjaya46/isi-stap...</td>\n",
       "      <td>0</td>\n",
       "    </tr>\n",
       "    <tr>\n",
       "      <th>2</th>\n",
       "      <td>2</td>\n",
       "      <td>95</td>\n",
       "      <td>barang yg dikirim tidak sesuai pesanan</td>\n",
       "      <td>1</td>\n",
       "      <td>pertukangan</td>\n",
       "      <td>Isi Staples Tembak 8 mm best guard</td>\n",
       "      <td>133507638</td>\n",
       "      <td>545</td>\n",
       "      <td>1461393</td>\n",
       "      <td>https://www.tokopedia.com/timurjaya46/isi-stap...</td>\n",
       "      <td>0</td>\n",
       "    </tr>\n",
       "    <tr>\n",
       "      <th>3</th>\n",
       "      <td>3</td>\n",
       "      <td>117</td>\n",
       "      <td>Php, bilang isi ada diseskripsi pas dipesen be...</td>\n",
       "      <td>1</td>\n",
       "      <td>pertukangan</td>\n",
       "      <td>steples tembak / staples tembak kenmaster PROM...</td>\n",
       "      <td>88842566</td>\n",
       "      <td>45</td>\n",
       "      <td>1102298</td>\n",
       "      <td>https://www.tokopedia.com/cahayabelawa/steples...</td>\n",
       "      <td>0</td>\n",
       "    </tr>\n",
       "    <tr>\n",
       "      <th>4</th>\n",
       "      <td>4</td>\n",
       "      <td>153</td>\n",
       "      <td>barang jelek copot&amp;#34; terus tmpat taro isinya</td>\n",
       "      <td>2</td>\n",
       "      <td>pertukangan</td>\n",
       "      <td>Staple Gun / Staples Tembak / Staples Jok / He...</td>\n",
       "      <td>209226141</td>\n",
       "      <td>171</td>\n",
       "      <td>580197</td>\n",
       "      <td>https://www.tokopedia.com/hmhhardware/staple-g...</td>\n",
       "      <td>0</td>\n",
       "    </tr>\n",
       "    <tr>\n",
       "      <th>...</th>\n",
       "      <td>...</td>\n",
       "      <td>...</td>\n",
       "      <td>...</td>\n",
       "      <td>...</td>\n",
       "      <td>...</td>\n",
       "      <td>...</td>\n",
       "      <td>...</td>\n",
       "      <td>...</td>\n",
       "      <td>...</td>\n",
       "      <td>...</td>\n",
       "      <td>...</td>\n",
       "    </tr>\n",
       "    <tr>\n",
       "      <th>920</th>\n",
       "      <td>920</td>\n",
       "      <td>40889</td>\n",
       "      <td>gak bisa ditutup.. ukuran gak pas..</td>\n",
       "      <td>1</td>\n",
       "      <td>olahraga</td>\n",
       "      <td>MINERAL WATER POT WATER PURIFIER 28 liter BIO ...</td>\n",
       "      <td>144442054</td>\n",
       "      <td>2</td>\n",
       "      <td>648559</td>\n",
       "      <td>https://www.tokopedia.com/pusatdermawand/miner...</td>\n",
       "      <td>0</td>\n",
       "    </tr>\n",
       "    <tr>\n",
       "      <th>921</th>\n",
       "      <td>921</td>\n",
       "      <td>40890</td>\n",
       "      <td>Penjual krg peduli dan brg jelek. Brg yg dikir...</td>\n",
       "      <td>1</td>\n",
       "      <td>olahraga</td>\n",
       "      <td>PANCI PRESTO IDEALIFE 7 LITER - IL 707 &amp;#40; I...</td>\n",
       "      <td>313781913</td>\n",
       "      <td>1</td>\n",
       "      <td>648559</td>\n",
       "      <td>https://www.tokopedia.com/pusatdermawand/panci...</td>\n",
       "      <td>0</td>\n",
       "    </tr>\n",
       "    <tr>\n",
       "      <th>922</th>\n",
       "      <td>922</td>\n",
       "      <td>40891</td>\n",
       "      <td>pelayanan kurang sigap, berhari2 dr nanya baik...</td>\n",
       "      <td>1</td>\n",
       "      <td>olahraga</td>\n",
       "      <td>EXCIDER BIKE 2 - sepeda fitnes magnetic lipat ...</td>\n",
       "      <td>71873370</td>\n",
       "      <td>1</td>\n",
       "      <td>648559</td>\n",
       "      <td>https://www.tokopedia.com/pusatdermawand/excid...</td>\n",
       "      <td>0</td>\n",
       "    </tr>\n",
       "    <tr>\n",
       "      <th>923</th>\n",
       "      <td>923</td>\n",
       "      <td>40892</td>\n",
       "      <td>barang yg dikirim tsk sesuai wrn, kl memang dr...</td>\n",
       "      <td>1</td>\n",
       "      <td>olahraga</td>\n",
       "      <td>TOTAL FITNES ALAT FITNESS SIT UP BENCH TOTAL &amp;...</td>\n",
       "      <td>201690705</td>\n",
       "      <td>2</td>\n",
       "      <td>648559</td>\n",
       "      <td>https://www.tokopedia.com/pusatdermawand/total...</td>\n",
       "      <td>0</td>\n",
       "    </tr>\n",
       "    <tr>\n",
       "      <th>924</th>\n",
       "      <td>924</td>\n",
       "      <td>40893</td>\n",
       "      <td>Pihak penjual memberikan respon yang buruk kep...</td>\n",
       "      <td>1</td>\n",
       "      <td>olahraga</td>\n",
       "      <td>SIT UP BENCH HITAM 3 SISI - SITUP BANCH INCLIN...</td>\n",
       "      <td>78857201</td>\n",
       "      <td></td>\n",
       "      <td>648559</td>\n",
       "      <td>https://www.tokopedia.com/pusatdermawand/sit-u...</td>\n",
       "      <td>0</td>\n",
       "    </tr>\n",
       "  </tbody>\n",
       "</table>\n",
       "<p>925 rows × 11 columns</p>\n",
       "</div>"
      ],
      "text/plain": [
       "     Unnamed: 0.1  Unnamed: 0  \\\n",
       "0               0          59   \n",
       "1               1          70   \n",
       "2               2          95   \n",
       "3               3         117   \n",
       "4               4         153   \n",
       "..            ...         ...   \n",
       "920           920       40889   \n",
       "921           921       40890   \n",
       "922           922       40891   \n",
       "923           923       40892   \n",
       "924           924       40893   \n",
       "\n",
       "                                                Ulasan  Rating     Kategori  \\\n",
       "0                    Pesanan gx sesuai dgn yg d gambar       2  pertukangan   \n",
       "1    Pengiriman dan respon super cepat. Tpi barang ...       2  pertukangan   \n",
       "2               barang yg dikirim tidak sesuai pesanan       1  pertukangan   \n",
       "3    Php, bilang isi ada diseskripsi pas dipesen be...       1  pertukangan   \n",
       "4      barang jelek copot&#34; terus tmpat taro isinya       2  pertukangan   \n",
       "..                                                 ...     ...          ...   \n",
       "920                gak bisa ditutup.. ukuran gak pas..       1     olahraga   \n",
       "921  Penjual krg peduli dan brg jelek. Brg yg dikir...       1     olahraga   \n",
       "922  pelayanan kurang sigap, berhari2 dr nanya baik...       1     olahraga   \n",
       "923  barang yg dikirim tsk sesuai wrn, kl memang dr...       1     olahraga   \n",
       "924  Pihak penjual memberikan respon yang buruk kep...       1     olahraga   \n",
       "\n",
       "                                           Nama Produk  Id Produk Terjual  \\\n",
       "0                   Isi Staples Tembak 8 mm best guard  133507638     545   \n",
       "1                   Isi Staples Tembak 8 mm best guard  133507638     545   \n",
       "2                   Isi Staples Tembak 8 mm best guard  133507638     545   \n",
       "3    steples tembak / staples tembak kenmaster PROM...   88842566      45   \n",
       "4    Staple Gun / Staples Tembak / Staples Jok / He...  209226141     171   \n",
       "..                                                 ...        ...     ...   \n",
       "920  MINERAL WATER POT WATER PURIFIER 28 liter BIO ...  144442054       2   \n",
       "921  PANCI PRESTO IDEALIFE 7 LITER - IL 707 &#40; I...  313781913       1   \n",
       "922  EXCIDER BIKE 2 - sepeda fitnes magnetic lipat ...   71873370       1   \n",
       "923  TOTAL FITNES ALAT FITNESS SIT UP BENCH TOTAL &...  201690705       2   \n",
       "924  SIT UP BENCH HITAM 3 SISI - SITUP BANCH INCLIN...   78857201           \n",
       "\n",
       "     Id_Toko                                                Url  label  \n",
       "0    1461393  https://www.tokopedia.com/timurjaya46/isi-stap...      0  \n",
       "1    1461393  https://www.tokopedia.com/timurjaya46/isi-stap...      0  \n",
       "2    1461393  https://www.tokopedia.com/timurjaya46/isi-stap...      0  \n",
       "3    1102298  https://www.tokopedia.com/cahayabelawa/steples...      0  \n",
       "4     580197  https://www.tokopedia.com/hmhhardware/staple-g...      0  \n",
       "..       ...                                                ...    ...  \n",
       "920   648559  https://www.tokopedia.com/pusatdermawand/miner...      0  \n",
       "921   648559  https://www.tokopedia.com/pusatdermawand/panci...      0  \n",
       "922   648559  https://www.tokopedia.com/pusatdermawand/excid...      0  \n",
       "923   648559  https://www.tokopedia.com/pusatdermawand/total...      0  \n",
       "924   648559  https://www.tokopedia.com/pusatdermawand/sit-u...      0  \n",
       "\n",
       "[925 rows x 11 columns]"
      ]
     },
     "execution_count": 62,
     "metadata": {},
     "output_type": "execute_result"
    }
   ],
   "source": [
    "df1[df1['label']==0]"
   ]
  },
  {
   "cell_type": "markdown",
   "id": "5b7a70d8",
   "metadata": {},
   "source": [
    "dari sini saya tau rating 3 tidak konsisten memiliki dua makna negatif dan positif dalam kalimat yang sama, lebih baik, yang rating 3 dibuang saja. keanehannya adalah, ada tulisan yang bernarasi negatif tetapi dimasukan ke label 1 (positf)"
   ]
  },
  {
   "cell_type": "code",
   "execution_count": 63,
   "id": "fc6decfa",
   "metadata": {},
   "outputs": [],
   "source": [
    "df1 = df1[df1['Rating']!=3]"
   ]
  },
  {
   "cell_type": "code",
   "execution_count": 64,
   "id": "f1486972",
   "metadata": {},
   "outputs": [
    {
     "data": {
      "text/plain": [
       "label\n",
       "1    959\n",
       "0    925\n",
       "Name: count, dtype: int64"
      ]
     },
     "execution_count": 64,
     "metadata": {},
     "output_type": "execute_result"
    }
   ],
   "source": [
    "df1['label'].value_counts()"
   ]
  },
  {
   "cell_type": "code",
   "execution_count": 65,
   "id": "1903b1fe",
   "metadata": {},
   "outputs": [],
   "source": [
    "df1 = df1[['Ulasan','label']]"
   ]
  },
  {
   "cell_type": "code",
   "execution_count": 66,
   "id": "7b370a0e",
   "metadata": {},
   "outputs": [
    {
     "data": {
      "text/plain": [
       "Ulasan    0\n",
       "label     0\n",
       "dtype: int64"
      ]
     },
     "execution_count": 66,
     "metadata": {},
     "output_type": "execute_result"
    }
   ],
   "source": [
    "df1.isna().sum()"
   ]
  },
  {
   "cell_type": "code",
   "execution_count": 67,
   "id": "955c7b24",
   "metadata": {},
   "outputs": [
    {
     "data": {
      "text/plain": [
       "26"
      ]
     },
     "execution_count": 67,
     "metadata": {},
     "output_type": "execute_result"
    }
   ],
   "source": [
    "df1.duplicated(subset='Ulasan').sum()"
   ]
  },
  {
   "cell_type": "code",
   "execution_count": 68,
   "id": "9ea33ded",
   "metadata": {},
   "outputs": [],
   "source": [
    "df1.drop_duplicates(subset='Ulasan',inplace=True)"
   ]
  },
  {
   "cell_type": "code",
   "execution_count": 69,
   "id": "d8202031",
   "metadata": {},
   "outputs": [],
   "source": [
    "df1.rename(columns={\n",
    "    'Ulasan' : 'text',\n",
    "    'label' : 'sentiment'\n",
    "},inplace=True)"
   ]
  },
  {
   "cell_type": "markdown",
   "id": "e92aab43",
   "metadata": {},
   "source": [
    "## dataset 2"
   ]
  },
  {
   "cell_type": "code",
   "execution_count": 5,
   "id": "61bc8934",
   "metadata": {},
   "outputs": [
    {
     "name": "stdout",
     "output_type": "stream",
     "text": [
      "<class 'pandas.core.frame.DataFrame'>\n",
      "RangeIndex: 5428 entries, 0 to 5427\n",
      "Data columns (total 3 columns):\n",
      " #   Column      Non-Null Count  Dtype \n",
      "---  ------      --------------  ----- \n",
      " 0   Unnamed: 0  5428 non-null   int64 \n",
      " 1   Review      5123 non-null   object\n",
      " 2   Rating      5428 non-null   int64 \n",
      "dtypes: int64(2), object(1)\n",
      "memory usage: 127.3+ KB\n"
     ]
    }
   ],
   "source": [
    "df2.info()"
   ]
  },
  {
   "cell_type": "code",
   "execution_count": 71,
   "id": "c2cdfa94",
   "metadata": {},
   "outputs": [],
   "source": [
    "df2 = df2[['Review','Rating']]"
   ]
  },
  {
   "cell_type": "code",
   "execution_count": 72,
   "id": "e1caf9fa",
   "metadata": {},
   "outputs": [
    {
     "data": {
      "text/plain": [
       "Review    305\n",
       "Rating      0\n",
       "dtype: int64"
      ]
     },
     "execution_count": 72,
     "metadata": {},
     "output_type": "execute_result"
    }
   ],
   "source": [
    "df2.isna().sum()"
   ]
  },
  {
   "cell_type": "code",
   "execution_count": 73,
   "id": "fbd66628",
   "metadata": {},
   "outputs": [],
   "source": [
    "df2.dropna(inplace=True)"
   ]
  },
  {
   "cell_type": "code",
   "execution_count": 74,
   "id": "8e3d3442",
   "metadata": {},
   "outputs": [
    {
     "data": {
      "text/plain": [
       "560"
      ]
     },
     "execution_count": 74,
     "metadata": {},
     "output_type": "execute_result"
    }
   ],
   "source": [
    "df2.duplicated(subset='Review').sum()"
   ]
  },
  {
   "cell_type": "code",
   "execution_count": 75,
   "id": "ff3e46bb",
   "metadata": {},
   "outputs": [],
   "source": [
    "df2.drop_duplicates(subset='Review',inplace=True)"
   ]
  },
  {
   "cell_type": "code",
   "execution_count": 76,
   "id": "1e9925e1",
   "metadata": {},
   "outputs": [
    {
     "data": {
      "application/vnd.microsoft.datawrangler.viewer.v0+json": {
       "columns": [
        {
         "name": "index",
         "rawType": "int64",
         "type": "integer"
        },
        {
         "name": "Review",
         "rawType": "object",
         "type": "string"
        },
        {
         "name": "Rating",
         "rawType": "int64",
         "type": "integer"
        }
       ],
       "conversionMethod": "pd.DataFrame",
       "ref": "344b8a11-db9c-4ea4-bbbc-a4e21669fccb",
       "rows": [
        [
         "41",
         "Terima kasih barangnya sudah sampai",
         "3"
        ],
        [
         "46",
         "pilus cikur alot dan liat pengiriman lama",
         "3"
        ],
        [
         "108",
         "sekarang keripiknya tebal2 dan lebih keras, jadi butuh tenaga ekstra untuk gigitnya. beda sama yg dulu\n\nbtw packingannya super rapi. masing2 item dibungkus dengan bubble. recommended seller 👍",
         "3"
        ],
        [
         "111",
         "belum dicoba sih, tapi semoga enak. nyesel cuma beli 100gr dikit bangett 😂",
         "3"
        ],
        [
         "126",
         "maaf ya barangnya tidak diterima.",
         "3"
        ],
        [
         "129",
         "Ternyata rasa jagung bakar sama nori kurang klop.. rasanya unik",
         "3"
        ],
        [
         "141",
         "Lumayan enak, tp terlalu mahal tidak sebanding dg harga.",
         "3"
        ],
        [
         "191",
         "Agak masam y ngk kyk biasa ny",
         "3"
        ],
        [
         "324",
         "pengiriman lmaa",
         "3"
        ],
        [
         "364",
         "udah di kasih keterangan original dan rumput laut,tp yg datang BBQ",
         "3"
        ],
        [
         "365",
         "kurang sedap, kurang kerasa ikan nya",
         "3"
        ],
        [
         "376",
         "Maaf aga keras ya..bumbunya krg brasa. Tks",
         "3"
        ],
        [
         "537",
         "Lumayan rasanya",
         "3"
        ],
        [
         "586",
         "rasanya B aja... masih di bawah rasa bakso cuangki juara, lebak bulus.",
         "3"
        ],
        [
         "643",
         "kurang suka rasany",
         "3"
        ],
        [
         "696",
         "kimchinya terlalu asam, kurang pedas,",
         "3"
        ],
        [
         "705",
         "saladnya cantik bentuknya. tapi aku tidak suka dressingnya rasa seperti ada wasabi. untungnya beli dressing pesto jd bisa dimakan pake pesto. tq",
         "3"
        ],
        [
         "821",
         "sudah sy terima tapi nggak sy makan karena sdh lebih 5 hari di perjalanan. takut sakit perut. produk ini sudah sampai di kota saya hari senin, tapi baru diantar ke saya kamis hari ini. itupun setelah email cs anteraja dan komplain tokopedia.",
         "3"
        ],
        [
         "839",
         "kurang suka, rasanya pahit.",
         "3"
        ],
        [
         "848",
         "Lontongnya banyak yg benyek om ga kejel ga padet...",
         "3"
        ],
        [
         "852",
         "product sesuai tp oncomnya tebalnya hanya separuh dari oncom biasanya",
         "3"
        ],
        [
         "990",
         "ada rasa asinnya...",
         "3"
        ],
        [
         "1046",
         "agak kecewa note tidak sesuai 😭",
         "3"
        ],
        [
         "1061",
         "Maaf ya saya kurang cocok dg rasa saus dan buah nya juga tidak fresh. Berair.",
         "3"
        ],
        [
         "1126",
         "uda pesen hr sabtu, tp pengiriman cuma ampe jam 11. senin dikirim pun sore, sampai ke tujuan seLasa siang.",
         "3"
        ],
        [
         "1195",
         "Ehm choipan nya ya rasa choipan pada umum nya..biasa aja..terus dapat sambal nya sedikit padahal beli nya 40 biji..",
         "3"
        ],
        [
         "1211",
         "Not really for me hehe. Buat aku sangat sangat kemanisan. Tapi teksturnya ok.",
         "3"
        ],
        [
         "1294",
         "Expire nya terlalu pendek jangka waktunya, cuma 4 hari stlh brg ditrima",
         "3"
        ],
        [
         "1295",
         "yg mix, akutuh bingung kok Kardusnya Brownis Keju yaa.. tp buat kardus pengirimannya lumayan berani juga yaa dikirim bgitu.",
         "3"
        ],
        [
         "1362",
         "rasa n packing ok",
         "3"
        ],
        [
         "1363",
         "sepertinya kemasan kurang cocok utk pengiriman same day, isinya jadi ikut tertekan2",
         "3"
        ],
        [
         "1386",
         "ada bau yg anéh",
         "3"
        ],
        [
         "1433",
         "kurang 1",
         "3"
        ],
        [
         "1467",
         "pengiriman agak lama",
         "3"
        ],
        [
         "1475",
         "hari ini sampai besok sudah tanggal exp, coklat meleleh kemana2, rasanya pun sudah sedikit asam seperti basi..",
         "3"
        ],
        [
         "1531",
         "Kurang fresh keliatan sudah lama.",
         "3"
        ],
        [
         "1548",
         "Pengirimannya lambat,takut exp dijalan",
         "3"
        ],
        [
         "1590",
         "sedih banget beli 2 pax, tapi kok ga diliat expirednya kak..padahal lagi mau bgt bakpia, pas mau dimakan udah expired, udah rusak bakpianya. tolong diperhatiin tanggalnya kak sebelum dikirim",
         "3"
        ],
        [
         "1595",
         "komplain saya gak direspon, saya gak mau duit kembalikan, kenapa tidak dikirim sisanya yg kurang",
         "3"
        ],
        [
         "1633",
         "ukuran kecil , rasa biasa aja.",
         "3"
        ],
        [
         "1642",
         "kirain isinya sama 250gram,eh yg hokaido isi nya cuma 100gr😀😀,bukan 250gr",
         "3"
        ],
        [
         "1721",
         "1. Kotak Kardus pengiriman tidak ada tanda stiker makanan, jadi kurir tidak hati hati, dan pengiriman dengan cara di lempar ke pagar\n2. Pemesanan, pengiriman, hingga diterima, membutuhkan 4 hari. Padahal sudah bayar untuk pengirman express",
         "3"
        ],
        [
         "1722",
         "sdh minta expired datenya lamaan ini tinggal 2 hari lg kadaluarsa dr paketnya sampai....gimana sih mba....sy sdh pesen di catatan....",
         "3"
        ],
        [
         "1751",
         "Packingannya tipis",
         "3"
        ],
        [
         "1789",
         "dari 3 kotak, 2 kotak isinya hancur.",
         "3"
        ],
        [
         "1869",
         "Ok tp pengiriman kurang ok. Sameday baru dipickup jam 2siang. Sudah order dr malam. Sebaiknya kl sameday request pickup pagian. Biar sampai cust tidak kemalaman",
         "3"
        ],
        [
         "1899",
         "cake nya enak tapi kemasannya harusnya diganti karna kue nya meleleh luber ke kotak nya",
         "3"
        ],
        [
         "1953",
         "Kuenya enak banget, tapi agak kurang professional dalam handle pesanan. Pengiriman saya pny telat, kalau mau order lebih baik minta disiapkan dari 1 jam sebelum jam kalian ekspektasi bakalan dikirim. Apalagi yg rmhnya jauh dari lokasi bakerynya, saya sampe kontak admin tokped dan admin wa juga. Tidak ada rasa bersalah telat kirim sampai hampir 1 jam padahal sudah diingatkan dari hari sebelumnya..",
         "3"
        ],
        [
         "2198",
         "Krg kenyal mochi nya",
         "3"
        ],
        [
         "2210",
         "Bungkusan rusak satu bungkus",
         "3"
        ]
       ],
       "shape": {
        "columns": 2,
        "rows": 120
       }
      },
      "text/html": [
       "<div>\n",
       "<style scoped>\n",
       "    .dataframe tbody tr th:only-of-type {\n",
       "        vertical-align: middle;\n",
       "    }\n",
       "\n",
       "    .dataframe tbody tr th {\n",
       "        vertical-align: top;\n",
       "    }\n",
       "\n",
       "    .dataframe thead th {\n",
       "        text-align: right;\n",
       "    }\n",
       "</style>\n",
       "<table border=\"1\" class=\"dataframe\">\n",
       "  <thead>\n",
       "    <tr style=\"text-align: right;\">\n",
       "      <th></th>\n",
       "      <th>Review</th>\n",
       "      <th>Rating</th>\n",
       "    </tr>\n",
       "  </thead>\n",
       "  <tbody>\n",
       "    <tr>\n",
       "      <th>41</th>\n",
       "      <td>Terima kasih barangnya sudah sampai</td>\n",
       "      <td>3</td>\n",
       "    </tr>\n",
       "    <tr>\n",
       "      <th>46</th>\n",
       "      <td>pilus cikur alot dan liat pengiriman lama</td>\n",
       "      <td>3</td>\n",
       "    </tr>\n",
       "    <tr>\n",
       "      <th>108</th>\n",
       "      <td>sekarang keripiknya tebal2 dan lebih keras, ja...</td>\n",
       "      <td>3</td>\n",
       "    </tr>\n",
       "    <tr>\n",
       "      <th>111</th>\n",
       "      <td>belum dicoba sih, tapi semoga enak. nyesel cum...</td>\n",
       "      <td>3</td>\n",
       "    </tr>\n",
       "    <tr>\n",
       "      <th>126</th>\n",
       "      <td>maaf ya barangnya tidak diterima.</td>\n",
       "      <td>3</td>\n",
       "    </tr>\n",
       "    <tr>\n",
       "      <th>...</th>\n",
       "      <td>...</td>\n",
       "      <td>...</td>\n",
       "    </tr>\n",
       "    <tr>\n",
       "      <th>5371</th>\n",
       "      <td>almond slicenya bykan hancur</td>\n",
       "      <td>3</td>\n",
       "    </tr>\n",
       "    <tr>\n",
       "      <th>5382</th>\n",
       "      <td>pas dtg brgnya ok sesuai ordernya,tp ada yg sd...</td>\n",
       "      <td>3</td>\n",
       "    </tr>\n",
       "    <tr>\n",
       "      <th>5409</th>\n",
       "      <td>Kurang garing</td>\n",
       "      <td>3</td>\n",
       "    </tr>\n",
       "    <tr>\n",
       "      <th>5418</th>\n",
       "      <td>kacangnya ak beli pas diskon.bau tengik</td>\n",
       "      <td>3</td>\n",
       "    </tr>\n",
       "    <tr>\n",
       "      <th>5420</th>\n",
       "      <td>Pengiriman agak lama dari pihak kurir</td>\n",
       "      <td>3</td>\n",
       "    </tr>\n",
       "  </tbody>\n",
       "</table>\n",
       "<p>120 rows × 2 columns</p>\n",
       "</div>"
      ],
      "text/plain": [
       "                                                 Review  Rating\n",
       "41                  Terima kasih barangnya sudah sampai       3\n",
       "46            pilus cikur alot dan liat pengiriman lama       3\n",
       "108   sekarang keripiknya tebal2 dan lebih keras, ja...       3\n",
       "111   belum dicoba sih, tapi semoga enak. nyesel cum...       3\n",
       "126                   maaf ya barangnya tidak diterima.       3\n",
       "...                                                 ...     ...\n",
       "5371                       almond slicenya bykan hancur       3\n",
       "5382  pas dtg brgnya ok sesuai ordernya,tp ada yg sd...       3\n",
       "5409                                      Kurang garing       3\n",
       "5418            kacangnya ak beli pas diskon.bau tengik       3\n",
       "5420              Pengiriman agak lama dari pihak kurir       3\n",
       "\n",
       "[120 rows x 2 columns]"
      ]
     },
     "execution_count": 76,
     "metadata": {},
     "output_type": "execute_result"
    }
   ],
   "source": [
    "df2[df2['Rating']==3]"
   ]
  },
  {
   "cell_type": "markdown",
   "id": "ac31dfde",
   "metadata": {},
   "source": [
    "dari sini saya tau bahwa rating 3 tidak konsisten memiliki makna positif dan negatif dalam satu kalimat, sehingga lebih baik dibuang saja"
   ]
  },
  {
   "cell_type": "code",
   "execution_count": 77,
   "id": "f68e511c",
   "metadata": {},
   "outputs": [],
   "source": [
    "df2 = df2[df2['Rating']!=3]"
   ]
  },
  {
   "cell_type": "code",
   "execution_count": 78,
   "id": "93891538",
   "metadata": {},
   "outputs": [],
   "source": [
    "df2.rename(columns={\n",
    "    'Review' : 'text',\n",
    "    'Rating' : 'rating'\n",
    "},inplace=True)"
   ]
  },
  {
   "cell_type": "markdown",
   "id": "614de0a2",
   "metadata": {},
   "source": [
    "## dataset 3"
   ]
  },
  {
   "cell_type": "code",
   "execution_count": 6,
   "id": "fe184ab9",
   "metadata": {},
   "outputs": [
    {
     "name": "stdout",
     "output_type": "stream",
     "text": [
      "<class 'pandas.core.frame.DataFrame'>\n",
      "RangeIndex: 5400 entries, 0 to 5399\n",
      "Data columns (total 11 columns):\n",
      " #   Column           Non-Null Count  Dtype  \n",
      "---  ------           --------------  -----  \n",
      " 0   Category         5400 non-null   object \n",
      " 1   Product Name     5400 non-null   object \n",
      " 2   Location         5400 non-null   object \n",
      " 3   Price            5400 non-null   int64  \n",
      " 4   Overall Rating   5400 non-null   float64\n",
      " 5   Number Sold      5400 non-null   int64  \n",
      " 6   Total Review     5400 non-null   int64  \n",
      " 7   Customer Rating  5400 non-null   int64  \n",
      " 8   Customer Review  5400 non-null   object \n",
      " 9   Sentiment        5400 non-null   object \n",
      " 10  Emotion          5400 non-null   object \n",
      "dtypes: float64(1), int64(4), object(6)\n",
      "memory usage: 464.2+ KB\n"
     ]
    }
   ],
   "source": [
    "df3.info()"
   ]
  },
  {
   "cell_type": "code",
   "execution_count": 7,
   "id": "daf54788",
   "metadata": {},
   "outputs": [
    {
     "data": {
      "text/plain": [
       "Category\n",
       "Computers and Laptops       200\n",
       "Kitchen                     200\n",
       "Health                      200\n",
       "Beauty                      200\n",
       "Camera                      200\n",
       "Mother and Baby             200\n",
       "Phones and Tablets          200\n",
       "Gaming                      200\n",
       "Movies and Music            200\n",
       "Women's Fashion             200\n",
       "Men's Fashion               200\n",
       "Muslim Fashion              200\n",
       "Kids and Baby Fashion       200\n",
       "Electronics                 200\n",
       "Books                       200\n",
       "Toys and Hobbies            200\n",
       "Sport                       200\n",
       "Other Products              200\n",
       "Carpentry                   200\n",
       "Party Supplies and Craft    200\n",
       "Body Care                   200\n",
       "Animal Care                 200\n",
       "Automotive                  200\n",
       "Office & Stationery         200\n",
       "Food and Drink              200\n",
       "Household                   200\n",
       "Tour and Travel              80\n",
       "Precious Metal               80\n",
       "Property                     40\n",
       "Name: count, dtype: int64"
      ]
     },
     "execution_count": 7,
     "metadata": {},
     "output_type": "execute_result"
    }
   ],
   "source": [
    "df3['Category'].value_counts()"
   ]
  },
  {
   "cell_type": "code",
   "execution_count": 80,
   "id": "55f8a816",
   "metadata": {},
   "outputs": [],
   "source": [
    "df3 = df3[['Customer Review','Sentiment']]"
   ]
  },
  {
   "cell_type": "code",
   "execution_count": 81,
   "id": "8f4bb962",
   "metadata": {},
   "outputs": [],
   "source": [
    "df3.dropna(inplace=True)"
   ]
  },
  {
   "cell_type": "code",
   "execution_count": 82,
   "id": "b32e2238",
   "metadata": {},
   "outputs": [],
   "source": [
    "df3.drop_duplicates(subset='Customer Review',inplace=True)"
   ]
  },
  {
   "cell_type": "code",
   "execution_count": 83,
   "id": "79f93e36",
   "metadata": {},
   "outputs": [],
   "source": [
    "df3.rename(columns={\n",
    "    'Customer Review' : 'text',\n",
    "    'Sentiment':'sentiment'\n",
    "},inplace=True)"
   ]
  },
  {
   "cell_type": "markdown",
   "id": "a198b1c8",
   "metadata": {},
   "source": [
    "dataset sudah cukup baik memilah rating 3 kedalam sentimen negatif dan positif, tidak seperti dataset pertama dan kedua yang tidak konsisten dalam makna positif/negatif"
   ]
  },
  {
   "cell_type": "code",
   "execution_count": 84,
   "id": "32924777",
   "metadata": {},
   "outputs": [
    {
     "name": "stdout",
     "output_type": "stream",
     "text": [
      "<class 'pandas.core.frame.DataFrame'>\n",
      "Index: 5305 entries, 0 to 5399\n",
      "Data columns (total 2 columns):\n",
      " #   Column     Non-Null Count  Dtype \n",
      "---  ------     --------------  ----- \n",
      " 0   text       5305 non-null   object\n",
      " 1   sentiment  5305 non-null   object\n",
      "dtypes: object(2)\n",
      "memory usage: 124.3+ KB\n"
     ]
    }
   ],
   "source": [
    "df3.info()"
   ]
  },
  {
   "cell_type": "markdown",
   "id": "a5575038",
   "metadata": {},
   "source": [
    "## dataset 4 "
   ]
  },
  {
   "cell_type": "code",
   "execution_count": 85,
   "id": "e7c71ef1",
   "metadata": {},
   "outputs": [
    {
     "name": "stdout",
     "output_type": "stream",
     "text": [
      "<class 'pandas.core.frame.DataFrame'>\n",
      "RangeIndex: 40607 entries, 0 to 40606\n",
      "Data columns (total 9 columns):\n",
      " #   Column        Non-Null Count  Dtype \n",
      "---  ------        --------------  ----- \n",
      " 0   Unnamed: 0    40607 non-null  int64 \n",
      " 1   text          40607 non-null  object\n",
      " 2   rating        40607 non-null  int64 \n",
      " 3   category      40607 non-null  object\n",
      " 4   product_name  40607 non-null  object\n",
      " 5   product_id    40607 non-null  int64 \n",
      " 6   sold          40593 non-null  object\n",
      " 7   shop_id       40607 non-null  int64 \n",
      " 8   product_url   40607 non-null  object\n",
      "dtypes: int64(4), object(5)\n",
      "memory usage: 2.8+ MB\n"
     ]
    }
   ],
   "source": [
    "df4.info()"
   ]
  },
  {
   "cell_type": "code",
   "execution_count": 8,
   "id": "27614a3f",
   "metadata": {},
   "outputs": [
    {
     "data": {
      "text/plain": [
       "category\n",
       "elektronik     15897\n",
       "fashion         8910\n",
       "olahraga        7838\n",
       "handphone       6136\n",
       "pertukangan     1826\n",
       "Name: count, dtype: int64"
      ]
     },
     "execution_count": 8,
     "metadata": {},
     "output_type": "execute_result"
    }
   ],
   "source": [
    "df4['category'].value_counts()"
   ]
  },
  {
   "cell_type": "code",
   "execution_count": 86,
   "id": "9f076ef6",
   "metadata": {},
   "outputs": [],
   "source": [
    "df4 = df4[['text','rating']]"
   ]
  },
  {
   "cell_type": "code",
   "execution_count": 87,
   "id": "16bdd0ad",
   "metadata": {},
   "outputs": [
    {
     "data": {
      "application/vnd.microsoft.datawrangler.viewer.v0+json": {
       "columns": [
        {
         "name": "index",
         "rawType": "int64",
         "type": "integer"
        },
        {
         "name": "text",
         "rawType": "object",
         "type": "string"
        },
        {
         "name": "rating",
         "rawType": "int64",
         "type": "integer"
        }
       ],
       "conversionMethod": "pd.DataFrame",
       "ref": "a1788f5d-531c-4f3f-af14-95c162c931a5",
       "rows": [
        [
         "0",
         "Barang sesuai pesanan dan cepat sampai",
         "5"
        ],
        [
         "1",
         "Barang bagus harga murah",
         "5"
        ],
        [
         "2",
         "Paket rapi...mantap....cepat....sampe ke tujuan",
         "5"
        ],
        [
         "3",
         "ya saya puas dgn barangnya",
         "5"
        ],
        [
         "4",
         "Responya luar biasa b mantap",
         "5"
        ],
        [
         "5",
         "seller top, pengiriman cepat barang oke",
         "5"
        ],
        [
         "6",
         "pengiriman cepat seller top",
         "5"
        ],
        [
         "7",
         "Produk sesuai dengan spec di web dan respon seller sangat cepat. Thankyou.",
         "5"
        ],
        [
         "8",
         "Respon super cepat, pengiriman cepat, Barang bagus sesuai deskripsi penjual..thx gan",
         "5"
        ],
        [
         "9",
         "Barang mantap, pelayanan cepat",
         "5"
        ],
        [
         "10",
         "Sippp,sesuai pic,dscrbs..cuma blum dicoba😁",
         "5"
        ],
        [
         "11",
         "Sayang produk yg datang di paking kurang rapi sehingga kebuka n isinya terhambur.  Saran klo mengirimkan isi paku tembak seperti ini di beri lakban dulu dikemasan pakunya baru di gabung kan dgn yg lain supaya tidak tercecer. Untuk kualitas barang seperinya bagus walau saya belum coba.  Terima kasih",
         "3"
        ],
        [
         "12",
         "Barang sesuai deskripsi..respon dan proses cepat. Terima kasih",
         "5"
        ],
        [
         "13",
         "Mantaaaaaaaappp..........",
         "5"
        ],
        [
         "14",
         "superrrrrrrrrrrrrrrrrrrrrrrrrrrrrrrrrrrrrr",
         "5"
        ],
        [
         "15",
         "josss pokok e bisa buat langganan",
         "5"
        ],
        [
         "16",
         "berfungsi dengan baik, normal",
         "5"
        ],
        [
         "17",
         "Cara Memberikan Nilai Reputasi ke Penjual\n\nUntuk dapat memberikan nilai reputasi ke penjual, Anda dapat melakukan langkah-langkah berikut ini:",
         "5"
        ],
        [
         "18",
         "Barang sesuai dengan deskripsi. Pengiriman cepat gak pake lama. Barang bagus. Mantap dahh pokoknya. Thanks gan",
         "5"
        ],
        [
         "19",
         "Sesuai dengan deskripsi",
         "5"
        ],
        [
         "20",
         "bagus,  packing aman pake bublewrap.  ndak ada yang patah",
         "5"
        ],
        [
         "21",
         "Barang sesuai deskripsi",
         "5"
        ],
        [
         "22",
         "cukuuuuuuuuuuuuuuuuuuuuuuuuuuuuuuuuuuuuuuuuuuuuuupp",
         "5"
        ],
        [
         "23",
         "barang sudah sampai sesuai pesanan .",
         "5"
        ],
        [
         "24",
         "Thanksssssssssssssss",
         "3"
        ],
        [
         "25",
         "Barang bagus sesuai info fast response",
         "4"
        ],
        [
         "26",
         "barang ok....\npengriman cepet....",
         "5"
        ],
        [
         "27",
         "barang sudah sy terima gan thanks",
         "4"
        ],
        [
         "28",
         "paket telah diterima baik.. Terima kasih",
         "5"
        ],
        [
         "29",
         "Barang bagus, ga kecewa, tapi kurang banyak, nanti order lagi dah",
         "5"
        ],
        [
         "30",
         "barang sudah di terima, terima kasih ....",
         "4"
        ],
        [
         "31",
         "Barang sudah diterima .........",
         "4"
        ],
        [
         "32",
         "sip. udah sampe beberapa menit yg lalu. oke sesuai pesanan dan gambar. trimakasih kerjasamanya.",
         "5"
        ],
        [
         "33",
         "sesuai deskripsi barangnya",
         "5"
        ],
        [
         "34",
         "Produk sesuai pesanan tp blm dcoba",
         "4"
        ],
        [
         "35",
         "Proses cepat dan mantap",
         "5"
        ],
        [
         "36",
         "sesuai deskripsi barangnya",
         "5"
        ],
        [
         "37",
         "Bagus sesuai dgn deskripsi thnks.",
         "5"
        ],
        [
         "38",
         "Produk sesuai gambar dan deskripsi. Produknya bagus dan harganya jg bagus. Recommended produk",
         "5"
        ],
        [
         "39",
         "seller is good. produknya mantap. 5 stars ya",
         "5"
        ],
        [
         "40",
         "Produk bagus, sesuai deskripsi, packing rapi, pengiriman cepat, hanya kurirnya yg agak telat.. thanks..",
         "5"
        ],
        [
         "41",
         "Mahmurah mantap... Barang sdh sampe,, thanks sukses selalu",
         "5"
        ],
        [
         "42",
         "Produk diterima utuh tersegel.. semoga awet",
         "5"
        ],
        [
         "43",
         "Sesuai order, pengiriman cepat, respon cepat",
         "4"
        ],
        [
         "44",
         "Respon dan proses dr penjual cepat. Barang sdh diterima stlh 2 hari. Kualitas barang bagus. Recommended seller. Thanks",
         "5"
        ],
        [
         "45",
         "Mantap. Sesuai deskripsi. Trimakasih semoga barokah jualannya.",
         "5"
        ],
        [
         "46",
         "Makasih gan, barang sesuai",
         "5"
        ],
        [
         "47",
         "Pengiriman cepat. Fast respon. Barang sesuai. Trims",
         "5"
        ],
        [
         "48",
         "Produknya bagus, berkualitas, dan berfungsi dg baik",
         "5"
        ],
        [
         "49",
         "brg diterima dg baik&amp; lengkap",
         "5"
        ]
       ],
       "shape": {
        "columns": 2,
        "rows": 40607
       }
      },
      "text/html": [
       "<div>\n",
       "<style scoped>\n",
       "    .dataframe tbody tr th:only-of-type {\n",
       "        vertical-align: middle;\n",
       "    }\n",
       "\n",
       "    .dataframe tbody tr th {\n",
       "        vertical-align: top;\n",
       "    }\n",
       "\n",
       "    .dataframe thead th {\n",
       "        text-align: right;\n",
       "    }\n",
       "</style>\n",
       "<table border=\"1\" class=\"dataframe\">\n",
       "  <thead>\n",
       "    <tr style=\"text-align: right;\">\n",
       "      <th></th>\n",
       "      <th>text</th>\n",
       "      <th>rating</th>\n",
       "    </tr>\n",
       "  </thead>\n",
       "  <tbody>\n",
       "    <tr>\n",
       "      <th>0</th>\n",
       "      <td>Barang sesuai pesanan dan cepat sampai</td>\n",
       "      <td>5</td>\n",
       "    </tr>\n",
       "    <tr>\n",
       "      <th>1</th>\n",
       "      <td>Barang bagus harga murah</td>\n",
       "      <td>5</td>\n",
       "    </tr>\n",
       "    <tr>\n",
       "      <th>2</th>\n",
       "      <td>Paket rapi...mantap....cepat....sampe ke tujuan</td>\n",
       "      <td>5</td>\n",
       "    </tr>\n",
       "    <tr>\n",
       "      <th>3</th>\n",
       "      <td>ya saya puas dgn barangnya</td>\n",
       "      <td>5</td>\n",
       "    </tr>\n",
       "    <tr>\n",
       "      <th>4</th>\n",
       "      <td>Responya luar biasa b mantap</td>\n",
       "      <td>5</td>\n",
       "    </tr>\n",
       "    <tr>\n",
       "      <th>...</th>\n",
       "      <td>...</td>\n",
       "      <td>...</td>\n",
       "    </tr>\n",
       "    <tr>\n",
       "      <th>40602</th>\n",
       "      <td>gak bisa ditutup.. ukuran gak pas..</td>\n",
       "      <td>1</td>\n",
       "    </tr>\n",
       "    <tr>\n",
       "      <th>40603</th>\n",
       "      <td>Penjual krg peduli dan brg jelek. Brg yg dikir...</td>\n",
       "      <td>1</td>\n",
       "    </tr>\n",
       "    <tr>\n",
       "      <th>40604</th>\n",
       "      <td>pelayanan kurang sigap, berhari2 dr nanya baik...</td>\n",
       "      <td>1</td>\n",
       "    </tr>\n",
       "    <tr>\n",
       "      <th>40605</th>\n",
       "      <td>barang yg dikirim tsk sesuai wrn, kl memang dr...</td>\n",
       "      <td>1</td>\n",
       "    </tr>\n",
       "    <tr>\n",
       "      <th>40606</th>\n",
       "      <td>Pihak penjual memberikan respon yang buruk kep...</td>\n",
       "      <td>1</td>\n",
       "    </tr>\n",
       "  </tbody>\n",
       "</table>\n",
       "<p>40607 rows × 2 columns</p>\n",
       "</div>"
      ],
      "text/plain": [
       "                                                    text  rating\n",
       "0                 Barang sesuai pesanan dan cepat sampai       5\n",
       "1                               Barang bagus harga murah       5\n",
       "2        Paket rapi...mantap....cepat....sampe ke tujuan       5\n",
       "3                             ya saya puas dgn barangnya       5\n",
       "4                           Responya luar biasa b mantap       5\n",
       "...                                                  ...     ...\n",
       "40602                gak bisa ditutup.. ukuran gak pas..       1\n",
       "40603  Penjual krg peduli dan brg jelek. Brg yg dikir...       1\n",
       "40604  pelayanan kurang sigap, berhari2 dr nanya baik...       1\n",
       "40605  barang yg dikirim tsk sesuai wrn, kl memang dr...       1\n",
       "40606  Pihak penjual memberikan respon yang buruk kep...       1\n",
       "\n",
       "[40607 rows x 2 columns]"
      ]
     },
     "execution_count": 87,
     "metadata": {},
     "output_type": "execute_result"
    }
   ],
   "source": [
    "df4.dropna()"
   ]
  },
  {
   "cell_type": "code",
   "execution_count": 88,
   "id": "af81dbe8",
   "metadata": {},
   "outputs": [],
   "source": [
    "df4.drop_duplicates(subset='text',inplace=True)"
   ]
  },
  {
   "cell_type": "code",
   "execution_count": 89,
   "id": "83c7cd31",
   "metadata": {},
   "outputs": [
    {
     "data": {
      "application/vnd.microsoft.datawrangler.viewer.v0+json": {
       "columns": [
        {
         "name": "index",
         "rawType": "int64",
         "type": "integer"
        },
        {
         "name": "text",
         "rawType": "object",
         "type": "string"
        },
        {
         "name": "rating",
         "rawType": "int64",
         "type": "integer"
        }
       ],
       "conversionMethod": "pd.DataFrame",
       "ref": "6eb527e1-2384-4b43-8caf-06b273f2461e",
       "rows": [
        [
         "11",
         "Sayang produk yg datang di paking kurang rapi sehingga kebuka n isinya terhambur.  Saran klo mengirimkan isi paku tembak seperti ini di beri lakban dulu dikemasan pakunya baru di gabung kan dgn yg lain supaya tidak tercecer. Untuk kualitas barang seperinya bagus walau saya belum coba.  Terima kasih",
         "3"
        ],
        [
         "24",
         "Thanksssssssssssssss",
         "3"
        ],
        [
         "61",
         "Barang bagus, kualitas sesuai harga",
         "3"
        ],
        [
         "70",
         "Ok lah.. sesuai denggan harga.",
         "3"
        ],
        [
         "103",
         "Barang sudah sampai.. terima kasih",
         "3"
        ],
        [
         "125",
         "Fast respon. Barang sesuai dengan di gambar",
         "3"
        ],
        [
         "142",
         "Barang oke terima kasih",
         "3"
        ],
        [
         "149",
         "Sesuai deskripsi......lumayan lah buat pertama kali",
         "3"
        ],
        [
         "155",
         "Terima kasih seller barang baru sampai.tapi kurang teliti.mohon d perbaiki lg ya supaya gak tertukar no resinya dgn yg lain....",
         "3"
        ],
        [
         "180",
         "packing bagus barang sesuai diskripsi",
         "3"
        ],
        [
         "187",
         "terimakasih barang sudah sampai",
         "3"
        ],
        [
         "194",
         "barangnya kurang bagus atomnya gak masuk semua",
         "3"
        ],
        [
         "242",
         "terima kasih paket sudah di terima",
         "3"
        ],
        [
         "255",
         "Pengiriman Cepat, packing aman tp Isi staplesnya pada karatan semua, beli 2 box",
         "3"
        ],
        [
         "264",
         "isinya ada yg karat. produk sesuai gambar",
         "3"
        ],
        [
         "269",
         "barang dah sampai.. tapi sy salah tafsir, tak pikir 10mm utk lebarnya, ternyata kecil. ya sudahlah bisa buat yg lain. thx",
         "3"
        ],
        [
         "292",
         "Barang cocok dengan harapan ...",
         "3"
        ],
        [
         "315",
         "blom kpake ga ccocok ama pluru nya trnyata",
         "3"
        ],
        [
         "317",
         "terimakasih........................................................................................",
         "3"
        ],
        [
         "331",
         "Sesuai gambar, sesuai kualitas dengan harga",
         "3"
        ],
        [
         "337",
         "Bad response...ga ada jawaban setiap di tanya..sangat sangat silent seller",
         "3"
        ],
        [
         "339",
         "respon kurang cepat.lain kali respon agak cepat.thanks",
         "3"
        ],
        [
         "347",
         "ya lumayanlah buat dekorasi semoga awet ya,",
         "3"
        ],
        [
         "348",
         "Harap informasi isi staples yg bagaimanakah yg cocok?",
         "3"
        ],
        [
         "396",
         "Good response recomended seller tapi barangnya kurang bagus.",
         "3"
        ],
        [
         "440",
         "brg sdh sa.pai dan dicoba sdh ok",
         "3"
        ],
        [
         "470",
         "Barang kurang bagus, kadang staples ga keluar, agak kurang bagus",
         "3"
        ],
        [
         "533",
         "Pengiriman kemarin terhambat.....",
         "3"
        ],
        [
         "543",
         "Cukuppppppppppppppp.........  ..",
         "3"
        ],
        [
         "571",
         "barang sdh sesuai dgn deskripsi hanya saja pada saat diterima isinya sdh tdk utuh lagi (patah semua). tdk tau dari awal sdh seperti itu atau larena packingnya kurang aman. semoga kedepan dapat ditingkatkan lagi",
         "3"
        ],
        [
         "669",
         "Ukuran mak tertulis di product 14mm faktanya 8mm.",
         "3"
        ],
        [
         "677",
         "pesan Homaster, Kenmaster yang dikirim, isi staples yg dikirim ternyata tidak cocok utk staplesnya, parrahnya lagi isinya gak ada yg jual di kota saya. nyesel beli disinu!",
         "3"
        ],
        [
         "681",
         "maaf  baru bisa ngasih ulasan, barang sdh diterima dengan baik cuma kalau dipake ke benda keras kurang nancap walaupun sudah diseting, tapi oklah !",
         "3"
        ],
        [
         "718",
         "tembakan nya mantap. lah....\nlain kali di cek dulu gan jual isi ulang staplesnya. biar sesuai dengan tembakannya.\nyg agan kirim ke saya isi ulangnya gx sesuai.\nsekali tembak keluarnya 2 staples.",
         "3"
        ],
        [
         "728",
         "Tampak fisik ok, tp belum sempat dicoba.",
         "3"
        ],
        [
         "824",
         "Barang cacat bos sampai sini.",
         "3"
        ],
        [
         "838",
         "powernya agak kurang dibanding yg sdh saya punya. tp gpp, emang harganya beda. yg ini bisa jadi cadangan. thanks",
         "3"
        ],
        [
         "852",
         "Ok..\nBerfungsi dngn baik.",
         "3"
        ],
        [
         "885",
         "barang cukup memuaaskan lain kali beli lagi",
         "3"
        ],
        [
         "968",
         "Barang sdh saya trima tapi pusing carinya",
         "3"
        ],
        [
         "1013",
         "Barang cukup bagus, Respon bagus. Tapi gak ada manualnya ya gan? Sdh sy cb gunakan. Utk Paku tipe Brad Nail cara pasangnya gmn? Sy cb selipin dipinggir aja bisa berfungsi, tp gak bisa dikeluarin lg sisanya, akhirnya sy tembakin sampe abis aja. Hatur nuhun.",
         "3"
        ],
        [
         "1034",
         "Barangnya sudah sampe... Sesuai dengan gambar dan quality sesuai dengan harganya.. Haturnuhun",
         "3"
        ],
        [
         "1087",
         "barang sudah diterima dgn selamat... (y)",
         "3"
        ],
        [
         "1109",
         "Sesuai harga... saat menembak harus ditekan dengan keras",
         "3"
        ],
        [
         "1129",
         "Pesanan sudah sampai Bos, kualitas produk sesuai dgn harga. kalau untuk ukuran paku 30ml, tendangan kurang kencang. Tks",
         "3"
        ],
        [
         "1185",
         "terimakasih barang sudah sampai. mudah2an awet. tadi dah dicoba tapi sekali keluar langsung dua...",
         "3"
        ],
        [
         "1187",
         "barang sudah sampai terima kasih",
         "3"
        ],
        [
         "1228",
         "Hshs ja gags hs habsb jsb",
         "3"
        ],
        [
         "1246",
         "Semoga bisa di pake dan awet",
         "3"
        ],
        [
         "1278",
         "sebanding dengan harganya sih.\nagak susah dipakainya",
         "3"
        ]
       ],
       "shape": {
        "columns": 2,
        "rows": 1762
       }
      },
      "text/html": [
       "<div>\n",
       "<style scoped>\n",
       "    .dataframe tbody tr th:only-of-type {\n",
       "        vertical-align: middle;\n",
       "    }\n",
       "\n",
       "    .dataframe tbody tr th {\n",
       "        vertical-align: top;\n",
       "    }\n",
       "\n",
       "    .dataframe thead th {\n",
       "        text-align: right;\n",
       "    }\n",
       "</style>\n",
       "<table border=\"1\" class=\"dataframe\">\n",
       "  <thead>\n",
       "    <tr style=\"text-align: right;\">\n",
       "      <th></th>\n",
       "      <th>text</th>\n",
       "      <th>rating</th>\n",
       "    </tr>\n",
       "  </thead>\n",
       "  <tbody>\n",
       "    <tr>\n",
       "      <th>11</th>\n",
       "      <td>Sayang produk yg datang di paking kurang rapi ...</td>\n",
       "      <td>3</td>\n",
       "    </tr>\n",
       "    <tr>\n",
       "      <th>24</th>\n",
       "      <td>Thanksssssssssssssss</td>\n",
       "      <td>3</td>\n",
       "    </tr>\n",
       "    <tr>\n",
       "      <th>61</th>\n",
       "      <td>Barang bagus, kualitas sesuai harga</td>\n",
       "      <td>3</td>\n",
       "    </tr>\n",
       "    <tr>\n",
       "      <th>70</th>\n",
       "      <td>Ok lah.. sesuai denggan harga.</td>\n",
       "      <td>3</td>\n",
       "    </tr>\n",
       "    <tr>\n",
       "      <th>103</th>\n",
       "      <td>Barang sudah sampai.. terima kasih</td>\n",
       "      <td>3</td>\n",
       "    </tr>\n",
       "    <tr>\n",
       "      <th>...</th>\n",
       "      <td>...</td>\n",
       "      <td>...</td>\n",
       "    </tr>\n",
       "    <tr>\n",
       "      <th>40578</th>\n",
       "      <td>Kualitas barang sepertinya ringkih..tp lumayan...</td>\n",
       "      <td>3</td>\n",
       "    </tr>\n",
       "    <tr>\n",
       "      <th>40583</th>\n",
       "      <td>Yg dikirim merk Pavilo.</td>\n",
       "      <td>3</td>\n",
       "    </tr>\n",
       "    <tr>\n",
       "      <th>40597</th>\n",
       "      <td>makasih bos barangnya sudah dateng</td>\n",
       "      <td>3</td>\n",
       "    </tr>\n",
       "    <tr>\n",
       "      <th>40600</th>\n",
       "      <td>pengiriman masih lambat padahal udah gosend sa...</td>\n",
       "      <td>3</td>\n",
       "    </tr>\n",
       "    <tr>\n",
       "      <th>40601</th>\n",
       "      <td>saya agak kecewa..saya belinya yg warna item (...</td>\n",
       "      <td>3</td>\n",
       "    </tr>\n",
       "  </tbody>\n",
       "</table>\n",
       "<p>1762 rows × 2 columns</p>\n",
       "</div>"
      ],
      "text/plain": [
       "                                                    text  rating\n",
       "11     Sayang produk yg datang di paking kurang rapi ...       3\n",
       "24                                  Thanksssssssssssssss       3\n",
       "61                   Barang bagus, kualitas sesuai harga       3\n",
       "70                        Ok lah.. sesuai denggan harga.       3\n",
       "103                   Barang sudah sampai.. terima kasih       3\n",
       "...                                                  ...     ...\n",
       "40578  Kualitas barang sepertinya ringkih..tp lumayan...       3\n",
       "40583                            Yg dikirim merk Pavilo.       3\n",
       "40597                 makasih bos barangnya sudah dateng       3\n",
       "40600  pengiriman masih lambat padahal udah gosend sa...       3\n",
       "40601  saya agak kecewa..saya belinya yg warna item (...       3\n",
       "\n",
       "[1762 rows x 2 columns]"
      ]
     },
     "execution_count": 89,
     "metadata": {},
     "output_type": "execute_result"
    }
   ],
   "source": [
    "df4[df4['rating']==3]"
   ]
  },
  {
   "cell_type": "markdown",
   "id": "9a44a04b",
   "metadata": {},
   "source": [
    "dari sini saya tau, bahwa rating 3 tidak konsisten memiliki makna negatif dan postif dalam satu kalimat, lebih baik dihapus saja"
   ]
  },
  {
   "cell_type": "code",
   "execution_count": 90,
   "id": "460ce709",
   "metadata": {},
   "outputs": [],
   "source": [
    "df4 = df4[df4['rating']!=3]"
   ]
  },
  {
   "cell_type": "markdown",
   "id": "f291aeb4",
   "metadata": {},
   "source": [
    "## dataset 5 & 6"
   ]
  },
  {
   "cell_type": "code",
   "execution_count": 91,
   "id": "f2a14085",
   "metadata": {},
   "outputs": [],
   "source": [
    "# df5 = pd.read_csv('pembentukan dataset sumarisasi fase 2\\df_ambiguous_positive_reviews1.csv')"
   ]
  },
  {
   "cell_type": "code",
   "execution_count": 92,
   "id": "20443386",
   "metadata": {},
   "outputs": [],
   "source": [
    "# df5.info()"
   ]
  },
  {
   "cell_type": "code",
   "execution_count": 93,
   "id": "a0673492",
   "metadata": {},
   "outputs": [],
   "source": [
    "# df5.rename(columns={\n",
    "#     'ambiguous_review' : 'text'\n",
    "# },inplace=True)"
   ]
  },
  {
   "cell_type": "code",
   "execution_count": 94,
   "id": "005ecd33",
   "metadata": {},
   "outputs": [],
   "source": [
    "# df5['sentiment']=1"
   ]
  },
  {
   "cell_type": "code",
   "execution_count": 95,
   "id": "8031c71d",
   "metadata": {},
   "outputs": [],
   "source": [
    "# df5.info()"
   ]
  },
  {
   "cell_type": "code",
   "execution_count": 96,
   "id": "96046112",
   "metadata": {},
   "outputs": [],
   "source": [
    "# df6 = pd.read_csv('df_ambiguous_negatif_reviews.csv')"
   ]
  },
  {
   "cell_type": "code",
   "execution_count": 97,
   "id": "1ce72e51",
   "metadata": {},
   "outputs": [],
   "source": [
    "# df6.info()"
   ]
  },
  {
   "cell_type": "code",
   "execution_count": 98,
   "id": "0904149e",
   "metadata": {},
   "outputs": [],
   "source": [
    "# df6.rename(columns={\n",
    "#     'ambiguous_review':'text'\n",
    "# },inplace=True)"
   ]
  },
  {
   "cell_type": "code",
   "execution_count": 99,
   "id": "3b50d4a9",
   "metadata": {},
   "outputs": [],
   "source": [
    "# df6['sentiment']=0"
   ]
  },
  {
   "cell_type": "code",
   "execution_count": 100,
   "id": "e6e1c81e",
   "metadata": {},
   "outputs": [],
   "source": [
    "# df6.info()"
   ]
  },
  {
   "cell_type": "code",
   "execution_count": 101,
   "id": "627cd88e",
   "metadata": {},
   "outputs": [],
   "source": [
    "# df6"
   ]
  },
  {
   "cell_type": "markdown",
   "id": "f4b06539",
   "metadata": {},
   "source": [
    "# Fungsi fungsi pre-processing"
   ]
  },
  {
   "cell_type": "markdown",
   "id": "ffff77f5",
   "metadata": {},
   "source": [
    "## data cleaning"
   ]
  },
  {
   "cell_type": "code",
   "execution_count": 102,
   "id": "91deed7e",
   "metadata": {},
   "outputs": [],
   "source": [
    "# import re\n",
    "\n",
    "# def extract_quotes(text):\n",
    "#     quotes = re.findall(r'\"(.*?)\"', text)\n",
    "#     if quotes:\n",
    "#         return \" \".join(quotes)  # Ambil dan gabungin quotes aja\n",
    "#     else:\n",
    "#         return text  # Kalau gak ada kutip, balikin teks aslinya\n"
   ]
  },
  {
   "cell_type": "code",
   "execution_count": 103,
   "id": "f68705e5",
   "metadata": {},
   "outputs": [],
   "source": [
    "import re\n",
    "import emoji\n",
    "\n",
    "def expand_repeated_words(text):\n",
    "    def replace_match(match):\n",
    "        word = match.group(1)\n",
    "        count = int(match.group(2))\n",
    "        suffix = match.group(3) if match.group(3) else \"\"\n",
    "        return \" \".join([word] * count) + suffix\n",
    "\n",
    "    return re.sub(r'(\\w+)(\\d+)(-\\w+)?', replace_match, text)\n",
    "\n",
    "def clean_text(text):\n",
    "    text = text.lower()\n",
    "    text = re.sub(r'http\\S+|www\\S+', '', text)\n",
    "    text = re.sub(r'<.*?>', '', text)\n",
    "    text = emoji.replace_emoji(text, \"\")\n",
    "    text = text.encode(\"ascii\", \"ignore\").decode()\n",
    "\n",
    "    text = expand_repeated_words(text)\n",
    "    \n",
    "    text = re.sub(r'\\b[\\w\\d]*[^\\w\\s][\\w\\d]*\\b', '', text)  # kayak \"b@gus\", \"gpp!!\", \"zxcv123!\"\n",
    "\n",
    "\n",
    "    # Menghapus kata yang muncul lebih dari dua kali berturut-turut\n",
    "    text = re.sub(r'\\b(\\w+)(?: \\1\\b){2,}', '', text)\n",
    "\n",
    "    # Menghapus tanda baca berulang\n",
    "    text = re.sub(r'([.,!?])\\1+', r'\\1', text)\n",
    "\n",
    "    # Ganti titik berulang \"..\" atau \"...\" menjadi satu spasi\n",
    "    text = re.sub(r'\\.{2,}', ' ', text)\n",
    "\n",
    "    # Menghapus karakter yang berulang lebih dari 2x berturut-turut\n",
    "    text = re.sub(r'(.)\\1{2,}', r'\\1', text)\n",
    "\n",
    "    # Hapus tanda baca kecuali titik, koma, dan tanda tanya\n",
    "    text = re.sub(r'[^\\w\\s.,?]', '', text)\n",
    "\n",
    "    # Tambahkan spasi sebelum dan sesudah tanda baca jika belum ada\n",
    "    text = re.sub(r'(?<!\\s)([.,?])', r' \\1 ', text)\n",
    "    text = re.sub(r'([.,?])(?!\\s)', r'\\1 ', text)\n",
    "\n",
    "    # Menghapus spasi ganda\n",
    "    text = re.sub(r'\\s+', ' ', text).strip()\n",
    "\n",
    "    # **Perbaikan: Gunakan set untuk menghapus kata yang berulang dalam paragraf**\n",
    "    words = text.split()\n",
    "    seen = set()\n",
    "    text = \" \".join([word for word in words if not (word in seen or seen.add(word))])\n",
    "\n",
    "    # **Perbaikan: Batasi penghapusan kata yang terlalu panjang**\n",
    "    text = \" \".join([word for word in text.split() if len(word) <= 15])\n",
    "\n",
    "    # **Perbaikan: Hapus kata tanpa vokal hanya jika lebih dari 3 huruf**\n",
    "    text = \" \".join([word for word in text.split() if len(word) <= 3 or re.search(r'[aeiou]', word, re.IGNORECASE)])\n",
    "\n",
    "    # **Perbaikan: Hapus gibberish hanya jika ada pengulangan >5x**\n",
    "    text = re.sub(r'\\b(\\w*(\\w)\\2{5,}\\w*)\\b', '', text)\n",
    "\n",
    "    return text\n"
   ]
  },
  {
   "cell_type": "markdown",
   "id": "c3e6ce67",
   "metadata": {},
   "source": [
    "## data normalizing"
   ]
  },
  {
   "cell_type": "code",
   "execution_count": 104,
   "id": "b429ab85",
   "metadata": {},
   "outputs": [],
   "source": [
    "import pandas as pd\n",
    "import json\n",
    "import re\n",
    "from typing import Dict\n",
    "\n",
    "# Load kamus normalisasi dari file JSON\n",
    "with open(r'D:\\Randy\\semester 6 Randy\\PK\\kamus singkatan\\kamus_singkatan_v2.json', 'r', encoding='utf-8') as f:\n",
    "    normalization_dict = json.load(f)\n",
    "\n",
    "# Optimalkan kamus untuk handle case\n",
    "normalization_dict = {k.lower(): v for k, v in normalization_dict.items()}  # Standardisasi keys ke lowercase\n",
    "\n",
    "def normalize_text(\n",
    "    text: str,\n",
    "    normalization_dict: Dict[str, str],\n",
    "    aggressive: bool = False,\n",
    "    preserve_case: bool = True  # Parameter baru untuk pertahankan kapitalisasi\n",
    ") -> str:\n",
    "    \"\"\"\n",
    "    Versi lebih robust untuk normalisasi teks.\n",
    "    \n",
    "    Args:\n",
    "        text: Teks input\n",
    "        normalization_dict: Kamus normalisasi (keys sudah lowercase)\n",
    "        aggressive: Jika True, lakukan normalisasi lebih intensif\n",
    "        preserve_case: Jika True, pertahankan kapitalisasi alami\n",
    "    \"\"\"\n",
    "    # Tokenisasi cerdas yang menangani berbagai kasus\n",
    "    words = re.findall(r\"\\w+[\\w'-]*|[\\.,!?]\", text)\n",
    "    \n",
    "    normalized_words = []\n",
    "    for word in words:\n",
    "        original_word = word\n",
    "        \n",
    "        # Handle case untuk pencarian kamus\n",
    "        lookup_word = word.lower() if not preserve_case else word\n",
    "        \n",
    "        # Cek apakah kata perlu dinormalisasi\n",
    "        if lookup_word in normalization_dict:\n",
    "            normalized_word = normalization_dict[lookup_word]\n",
    "            \n",
    "            # Pertahankan kapitalisasi awal jika diperlukan\n",
    "            if preserve_case and word[0].isupper():\n",
    "                normalized_word = normalized_word.capitalize()\n",
    "        else:\n",
    "            normalized_word = word if preserve_case else word.lower()\n",
    "        \n",
    "        normalized_words.append(normalized_word)\n",
    "    \n",
    "    # Gabungkan dengan penanganan tanda baca\n",
    "    text = ' '.join(normalized_words)\n",
    "    text = re.sub(r'\\s+([.,!?])', r'\\1', text)  # Hapus spasi sebelum tanda baca\n",
    "    text = re.sub(r'([.,!?])(?!\\s|$)', r'\\1 ', text)  # Tambah spasi setelah\n",
    "    \n",
    "    return text.strip()\n",
    "\n"
   ]
  },
  {
   "cell_type": "markdown",
   "id": "eb7990d0",
   "metadata": {},
   "source": [
    "## data encoding"
   ]
  },
  {
   "cell_type": "code",
   "execution_count": 105,
   "id": "2bc544e3",
   "metadata": {},
   "outputs": [],
   "source": [
    "def encodeRating (score) :\n",
    "  if score >= 4 : return 1 #positif\n",
    "  else : return 0 #negatif\n",
    "  return score"
   ]
  },
  {
   "cell_type": "code",
   "execution_count": 106,
   "id": "699d2aa6",
   "metadata": {},
   "outputs": [],
   "source": [
    "def encodeRating2(sentiment):\n",
    "    return 1 if sentiment==\"Positive\" else 0  # 1 untuk positif dan 0 untuk negatif\n"
   ]
  },
  {
   "cell_type": "markdown",
   "id": "37831682",
   "metadata": {},
   "source": [
    "## data-preprocessing"
   ]
  },
  {
   "cell_type": "code",
   "execution_count": 107,
   "id": "1b88a105",
   "metadata": {},
   "outputs": [
    {
     "name": "stdout",
     "output_type": "stream",
     "text": [
      "<class 'pandas.core.frame.DataFrame'>\n",
      "Index: 5305 entries, 0 to 5399\n",
      "Data columns (total 2 columns):\n",
      " #   Column     Non-Null Count  Dtype \n",
      "---  ------     --------------  ----- \n",
      " 0   text       5305 non-null   object\n",
      " 1   sentiment  5305 non-null   object\n",
      "dtypes: object(2)\n",
      "memory usage: 124.3+ KB\n"
     ]
    }
   ],
   "source": [
    "df3.info()"
   ]
  },
  {
   "cell_type": "code",
   "execution_count": 108,
   "id": "bccb4a0b",
   "metadata": {},
   "outputs": [
    {
     "name": "stdout",
     "output_type": "stream",
     "text": [
      "<class 'pandas.core.frame.DataFrame'>\n",
      "Index: 4443 entries, 0 to 5425\n",
      "Data columns (total 2 columns):\n",
      " #   Column  Non-Null Count  Dtype \n",
      "---  ------  --------------  ----- \n",
      " 0   text    4443 non-null   object\n",
      " 1   rating  4443 non-null   int64 \n",
      "dtypes: int64(1), object(1)\n",
      "memory usage: 104.1+ KB\n"
     ]
    }
   ],
   "source": [
    "df2.info()"
   ]
  },
  {
   "cell_type": "code",
   "execution_count": 109,
   "id": "b9203a33",
   "metadata": {},
   "outputs": [
    {
     "name": "stdout",
     "output_type": "stream",
     "text": [
      "<class 'pandas.core.frame.DataFrame'>\n",
      "Index: 1858 entries, 0 to 1923\n",
      "Data columns (total 2 columns):\n",
      " #   Column     Non-Null Count  Dtype \n",
      "---  ------     --------------  ----- \n",
      " 0   text       1858 non-null   object\n",
      " 1   sentiment  1858 non-null   int64 \n",
      "dtypes: int64(1), object(1)\n",
      "memory usage: 43.5+ KB\n"
     ]
    }
   ],
   "source": [
    "df1.info()"
   ]
  },
  {
   "cell_type": "code",
   "execution_count": 110,
   "id": "c823c88f",
   "metadata": {},
   "outputs": [
    {
     "name": "stdout",
     "output_type": "stream",
     "text": [
      "<class 'pandas.core.frame.DataFrame'>\n",
      "Index: 35539 entries, 0 to 40606\n",
      "Data columns (total 2 columns):\n",
      " #   Column  Non-Null Count  Dtype \n",
      "---  ------  --------------  ----- \n",
      " 0   text    35539 non-null  object\n",
      " 1   rating  35539 non-null  int64 \n",
      "dtypes: int64(1), object(1)\n",
      "memory usage: 832.9+ KB\n"
     ]
    }
   ],
   "source": [
    "df4.info()"
   ]
  },
  {
   "cell_type": "code",
   "execution_count": 111,
   "id": "fbca9748",
   "metadata": {},
   "outputs": [],
   "source": [
    "df2['rating'] = df2['rating'].apply(encodeRating)\n",
    "df4['rating'] = df4['rating'].apply(encodeRating)"
   ]
  },
  {
   "cell_type": "code",
   "execution_count": 112,
   "id": "db7a6545",
   "metadata": {},
   "outputs": [
    {
     "name": "stdout",
     "output_type": "stream",
     "text": [
      "rating\n",
      "1    34628\n",
      "0      911\n",
      "Name: count, dtype: int64\n",
      "rating\n",
      "1    4325\n",
      "0     118\n",
      "Name: count, dtype: int64\n"
     ]
    }
   ],
   "source": [
    "lis = [df4['rating'].value_counts(),\n",
    "df2['rating'].value_counts()]\n",
    "\n",
    "for element in lis :\n",
    "    print(element)"
   ]
  },
  {
   "cell_type": "code",
   "execution_count": 113,
   "id": "40ad0741",
   "metadata": {},
   "outputs": [
    {
     "data": {
      "text/plain": [
       "sentiment\n",
       "Negative    2752\n",
       "Positive    2553\n",
       "Name: count, dtype: int64"
      ]
     },
     "execution_count": 113,
     "metadata": {},
     "output_type": "execute_result"
    }
   ],
   "source": [
    "df3['sentiment'].value_counts()"
   ]
  },
  {
   "cell_type": "code",
   "execution_count": 114,
   "id": "a7e9cc86",
   "metadata": {},
   "outputs": [],
   "source": [
    "df3['sentiment']=df3['sentiment'].apply(encodeRating2)"
   ]
  },
  {
   "cell_type": "code",
   "execution_count": 115,
   "id": "24ed464b",
   "metadata": {},
   "outputs": [
    {
     "data": {
      "text/plain": [
       "sentiment\n",
       "1    943\n",
       "0    915\n",
       "Name: count, dtype: int64"
      ]
     },
     "execution_count": 115,
     "metadata": {},
     "output_type": "execute_result"
    }
   ],
   "source": [
    "df1['sentiment'].value_counts()"
   ]
  },
  {
   "cell_type": "code",
   "execution_count": 116,
   "id": "1111b9a3",
   "metadata": {},
   "outputs": [],
   "source": [
    "# df5_6 = pd.concat([df5,df6],ignore_index=True)"
   ]
  },
  {
   "cell_type": "code",
   "execution_count": 117,
   "id": "f5f615f2",
   "metadata": {},
   "outputs": [],
   "source": [
    "# df5_6['text']=df5_6['text'].apply(extract_quotes)"
   ]
  },
  {
   "cell_type": "code",
   "execution_count": 118,
   "id": "70ba7622",
   "metadata": {},
   "outputs": [],
   "source": [
    "# df5_6.info()"
   ]
  },
  {
   "cell_type": "code",
   "execution_count": 119,
   "id": "742ebd71",
   "metadata": {},
   "outputs": [],
   "source": [
    "# df5_6.head()"
   ]
  },
  {
   "cell_type": "code",
   "execution_count": 120,
   "id": "cf6ecbde",
   "metadata": {},
   "outputs": [],
   "source": [
    "# df5_6['text']=df5_6['text'].apply(clean_text)"
   ]
  },
  {
   "cell_type": "code",
   "execution_count": 121,
   "id": "bd07b021",
   "metadata": {},
   "outputs": [],
   "source": [
    "# df5_6['text'].head(10)"
   ]
  },
  {
   "cell_type": "code",
   "execution_count": 122,
   "id": "519648a2",
   "metadata": {},
   "outputs": [],
   "source": [
    "df2.rename(columns={\n",
    "    'rating':'sentiment'\n",
    "},inplace=True)\n",
    "df4.rename(columns={\n",
    "    'rating':'sentiment'\n",
    "},inplace=True)"
   ]
  },
  {
   "cell_type": "code",
   "execution_count": 123,
   "id": "37a7bde5",
   "metadata": {},
   "outputs": [],
   "source": [
    "gabungan = pd.concat([df1,df2,df3,df4],ignore_index=True)"
   ]
  },
  {
   "cell_type": "code",
   "execution_count": 124,
   "id": "7cff9cbb",
   "metadata": {},
   "outputs": [
    {
     "name": "stdout",
     "output_type": "stream",
     "text": [
      "<class 'pandas.core.frame.DataFrame'>\n",
      "RangeIndex: 47145 entries, 0 to 47144\n",
      "Data columns (total 2 columns):\n",
      " #   Column     Non-Null Count  Dtype \n",
      "---  ------     --------------  ----- \n",
      " 0   text       47145 non-null  object\n",
      " 1   sentiment  47145 non-null  int64 \n",
      "dtypes: int64(1), object(1)\n",
      "memory usage: 736.8+ KB\n"
     ]
    }
   ],
   "source": [
    "gabungan.info()"
   ]
  },
  {
   "cell_type": "code",
   "execution_count": 125,
   "id": "e0aaed27",
   "metadata": {},
   "outputs": [],
   "source": [
    "gabungan['text']=gabungan['text'].apply(clean_text)"
   ]
  },
  {
   "cell_type": "code",
   "execution_count": 126,
   "id": "8ee84575",
   "metadata": {},
   "outputs": [],
   "source": [
    "gabungan['text'] = gabungan['text'].apply(lambda x: np.nan if isinstance(x, str) and len(x.strip()) == 0 else x)"
   ]
  },
  {
   "cell_type": "code",
   "execution_count": 127,
   "id": "e005f7ab",
   "metadata": {},
   "outputs": [],
   "source": [
    "gabungan.dropna(subset='text',inplace=True)"
   ]
  },
  {
   "cell_type": "code",
   "execution_count": 128,
   "id": "ea6ca93c",
   "metadata": {},
   "outputs": [],
   "source": [
    "gabungan_text=gabungan['text']"
   ]
  },
  {
   "cell_type": "code",
   "execution_count": 129,
   "id": "5e969ff4",
   "metadata": {},
   "outputs": [],
   "source": [
    "gabungan_text.to_csv('dataset_text_untuk_pretrain_singkatan_SA-v1.csv',index=True)"
   ]
  },
  {
   "cell_type": "code",
   "execution_count": 130,
   "id": "862be2c7",
   "metadata": {},
   "outputs": [],
   "source": [
    "# # Contoh penggunaan:\n",
    "# gabungan['text'] = gabungan['text'].apply(\n",
    "#     lambda x: normalize_text(\n",
    "#         str(x),  # Pastikan string\n",
    "#         normalization_dict,\n",
    "#         aggressive=True,\n",
    "#         preserve_case=True  # Pertahankan kapitalisasi penting\n",
    "#     )\n",
    "# )"
   ]
  },
  {
   "cell_type": "code",
   "execution_count": 131,
   "id": "4020802f",
   "metadata": {},
   "outputs": [],
   "source": [
    "# # Contoh penggunaan:\n",
    "# df5_6['text'] = df5_6['text'].apply(\n",
    "#     lambda x: normalize_text(\n",
    "#         str(x),  # Pastikan string\n",
    "#         normalization_dict,\n",
    "#         aggressive=True,\n",
    "#         preserve_case=True  # Pertahankan kapitalisasi penting\n",
    "#     )\n",
    "# )"
   ]
  },
  {
   "cell_type": "code",
   "execution_count": 132,
   "id": "aaee81a9",
   "metadata": {},
   "outputs": [],
   "source": [
    "gabungan['text'] = gabungan['text'].apply(lambda x: np.nan if isinstance(x, str) and len(x.strip()) == 0 else x)"
   ]
  },
  {
   "cell_type": "code",
   "execution_count": 133,
   "id": "8dfd1b05",
   "metadata": {},
   "outputs": [],
   "source": [
    "# df5_6['text'] = df5_6['text'].apply(lambda x: np.nan if isinstance(x, str) and len(x.strip()) == 0 else x)"
   ]
  },
  {
   "cell_type": "code",
   "execution_count": 134,
   "id": "3a27eaa2",
   "metadata": {},
   "outputs": [
    {
     "data": {
      "text/plain": [
       "text         0\n",
       "sentiment    0\n",
       "dtype: int64"
      ]
     },
     "execution_count": 134,
     "metadata": {},
     "output_type": "execute_result"
    }
   ],
   "source": [
    "gabungan.isna().sum()"
   ]
  },
  {
   "cell_type": "code",
   "execution_count": 135,
   "id": "345a58cf",
   "metadata": {},
   "outputs": [],
   "source": [
    "# df5_6.isna().sum()"
   ]
  },
  {
   "cell_type": "code",
   "execution_count": 136,
   "id": "dfdb5667",
   "metadata": {},
   "outputs": [],
   "source": [
    "gabungan.dropna(inplace=True)"
   ]
  },
  {
   "cell_type": "code",
   "execution_count": 137,
   "id": "362c83ea",
   "metadata": {},
   "outputs": [],
   "source": [
    "# df5_6.dropna(inplace=True)"
   ]
  },
  {
   "cell_type": "markdown",
   "id": "5a462130",
   "metadata": {},
   "source": [
    "# Exploratory data analysist"
   ]
  },
  {
   "cell_type": "code",
   "execution_count": 138,
   "id": "2be3b679",
   "metadata": {},
   "outputs": [
    {
     "name": "stderr",
     "output_type": "stream",
     "text": [
      "c:\\Users\\Randy\\AppData\\Local\\Programs\\Python\\Python312\\Lib\\site-packages\\torch\\utils\\_pytree.py:185: FutureWarning: optree is installed but the version is too old to support PyTorch Dynamo in C++ pytree. C++ pytree support is disabled. Please consider upgrading optree using `python3 -m pip install --upgrade 'optree>=0.13.0'`.\n",
      "  warnings.warn(\n"
     ]
    }
   ],
   "source": [
    "from transformers import AutoTokenizer\n",
    "import numpy as np\n",
    "from scipy import stats"
   ]
  },
  {
   "cell_type": "code",
   "execution_count": 139,
   "id": "26ed1111",
   "metadata": {},
   "outputs": [],
   "source": [
    "MODEL = 'indobenchmark/indobert-base-p2'\n",
    "tokenizer = AutoTokenizer.from_pretrained(MODEL)"
   ]
  },
  {
   "cell_type": "code",
   "execution_count": 140,
   "id": "9323c1ed",
   "metadata": {},
   "outputs": [],
   "source": [
    "def hitung_panjang (text) :\n",
    "    encoded_text = tokenizer.encode(text,add_special_tokens=True)\n",
    "    return len(encoded_text)"
   ]
  },
  {
   "cell_type": "code",
   "execution_count": 141,
   "id": "c1ab47be",
   "metadata": {},
   "outputs": [],
   "source": [
    "gabungan['token_len'] = gabungan['text'].apply(hitung_panjang)"
   ]
  },
  {
   "cell_type": "code",
   "execution_count": 142,
   "id": "37844b9c",
   "metadata": {},
   "outputs": [],
   "source": [
    "mean = gabungan['token_len'].mean()\n",
    "median = gabungan['token_len'].median()\n",
    "modus = stats.mode(np.array(gabungan['token_len']))\n",
    "min = gabungan['token_len'].min()\n",
    "max = gabungan['token_len'].max()"
   ]
  },
  {
   "cell_type": "code",
   "execution_count": 143,
   "id": "ce7ab8e4",
   "metadata": {},
   "outputs": [
    {
     "name": "stdout",
     "output_type": "stream",
     "text": [
      "12.311641282351689\n",
      "10.0\n",
      "ModeResult(mode=8, count=5083)\n",
      "3\n",
      "166\n"
     ]
    }
   ],
   "source": [
    "lis2 = [mean,median,modus,min,max]\n",
    "for x in lis2 :\n",
    "    print(x)"
   ]
  },
  {
   "cell_type": "code",
   "execution_count": 144,
   "id": "6306564a",
   "metadata": {},
   "outputs": [],
   "source": [
    "precentil_95 = np.percentile(gabungan['token_len'],95)"
   ]
  },
  {
   "cell_type": "code",
   "execution_count": 145,
   "id": "ef9d6ccf",
   "metadata": {},
   "outputs": [
    {
     "name": "stdout",
     "output_type": "stream",
     "text": [
      "28.0\n"
     ]
    }
   ],
   "source": [
    "print(precentil_95)"
   ]
  },
  {
   "cell_type": "code",
   "execution_count": 146,
   "id": "c27fa7ae",
   "metadata": {},
   "outputs": [
    {
     "data": {
      "image/png": "[encoded data removed]",
      "text/plain": [
       "<Figure size 1000x600 with 1 Axes>"
      ]
     },
     "metadata": {},
     "output_type": "display_data"
    }
   ],
   "source": [
    "import seaborn as sns\n",
    "import matplotlib.pyplot as plt\n",
    "\n",
    "plt.figure(figsize=(10, 6))\n",
    "sns.histplot(gabungan['token_len'], bins=30, kde=True, color='red')\n",
    "plt.title('Distribusi Panjang Token')\n",
    "plt.xlabel('Jumlah Token per Teks')\n",
    "plt.ylabel('Frekuensi')\n",
    "plt.grid(True)\n",
    "plt.show()\n"
   ]
  },
  {
   "cell_type": "code",
   "execution_count": 147,
   "id": "b83bc18b",
   "metadata": {},
   "outputs": [],
   "source": [
    "gabungan = gabungan[gabungan['token_len']<=100]\n",
    "gabungan = gabungan[gabungan['token_len']>=5]"
   ]
  },
  {
   "cell_type": "code",
   "execution_count": 148,
   "id": "72326b7a",
   "metadata": {},
   "outputs": [],
   "source": [
    "gabungan = gabungan[['text','sentiment']]"
   ]
  },
  {
   "cell_type": "code",
   "execution_count": 149,
   "id": "2bf392ae",
   "metadata": {},
   "outputs": [
    {
     "data": {
      "text/plain": [
       "sentiment\n",
       "1    40043\n",
       "0     4593\n",
       "Name: count, dtype: int64"
      ]
     },
     "execution_count": 149,
     "metadata": {},
     "output_type": "execute_result"
    }
   ],
   "source": [
    "gabungan['sentiment'].value_counts()"
   ]
  },
  {
   "cell_type": "markdown",
   "id": "b4dc3c03",
   "metadata": {},
   "source": [
    "# data augmentasi dan resampling"
   ]
  },
  {
   "cell_type": "code",
   "execution_count": 150,
   "id": "2b250172",
   "metadata": {},
   "outputs": [],
   "source": [
    "from sklearn.utils import resample\n",
    "\n",
    "# Pisahkan kelas mayoritas dan minoritas\n",
    "df_pos = gabungan[gabungan['sentiment'] == 1]\n",
    "df_neg = gabungan[gabungan['sentiment'] == 0]\n",
    "\n",
    "# Downsample positif (1) jadi 6000 row\n",
    "df_pos_downsampled = resample(df_pos,\n",
    "                              replace=False,       # tanpa duplikasi\n",
    "                              n_samples=6500,  # samain jumlahnya\n",
    "                              random_state=42)\n",
    "\n",
    "# Gabung ulang\n",
    "df_balanced = pd.concat([df_pos_downsampled, df_neg], ignore_index=True)\n"
   ]
  },
  {
   "cell_type": "code",
   "execution_count": 151,
   "id": "705ede94",
   "metadata": {},
   "outputs": [
    {
     "data": {
      "text/plain": [
       "sentiment\n",
       "1    6500\n",
       "0    4593\n",
       "Name: count, dtype: int64"
      ]
     },
     "execution_count": 151,
     "metadata": {},
     "output_type": "execute_result"
    }
   ],
   "source": [
    "df_balanced['sentiment'].value_counts()"
   ]
  },
  {
   "cell_type": "code",
   "execution_count": 152,
   "id": "d0aa574c",
   "metadata": {},
   "outputs": [
    {
     "data": {
      "application/vnd.microsoft.datawrangler.viewer.v0+json": {
       "columns": [
        {
         "name": "index",
         "rawType": "int64",
         "type": "integer"
        },
        {
         "name": "text",
         "rawType": "object",
         "type": "string"
        },
        {
         "name": "sentiment",
         "rawType": "int64",
         "type": "integer"
        }
       ],
       "conversionMethod": "pd.DataFrame",
       "ref": "87face16-ef59-44d7-b1bf-729b78bff069",
       "rows": [
        [
         "0",
         "barang sesuai dengan pesanan , pelayanan memuaskan moga awet barangnya terima kasih .",
         "1"
        ],
        [
         "1",
         "celananya bagus pelayanannya juga cepat",
         "1"
        ],
        [
         "2",
         "thankyu gan .",
         "1"
        ],
        [
         "3",
         "barang cepat sampai dan sesuai , recommended seller",
         "1"
        ],
        [
         "4",
         "recommended seller .",
         "1"
        ],
        [
         "5",
         "woke . pengiriman cepat packing siip konco dewe mas bos hehehehe",
         "1"
        ],
        [
         "6",
         "barangnya bagus ori , keren recomded branded original store",
         "1"
        ],
        [
         "7",
         "sip . puas bgt bintang yg bicara",
         "1"
        ],
        [
         "8",
         "barang cepet bgt nyamoenya .",
         "1"
        ],
        [
         "9",
         "mantap . barang sudah sampe , pangsung jajal langsung hidup",
         "1"
        ],
        [
         "10",
         "barang bagus cuma kurang cocok",
         "1"
        ],
        [
         "11",
         "maaf , baru kasih ulasan . sudah saya coba barangnya mantap",
         "1"
        ],
        [
         "12",
         "terima kasih n maaf baru konfirmasi .",
         "1"
        ],
        [
         "13",
         "mantap sekali . bintang 5",
         "1"
        ],
        [
         "14",
         "tepat waktu sampainya , enteng dipakainya terimakasih bata",
         "1"
        ],
        [
         "15",
         "mantap gan . udah sesuai semuanya",
         "1"
        ],
        [
         "16",
         "seller fast respon . pengiriman super cepat",
         "1"
        ],
        [
         "17",
         "produknya barangnya juga recommend deh",
         "1"
        ],
        [
         "18",
         "sarung tinjunya bagus semenjak pakai sdh org saya tinju",
         "1"
        ],
        [
         "19",
         "mantap pesen keesokan kurirnya jne juga adminnya fast response",
         "1"
        ],
        [
         "20",
         "slim pake fit banget . mungkin kalo yang ini harus naikin 1x lagi tapi mantap kok bahan tebal dan harga sesuai",
         "1"
        ],
        [
         "21",
         "barang sudah kami terima . tq",
         "1"
        ],
        [
         "22",
         "barang cepat sampai dan respon",
         "1"
        ],
        [
         "23",
         "murah meriah mantap .",
         "1"
        ],
        [
         "24",
         "thankss .",
         "1"
        ],
        [
         "25",
         "barang sudah diterima dengan baik",
         "1"
        ],
        [
         "26",
         "ternyata kecil ya barangnya saya ga merhatiin ukurannya",
         "1"
        ],
        [
         "27",
         "produk original , sesuai deskripsi seller sangat responsif karena tdnya ada masalah dgn driver gosend nya . recommended sukses terus kak",
         "1"
        ],
        [
         "28",
         "pengiriman cepat , harga murah . bahan sesuai",
         "1"
        ],
        [
         "29",
         "pengiriman cpt , barang aman tp blm di coba",
         "1"
        ],
        [
         "30",
         "belum sy pasang , mdh mdhan memuaskan",
         "1"
        ],
        [
         "31",
         "makasih barang sudah sampai",
         "1"
        ],
        [
         "32",
         "berfungsi dengan baik mantap",
         "1"
        ],
        [
         "33",
         "barangnya udah sampai dan sesuai dengan yg dipesan . mantap",
         "1"
        ],
        [
         "34",
         "sesuai gan . terima kasih yaa",
         "1"
        ],
        [
         "35",
         "mantabs . jeduukk",
         "1"
        ],
        [
         "36",
         "good joob barang yang dipesan sesuai dan waktu pengirimannya juga . pertahankan terus performance ini thank",
         "1"
        ],
        [
         "37",
         "barang oke . recomended seller dah",
         "1"
        ],
        [
         "38",
         "bagus banget untuk harga yang semurah ini",
         "1"
        ],
        [
         "39",
         "barang mantab tapi belum dicoba pakai main ehehe , bungkus kurang oke krn ada sobek . okelah",
         "1"
        ],
        [
         "40",
         "respon cepat , pengiriman packaging aman . barang sesuai deskripsi pembelian kedua kalinya recommended seller",
         "1"
        ],
        [
         "41",
         "puas banget , bagus makasih ya",
         "1"
        ],
        [
         "42",
         "sesuai deskripsi , maaf telat kasih ulasan . tks seller n tokopedia",
         "1"
        ],
        [
         "43",
         "barang sudah diterima , terima kasih banyak .",
         "1"
        ],
        [
         "44",
         "barang terbaik , proses cepat packing lumayan",
         "1"
        ],
        [
         "45",
         "respon sellernya cepet banget , malem aja diladenin . dikasih panduan install pula bwt yg pemula pasti kebantu mantaapp gan",
         "1"
        ],
        [
         "46",
         "sesuai deskripsi sangat memuaskan walaupun agak kegedean",
         "1"
        ],
        [
         "47",
         "produk ori . habis scan barcode juga fast respond , dan admin nya sgt membantu",
         "1"
        ],
        [
         "48",
         "bagus . dr logam smoga awet",
         "1"
        ],
        [
         "49",
         "barang mantab , sesuai pesanan",
         "1"
        ]
       ],
       "shape": {
        "columns": 2,
        "rows": 6500
       }
      },
      "text/html": [
       "<div>\n",
       "<style scoped>\n",
       "    .dataframe tbody tr th:only-of-type {\n",
       "        vertical-align: middle;\n",
       "    }\n",
       "\n",
       "    .dataframe tbody tr th {\n",
       "        vertical-align: top;\n",
       "    }\n",
       "\n",
       "    .dataframe thead th {\n",
       "        text-align: right;\n",
       "    }\n",
       "</style>\n",
       "<table border=\"1\" class=\"dataframe\">\n",
       "  <thead>\n",
       "    <tr style=\"text-align: right;\">\n",
       "      <th></th>\n",
       "      <th>text</th>\n",
       "      <th>sentiment</th>\n",
       "    </tr>\n",
       "  </thead>\n",
       "  <tbody>\n",
       "    <tr>\n",
       "      <th>0</th>\n",
       "      <td>barang sesuai dengan pesanan , pelayanan memua...</td>\n",
       "      <td>1</td>\n",
       "    </tr>\n",
       "    <tr>\n",
       "      <th>1</th>\n",
       "      <td>celananya bagus pelayanannya juga cepat</td>\n",
       "      <td>1</td>\n",
       "    </tr>\n",
       "    <tr>\n",
       "      <th>2</th>\n",
       "      <td>thankyu gan .</td>\n",
       "      <td>1</td>\n",
       "    </tr>\n",
       "    <tr>\n",
       "      <th>3</th>\n",
       "      <td>barang cepat sampai dan sesuai , recommended s...</td>\n",
       "      <td>1</td>\n",
       "    </tr>\n",
       "    <tr>\n",
       "      <th>4</th>\n",
       "      <td>recommended seller .</td>\n",
       "      <td>1</td>\n",
       "    </tr>\n",
       "    <tr>\n",
       "      <th>...</th>\n",
       "      <td>...</td>\n",
       "      <td>...</td>\n",
       "    </tr>\n",
       "    <tr>\n",
       "      <th>6495</th>\n",
       "      <td>produk sesuai pesanan , respond dan pengiriman...</td>\n",
       "      <td>1</td>\n",
       "    </tr>\n",
       "    <tr>\n",
       "      <th>6496</th>\n",
       "      <td>barang cepat sampai , packing sangat baik dan ...</td>\n",
       "      <td>1</td>\n",
       "    </tr>\n",
       "    <tr>\n",
       "      <th>6497</th>\n",
       "      <td>mantap . sangat agresif proses cepat recommended</td>\n",
       "      <td>1</td>\n",
       "    </tr>\n",
       "    <tr>\n",
       "      <th>6498</th>\n",
       "      <td>terimakasih ya kak .</td>\n",
       "      <td>1</td>\n",
       "    </tr>\n",
       "    <tr>\n",
       "      <th>6499</th>\n",
       "      <td>udah nyampai . bintang 4 dulu , blum di uji co...</td>\n",
       "      <td>1</td>\n",
       "    </tr>\n",
       "  </tbody>\n",
       "</table>\n",
       "<p>6500 rows × 2 columns</p>\n",
       "</div>"
      ],
      "text/plain": [
       "                                                   text  sentiment\n",
       "0     barang sesuai dengan pesanan , pelayanan memua...          1\n",
       "1               celananya bagus pelayanannya juga cepat          1\n",
       "2                                         thankyu gan .          1\n",
       "3     barang cepat sampai dan sesuai , recommended s...          1\n",
       "4                                  recommended seller .          1\n",
       "...                                                 ...        ...\n",
       "6495  produk sesuai pesanan , respond dan pengiriman...          1\n",
       "6496  barang cepat sampai , packing sangat baik dan ...          1\n",
       "6497   mantap . sangat agresif proses cepat recommended          1\n",
       "6498                               terimakasih ya kak .          1\n",
       "6499  udah nyampai . bintang 4 dulu , blum di uji co...          1\n",
       "\n",
       "[6500 rows x 2 columns]"
      ]
     },
     "execution_count": 152,
     "metadata": {},
     "output_type": "execute_result"
    }
   ],
   "source": [
    "df_balanced[df_balanced['sentiment']==1] # 0 harusnya negatif"
   ]
  },
  {
   "cell_type": "code",
   "execution_count": 153,
   "id": "f630286d",
   "metadata": {},
   "outputs": [],
   "source": [
    "# df5_6.info()"
   ]
  },
  {
   "cell_type": "code",
   "execution_count": 154,
   "id": "d3ee2bbc",
   "metadata": {},
   "outputs": [],
   "source": [
    "# df5_6"
   ]
  },
  {
   "cell_type": "code",
   "execution_count": 155,
   "id": "0e6cc4f3",
   "metadata": {},
   "outputs": [
    {
     "name": "stdout",
     "output_type": "stream",
     "text": [
      "<class 'pandas.core.frame.DataFrame'>\n",
      "RangeIndex: 11093 entries, 0 to 11092\n",
      "Data columns (total 2 columns):\n",
      " #   Column     Non-Null Count  Dtype \n",
      "---  ------     --------------  ----- \n",
      " 0   text       11093 non-null  object\n",
      " 1   sentiment  11093 non-null  int64 \n",
      "dtypes: int64(1), object(1)\n",
      "memory usage: 173.5+ KB\n"
     ]
    }
   ],
   "source": [
    "df_balanced.info()"
   ]
  },
  {
   "cell_type": "code",
   "execution_count": 156,
   "id": "50200b56",
   "metadata": {},
   "outputs": [],
   "source": [
    "# df_balanced = pd.concat([df_balanced,df5_6],ignore_index=True)"
   ]
  },
  {
   "cell_type": "code",
   "execution_count": 157,
   "id": "f2ff6e3a",
   "metadata": {},
   "outputs": [],
   "source": [
    "df_balanced = df_balanced.sample(frac=1,random_state=42).reset_index(drop=True)"
   ]
  },
  {
   "cell_type": "code",
   "execution_count": 158,
   "id": "3f619bcf",
   "metadata": {},
   "outputs": [
    {
     "name": "stdout",
     "output_type": "stream",
     "text": [
      "<class 'pandas.core.frame.DataFrame'>\n",
      "RangeIndex: 11093 entries, 0 to 11092\n",
      "Data columns (total 2 columns):\n",
      " #   Column     Non-Null Count  Dtype \n",
      "---  ------     --------------  ----- \n",
      " 0   text       11093 non-null  object\n",
      " 1   sentiment  11093 non-null  int64 \n",
      "dtypes: int64(1), object(1)\n",
      "memory usage: 173.5+ KB\n"
     ]
    }
   ],
   "source": [
    "df_balanced.info()"
   ]
  },
  {
   "cell_type": "code",
   "execution_count": 159,
   "id": "0a8d066a",
   "metadata": {},
   "outputs": [],
   "source": [
    "df_balanced.to_csv('dataset-sentimen-analisis-unnormalized-v6.csv',index=False)"
   ]
  },
  {
   "cell_type": "code",
   "execution_count": 160,
   "id": "65ab3c90",
   "metadata": {},
   "outputs": [
    {
     "data": {
      "application/vnd.microsoft.datawrangler.viewer.v0+json": {
       "columns": [
        {
         "name": "index",
         "rawType": "int64",
         "type": "integer"
        },
        {
         "name": "text",
         "rawType": "object",
         "type": "string"
        },
        {
         "name": "sentiment",
         "rawType": "int64",
         "type": "integer"
        }
       ],
       "conversionMethod": "pd.DataFrame",
       "ref": "b6d237bb-d488-454c-9bff-ce9af80da1e5",
       "rows": [
        [
         "0",
         "baru dicoba . bisa bersih tanpa harus basahin sepatu yeay",
         "1"
        ],
        [
         "1",
         "packing hanya buble wrap , lain kali tambahkan kardus . komunikasikan pengiriman dengan jelas biar tidak repot masa dikirim terpisah case nya mana ngga instan dan bisa dicancel",
         "0"
        ],
        [
         "2",
         "mantap . sesuai deskripsi",
         "1"
        ],
        [
         "3",
         "barangnya rusak . kecewa berat",
         "0"
        ],
        [
         "4",
         "barangg sudah diterima , packaging baik cukup memuaskan",
         "1"
        ],
        [
         "5",
         "sudah diterima . makasih",
         "1"
        ],
        [
         "6",
         "barang sampenya lama . box diterima dalam kondisi yang sudah rusak padahal mau buat kado",
         "0"
        ],
        [
         "7",
         "dikirim no 7 . seandainya 4 pasti pas di kaki walaupun pakai kaos ini tanpa sudah sempit sekali",
         "1"
        ],
        [
         "8",
         "barang sudah sampai , respon cpat lumayan gan",
         "0"
        ],
        [
         "9",
         "bagus ty recommended seller",
         "1"
        ],
        [
         "10",
         "bagian magnet perekat tidak melekat dengan sempurna , jadinya ketika ditempel lampunya jatuh cukup kecewa karena wadahnya ga kuat jdnya buat rusak lampu kalau kelantai",
         "0"
        ],
        [
         "11",
         "lumayan , tapi kalau dipake jalan jauh suka lecet pas jepit jempol dan kaki telunjuk terasa sakit",
         "0"
        ],
        [
         "12",
         "pembelian kesekian kalinya dan biasanya dikemas pake kardus tapi yang dikirim cuma bubble wrap pecah lagi . ajukan barang rusak katanya bukan kesalahan toko pas dicek masa patahannya serpihannya kurang saya coba satuin ada bagian memang ngak apa di pengiriman mereka buka terus diganti gitu ?",
         "0"
        ],
        [
         "13",
         "earphone yg satunya ga bunyi",
         "0"
        ],
        [
         "14",
         "udah langganan beli d tamagoo , baru tau ad toped jg . bahan tebal tp syg warnanya cm hitam n putih cb lbh beragam semoga awet thanks",
         "1"
        ],
        [
         "15",
         "udah sering belanja disini . pesanan sesuai seller komunikatif expired makanannya masih lama pengiriman jg cepat makasih",
         "1"
        ],
        [
         "16",
         "mending jangan di beli habisin duit lagi lengket sama sekali",
         "0"
        ],
        [
         "17",
         "penjual cepat barang sesuai",
         "1"
        ],
        [
         "18",
         "speaker tlponnya rusak loh gan . makasih",
         "0"
        ],
        [
         "19",
         "barang sudah diterima dengan cepat . kualitas bintang 5",
         "1"
        ],
        [
         "20",
         "produk rusak sama sekali",
         "0"
        ],
        [
         "21",
         "paket diterima , ad sedikit cacat di bagian gagang disebabkn bungkus pecah . yg lain gk masalah terimakasih mudh mudhan usaha makin laris dan lancar pelayanan semakin baik",
         "0"
        ],
        [
         "22",
         "respon lama , seller tdk komunikatif",
         "0"
        ],
        [
         "23",
         "sablonan tidak bagus . klo dicuci nempel",
         "0"
        ],
        [
         "24",
         "saya beli 5 . yg 2 ada kabel charger 3 lagi tidak jadi gimana ?",
         "0"
        ],
        [
         "25",
         "mantap nih produk semoga aweett",
         "1"
        ],
        [
         "26",
         "makasih barang sudah sampe , dan sesuai pesanan",
         "1"
        ],
        [
         "27",
         "kecil tipis dan kualitas jahit buruk",
         "0"
        ],
        [
         "28",
         "barang sesuai dg yg di pesan dan packing aman",
         "1"
        ],
        [
         "29",
         "oke makasih barang saya udah sampai",
         "0"
        ],
        [
         "30",
         "toko tidak mengirim mengirimkan barang smpai gagal pickup 3x entah apa yg membuat kendala , admin sangat profesional mmg pada gak bener saya jg tdk tahu yang jelas semua berbelit dan pesan hari minggu dikirim rabu ini official store tapi sepertinya perlu dipertimbangkan lagi krna pelayanan baik . para pekerjanya gk bungkus juga cm kardus doang tanpa dilapis apapun",
         "0"
        ],
        [
         "31",
         "ori barangnya , ukuran juga pas . okelah overall",
         "1"
        ],
        [
         "32",
         "respon cpt , kemasan baguslah brang sesuai pesanan",
         "1"
        ],
        [
         "33",
         "sudah diterima . semoga barangnya awet dan sukses terus buat agan",
         "1"
        ],
        [
         "34",
         "gan , jam sudah mendarat lg dgn aman mantap",
         "1"
        ],
        [
         "35",
         "produk yang diterima sesuai dengan tertera pada deskripsi . bahan kuat dan tidak rentan debu atau kotoran juga dapat berfungsi baik saat digunakan indoor ataupun outdoor penjual sangat cepat menjawab pertanyaan saya selama proses transaksi senang berbelanja di toko ini",
         "1"
        ],
        [
         "36",
         "puas bgt belanja jus disini pengiriman rapi dan cepat , seller sgt ramah selalu membalasa chat dgn . hrg pun murah pokoknya pelayanannya bagus rekomen beli",
         "1"
        ],
        [
         "37",
         "barang mau saya refund karena di hp gak cukup . eh malah jawab seller alamat lengkap komplain",
         "0"
        ],
        [
         "38",
         "kemasan belum baik . saat sampai kardus pada earphone sudah peot dan terbuka request warna dari cream jadi hitam",
         "0"
        ],
        [
         "39",
         "kurang respon kalau ada kendala barang nya kedepan coba pelayanan lebih mantap lagi",
         "0"
        ],
        [
         "40",
         "barang tidak ada dalam paket",
         "0"
        ],
        [
         "41",
         "barang tiba dengan baik . thanks",
         "1"
        ],
        [
         "42",
         "barang tak terkirim , tpi udah refund kok",
         "0"
        ],
        [
         "43",
         "terima kasih paket sudah sampai dengan di pasang langsung cocok .",
         "1"
        ],
        [
         "44",
         "bahannya plastik jelek , suaranya kecil banget lampunya jg gk terlalu terang bru dimainin udah patah",
         "0"
        ],
        [
         "45",
         "trimakasih pesanan nya sudah sampai , nanti sy order lagi d tunggu saja",
         "1"
        ],
        [
         "46",
         "good service . super fast product",
         "1"
        ],
        [
         "47",
         "barang memuaskan , saya sangat puas dengan kualitas dan waktu pengiriman yang cepat .",
         "1"
        ],
        [
         "48",
         "order minggu sampainya rabu , lambat nya minta ampuun di tanyain baru info kalau overload orderan itupun selasa dikirim ga ada konfirmasi awal . tanggungjawab",
         "0"
        ],
        [
         "49",
         "barang sudah diterima . terima kasih",
         "1"
        ]
       ],
       "shape": {
        "columns": 2,
        "rows": 11093
       }
      },
      "text/html": [
       "<div>\n",
       "<style scoped>\n",
       "    .dataframe tbody tr th:only-of-type {\n",
       "        vertical-align: middle;\n",
       "    }\n",
       "\n",
       "    .dataframe tbody tr th {\n",
       "        vertical-align: top;\n",
       "    }\n",
       "\n",
       "    .dataframe thead th {\n",
       "        text-align: right;\n",
       "    }\n",
       "</style>\n",
       "<table border=\"1\" class=\"dataframe\">\n",
       "  <thead>\n",
       "    <tr style=\"text-align: right;\">\n",
       "      <th></th>\n",
       "      <th>text</th>\n",
       "      <th>sentiment</th>\n",
       "    </tr>\n",
       "  </thead>\n",
       "  <tbody>\n",
       "    <tr>\n",
       "      <th>0</th>\n",
       "      <td>baru dicoba . bisa bersih tanpa harus basahin ...</td>\n",
       "      <td>1</td>\n",
       "    </tr>\n",
       "    <tr>\n",
       "      <th>1</th>\n",
       "      <td>packing hanya buble wrap , lain kali tambahkan...</td>\n",
       "      <td>0</td>\n",
       "    </tr>\n",
       "    <tr>\n",
       "      <th>2</th>\n",
       "      <td>mantap . sesuai deskripsi</td>\n",
       "      <td>1</td>\n",
       "    </tr>\n",
       "    <tr>\n",
       "      <th>3</th>\n",
       "      <td>barangnya rusak . kecewa berat</td>\n",
       "      <td>0</td>\n",
       "    </tr>\n",
       "    <tr>\n",
       "      <th>4</th>\n",
       "      <td>barangg sudah diterima , packaging baik cukup ...</td>\n",
       "      <td>1</td>\n",
       "    </tr>\n",
       "    <tr>\n",
       "      <th>...</th>\n",
       "      <td>...</td>\n",
       "      <td>...</td>\n",
       "    </tr>\n",
       "    <tr>\n",
       "      <th>11088</th>\n",
       "      <td>packing bgs</td>\n",
       "      <td>1</td>\n",
       "    </tr>\n",
       "    <tr>\n",
       "      <th>11089</th>\n",
       "      <td>barang datang sesuai dengan gambar . pengirima...</td>\n",
       "      <td>1</td>\n",
       "    </tr>\n",
       "    <tr>\n",
       "      <th>11090</th>\n",
       "      <td>tanks .</td>\n",
       "      <td>1</td>\n",
       "    </tr>\n",
       "    <tr>\n",
       "      <th>11091</th>\n",
       "      <td>barangnya bagus dan sesuai</td>\n",
       "      <td>1</td>\n",
       "    </tr>\n",
       "    <tr>\n",
       "      <th>11092</th>\n",
       "      <td>barang yang dikirim tidak ada backlit sesuai d...</td>\n",
       "      <td>0</td>\n",
       "    </tr>\n",
       "  </tbody>\n",
       "</table>\n",
       "<p>11093 rows × 2 columns</p>\n",
       "</div>"
      ],
      "text/plain": [
       "                                                    text  sentiment\n",
       "0      baru dicoba . bisa bersih tanpa harus basahin ...          1\n",
       "1      packing hanya buble wrap , lain kali tambahkan...          0\n",
       "2                              mantap . sesuai deskripsi          1\n",
       "3                         barangnya rusak . kecewa berat          0\n",
       "4      barangg sudah diterima , packaging baik cukup ...          1\n",
       "...                                                  ...        ...\n",
       "11088                                        packing bgs          1\n",
       "11089  barang datang sesuai dengan gambar . pengirima...          1\n",
       "11090                                            tanks .          1\n",
       "11091                         barangnya bagus dan sesuai          1\n",
       "11092  barang yang dikirim tidak ada backlit sesuai d...          0\n",
       "\n",
       "[11093 rows x 2 columns]"
      ]
     },
     "execution_count": 160,
     "metadata": {},
     "output_type": "execute_result"
    }
   ],
   "source": [
    "df_balanced"
   ]
  },
  {
   "cell_type": "code",
   "execution_count": 161,
   "id": "62efae37",
   "metadata": {},
   "outputs": [],
   "source": [
    "# Load model dan tokenizer\n",
    "from transformers import AutoTokenizer, AutoModelForSequenceClassification, pipeline\n",
    "import torch\n",
    "\n",
    "# Load dari Hugging Face Hub\n",
    "model = AutoModelForSequenceClassification.from_pretrained(\"siRendy/indobert-analisis-sentimen-review-produk\")\n",
    "tokenizer = AutoTokenizer.from_pretrained(\"siRendy/indobert-analisis-sentimen-review-produk\")\n",
    "\n",
    "# Fungsi prediksi\n",
    "def predict_sentiment(text):\n",
    "    classifier = pipeline(\n",
    "        \"text-classification\",\n",
    "        model=model,\n",
    "        tokenizer=tokenizer,\n",
    "        device=0 if torch.cuda.is_available() else -1\n",
    "    )\n",
    "\n",
    "    result = classifier(text)[0]\n",
    "    return {\n",
    "        \"sentiment\": str(result[\"label\"]),\n",
    "        \"confidence\": round(result[\"score\"], 4)\n",
    "    }\n",
    "\n",
    "\n"
   ]
  },
  {
   "cell_type": "code",
   "execution_count": 162,
   "id": "5fb099e2",
   "metadata": {},
   "outputs": [
    {
     "name": "stderr",
     "output_type": "stream",
     "text": [
      "Device set to use cpu\n"
     ]
    },
    {
     "name": "stdout",
     "output_type": "stream",
     "text": [
      "{'sentiment': 'negatif', 'confidence': 0.9907}\n"
     ]
    }
   ],
   "source": [
    "# Contoh penggunaan\n",
    "text = \"produknya buruk tidak layak pakai\"\n",
    "prediction = predict_sentiment(text)\n",
    "print(prediction)"
   ]
  }
 ],
 "metadata": {
  "kernelspec": {
   "display_name": "Python 3",
   "language": "python",
   "name": "python3"
  },
  "language_info": {
   "codemirror_mode": {
    "name": "ipython",
    "version": 3
   },
   "file_extension": ".py",
   "mimetype": "text/x-python",
   "name": "python",
   "nbconvert_exporter": "python",
   "pygments_lexer": "ipython3",
   "version": "3.12.0"
  }
 },
 "nbformat": 4,
 "nbformat_minor": 5
}
